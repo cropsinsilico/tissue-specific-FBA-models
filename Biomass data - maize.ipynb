{
 "cells": [
  {
   "cell_type": "code",
   "execution_count": 1,
   "metadata": {},
   "outputs": [],
   "source": [
    "#import library\n",
    "from libsbml import readSBML\n",
    "from cobra import io\n",
    "from cobra.core import Metabolite\n",
    "from Functions import find_average\n",
    "\n",
    "#import sbml file\n",
    "model = io.sbml.create_cobra_model_from_sbml_file(\"/home/sanu/Documents/Scripts/git/plantcoremetabolism-model/PlantCoreMetabolism_v1_2_3.xml\")\n",
    "\n",
    "#change Biomass_tx to Protein_biomass\n",
    "rxn = model.reactions.get_by_id(\"Biomass_tx\")\n",
    "rxn.id = \"Protein_biomass_tx\"\n",
    "for met in [\"K_b\",\"Ca_b\",\"Mg_b\"]:\n",
    "    met  = model.metabolites.get_by_id(met)\n",
    "    coeff = rxn.metabolites.get(met)\n",
    "    rxn.add_metabolites({met:-1*coeff})\n",
    "met = Metabolite(\"Protein_b\",name=\"Protein_biomass\")\n",
    "formula_dict = rxn.check_mass_balance()\n",
    "met.formula = \"\".join([atom+str(formula_dict[atom]*-1) for atom in formula_dict.keys() if atom != \"charge\"])\n",
    "met.charge = formula_dict[\"charge\"]*-1\n",
    "rxn.add_metabolites({met:1})"
   ]
  },
  {
   "cell_type": "code",
   "execution_count": 2,
   "metadata": {},
   "outputs": [],
   "source": [
    "import pandas as pd\n",
    "biomass = pd.DataFrame(data={\"\":[\"sSUCROSE_b\",\"GLC_c\",\"FRU_c\",\"Starch_b\",\"Cellulose_b\",\"PALMITATE_c\",\n",
    "                                 \"L_PHOSPHATIDATE_p\",\"PHOSPHATIDYL_CHOLINE_r\",\n",
    "                                 \"L_1_PHOSPHATIDYL_ETHANOLAMINE_r\",\"DIACYLGLYCEROL_p\",\"Protein_b\",\"sMAL_b\",\n",
    "                                 \"sCIT_b\",\"sFUM_b\",\"ARG_c\",\"HIS_c\",\"LYS_c\",\"sASP_b\",\n",
    "                                 \"sGLU_b\",\"sSER_b\",\"THR_c\",\"ASN_c\",\"sGLN_b\",\"CYS_c\",\n",
    "                                 \"GLY_c\",\"PRO_c\",\"sALA_b\",\"VAL_c\",\"ILE_c\",\"LEU_c\",\n",
    "                                 \"MET_c\",\"PHE_c\",\"TYR_c\",\"TRP_c\",\"sGABA_b\"],\n",
    "                             \"leaf\":[0.0]*35,\"stem\":[0.0]*35,\"root\":[0.0]*35,\"seed\":[0.0]*35,},dtype=\"float64\")\n",
    "biomass = biomass.set_index(\"\")"
   ]
  },
  {
   "cell_type": "code",
   "execution_count": 3,
   "metadata": {},
   "outputs": [
    {
     "name": "stderr",
     "output_type": "stream",
     "text": [
      "cobra/core/metabolite.py:103 \u001b[1;31mUserWarning\u001b[0m: 17.2020450391 is not an integer (in formula C17.2020450391H25.9492553613O5.7497158698N4.9536245179S0.1420323181)\n",
      "cobra/core/metabolite.py:103 \u001b[1;31mUserWarning\u001b[0m: 25.9492553613 is not an integer (in formula C17.2020450391H25.9492553613O5.7497158698N4.9536245179S0.1420323181)\n",
      "cobra/core/metabolite.py:103 \u001b[1;31mUserWarning\u001b[0m: 5.7497158698 is not an integer (in formula C17.2020450391H25.9492553613O5.7497158698N4.9536245179S0.1420323181)\n",
      "cobra/core/metabolite.py:103 \u001b[1;31mUserWarning\u001b[0m: 4.9536245179 is not an integer (in formula C17.2020450391H25.9492553613O5.7497158698N4.9536245179S0.1420323181)\n",
      "cobra/core/metabolite.py:103 \u001b[1;31mUserWarning\u001b[0m: 0.1420323181 is not an integer (in formula C17.2020450391H25.9492553613O5.7497158698N4.9536245179S0.1420323181)\n"
     ]
    }
   ],
   "source": [
    "proteinMW = model.metabolites.get_by_id(\"Protein_b\").formula_weight"
   ]
  },
  {
   "cell_type": "markdown",
   "metadata": {},
   "source": [
    "### Mature leaf"
   ]
  },
  {
   "cell_type": "markdown",
   "metadata": {},
   "source": [
    "Extract sucrose, starch and glucose diel content from Jeannette et al 2000, Figure 3\n",
    "\n",
    "<img src=\"references/Screenshot_20190719_151346.png\" height=50% width=50%>"
   ]
  },
  {
   "cell_type": "code",
   "execution_count": 13,
   "metadata": {},
   "outputs": [
    {
     "name": "stdout",
     "output_type": "stream",
     "text": [
      "Starch:sucrose ratio=\n",
      "0.612778817745\n"
     ]
    },
    {
     "data": {
      "text/html": [
       "<div>\n",
       "<style scoped>\n",
       "    .dataframe tbody tr th:only-of-type {\n",
       "        vertical-align: middle;\n",
       "    }\n",
       "\n",
       "    .dataframe tbody tr th {\n",
       "        vertical-align: top;\n",
       "    }\n",
       "\n",
       "    .dataframe thead th {\n",
       "        text-align: right;\n",
       "    }\n",
       "</style>\n",
       "<table border=\"1\" class=\"dataframe\">\n",
       "  <thead>\n",
       "    <tr style=\"text-align: right;\">\n",
       "      <th></th>\n",
       "      <th>glucose dawn (g/m2)</th>\n",
       "      <th>glucose dusk (g/m2)</th>\n",
       "      <th>starch dawn (g/m2)</th>\n",
       "      <th>starch dusk (g/m2)</th>\n",
       "      <th>sucrose dawn (g/m2)</th>\n",
       "      <th>sucrose dusk (g/m2)</th>\n",
       "      <th>Δ sucrose(g/m2)</th>\n",
       "      <th>Δ starch(g/m2)</th>\n",
       "      <th>Δ glucose(g/m2)</th>\n",
       "    </tr>\n",
       "    <tr>\n",
       "      <th>day</th>\n",
       "      <th></th>\n",
       "      <th></th>\n",
       "      <th></th>\n",
       "      <th></th>\n",
       "      <th></th>\n",
       "      <th></th>\n",
       "      <th></th>\n",
       "      <th></th>\n",
       "      <th></th>\n",
       "    </tr>\n",
       "  </thead>\n",
       "  <tbody>\n",
       "    <tr>\n",
       "      <th>1</th>\n",
       "      <td>0.300000</td>\n",
       "      <td>0.554839</td>\n",
       "      <td>0.900990</td>\n",
       "      <td>1.811881</td>\n",
       "      <td>1.184615</td>\n",
       "      <td>3.030769</td>\n",
       "      <td>1.846154</td>\n",
       "      <td>0.910891</td>\n",
       "      <td>0.254839</td>\n",
       "    </tr>\n",
       "    <tr>\n",
       "      <th>2</th>\n",
       "      <td>0.380645</td>\n",
       "      <td>0.370968</td>\n",
       "      <td>0.683168</td>\n",
       "      <td>1.594059</td>\n",
       "      <td>1.184615</td>\n",
       "      <td>2.292308</td>\n",
       "      <td>1.107692</td>\n",
       "      <td>0.910891</td>\n",
       "      <td>-0.009677</td>\n",
       "    </tr>\n",
       "    <tr>\n",
       "      <th>3</th>\n",
       "      <td>0.300000</td>\n",
       "      <td>0.661290</td>\n",
       "      <td>0.504950</td>\n",
       "      <td>1.396040</td>\n",
       "      <td>1.492308</td>\n",
       "      <td>3.323077</td>\n",
       "      <td>1.830769</td>\n",
       "      <td>0.891089</td>\n",
       "      <td>0.361290</td>\n",
       "    </tr>\n",
       "    <tr>\n",
       "      <th>4</th>\n",
       "      <td>0.203226</td>\n",
       "      <td>0.301613</td>\n",
       "      <td>0.900990</td>\n",
       "      <td>2.326733</td>\n",
       "      <td>1.584615</td>\n",
       "      <td>3.553846</td>\n",
       "      <td>1.969231</td>\n",
       "      <td>1.425743</td>\n",
       "      <td>0.098387</td>\n",
       "    </tr>\n",
       "  </tbody>\n",
       "</table>\n",
       "</div>"
      ],
      "text/plain": [
       "     glucose dawn (g/m2)  glucose dusk (g/m2)  starch dawn (g/m2)  \\\n",
       "day                                                                 \n",
       "1               0.300000             0.554839            0.900990   \n",
       "2               0.380645             0.370968            0.683168   \n",
       "3               0.300000             0.661290            0.504950   \n",
       "4               0.203226             0.301613            0.900990   \n",
       "\n",
       "     starch dusk (g/m2)  sucrose dawn (g/m2)  sucrose dusk (g/m2)  \\\n",
       "day                                                                 \n",
       "1              1.811881             1.184615             3.030769   \n",
       "2              1.594059             1.184615             2.292308   \n",
       "3              1.396040             1.492308             3.323077   \n",
       "4              2.326733             1.584615             3.553846   \n",
       "\n",
       "     Δ sucrose(g/m2)  Δ starch(g/m2)  Δ glucose(g/m2)  \n",
       "day                                                    \n",
       "1           1.846154        0.910891         0.254839  \n",
       "2           1.107692        0.910891        -0.009677  \n",
       "3           1.830769        0.891089         0.361290  \n",
       "4           1.969231        1.425743         0.098387  "
      ]
     },
     "execution_count": 13,
     "metadata": {},
     "output_type": "execute_result"
    }
   ],
   "source": [
    "df_matureleaf_data = pd.DataFrame(data={\"day\":[1,2,3,4],\n",
    "                                        \"sucrose dawn (g/m2)\":[1.184615384615384,1.1846153846153795,\n",
    "                                                               1.4923076923076835,1.5846153846153763],\n",
    "                                        \"sucrose dusk (g/m2)\":[3.030769230769228,2.2923076923076877,\n",
    "                                                               3.323076923076915,3.5538461538461448],\n",
    "                                        \"starch dawn (g/m2)\":[0.9009900990099027,0.6831683168316811,\n",
    "                                                              0.504950495049501,0.9009900990098938],\n",
    "                                        \"starch dusk (g/m2)\":[1.8118811881188108,1.594059405940591,\n",
    "                                                              1.3960396039603875,2.326732673267319],\n",
    "                                        \"glucose dawn (g/m2)\":[0.3000000000000027,0.380645161290325,\n",
    "                                                              0.30000000000000293,0.20322580645161725],\n",
    "                                        \"glucose dusk (g/m2)\":[0.5548387096774199,0.3709677419354862,\n",
    "                                                              0.661290322580645,0.3016129032258099]})\n",
    "df_matureleaf_data.set_index(\"day\",inplace=True,drop=True)\n",
    "df_matureleaf_data[\"Δ sucrose(g/m2)\"] = df_matureleaf_data[\"sucrose dusk (g/m2)\"]- \\\n",
    "                                                df_matureleaf_data[\"sucrose dawn (g/m2)\"]\n",
    "df_matureleaf_data[\"Δ starch(g/m2)\"] = df_matureleaf_data[\"starch dusk (g/m2)\"]- \\\n",
    "                                                df_matureleaf_data[\"starch dawn (g/m2)\"]\n",
    "df_matureleaf_data[\"Δ glucose(g/m2)\"] = df_matureleaf_data[\"glucose dusk (g/m2)\"]- \\\n",
    "                                                df_matureleaf_data[\"glucose dawn (g/m2)\"]\n",
    "print(\"Starch:sucrose ratio=\")\n",
    "print(find_average(df_matureleaf_data[\"Δ starch(g/m2)\"])/find_average(df_matureleaf_data[\"Δ sucrose(g/m2)\"]))\n",
    "df_matureleaf_data"
   ]
  },
  {
   "cell_type": "markdown",
   "metadata": {},
   "source": [
    "### Leaf"
   ]
  },
  {
   "cell_type": "markdown",
   "metadata": {},
   "source": [
    "Extract lipid  from Gu et al 2017, Figure 3\n",
    "\n",
    "<img src=\"references/Screenshot_20190719_162426.png\" height=50% width=50%>"
   ]
  },
  {
   "cell_type": "code",
   "execution_count": 16,
   "metadata": {},
   "outputs": [
    {
     "data": {
      "text/html": [
       "<div>\n",
       "<style scoped>\n",
       "    .dataframe tbody tr th:only-of-type {\n",
       "        vertical-align: middle;\n",
       "    }\n",
       "\n",
       "    .dataframe tbody tr th {\n",
       "        vertical-align: top;\n",
       "    }\n",
       "\n",
       "    .dataframe thead th {\n",
       "        text-align: right;\n",
       "    }\n",
       "</style>\n",
       "<table border=\"1\" class=\"dataframe\">\n",
       "  <thead>\n",
       "    <tr style=\"text-align: right;\">\n",
       "      <th></th>\n",
       "      <th>GDGD (%lipids)</th>\n",
       "      <th>LPG (%lipids)</th>\n",
       "      <th>MGDG (%lipids)</th>\n",
       "      <th>PA (%lipids)</th>\n",
       "      <th>PC (%lipids)</th>\n",
       "      <th>PE (%lipids)</th>\n",
       "      <th>PG (%lipids)</th>\n",
       "      <th>PI (%lipids)</th>\n",
       "      <th>SQDG (%lipids)</th>\n",
       "    </tr>\n",
       "  </thead>\n",
       "  <tbody>\n",
       "    <tr>\n",
       "      <th>0</th>\n",
       "      <td>19.432177</td>\n",
       "      <td>0.362776</td>\n",
       "      <td>45.788644</td>\n",
       "      <td>0.315457</td>\n",
       "      <td>5.047319</td>\n",
       "      <td>0.315457</td>\n",
       "      <td>4.479495</td>\n",
       "      <td>2.160883</td>\n",
       "      <td>1.498423</td>\n",
       "    </tr>\n",
       "  </tbody>\n",
       "</table>\n",
       "</div>"
      ],
      "text/plain": [
       "   GDGD (%lipids)  LPG (%lipids)  MGDG (%lipids)  PA (%lipids)  PC (%lipids)  \\\n",
       "0       19.432177       0.362776       45.788644      0.315457      5.047319   \n",
       "\n",
       "   PE (%lipids)  PG (%lipids)  PI (%lipids)  SQDG (%lipids)  \n",
       "0      0.315457      4.479495      2.160883        1.498423  "
      ]
     },
     "execution_count": 16,
     "metadata": {},
     "output_type": "execute_result"
    }
   ],
   "source": [
    "df_leaf_content_1 = pd.DataFrame(data={\"GDGD (%lipids)\":[19.43217665615142],\n",
    "                                       \"MGDG (%lipids)\":[45.78864353312303],\n",
    "                                       \"SQDG (%lipids)\":[1.4984227129337468],\n",
    "                                       \"PG (%lipids)\":[4.479495268138808],\n",
    "                                       \"PC (%lipids)\":[5.047318611987379],\n",
    "                                       \"PE (%lipids)\":[0.31545741324921295],\n",
    "                                       \"PI (%lipids)\":[2.1608832807570963],\n",
    "                                       \"PA (%lipids)\":[0.31545741324921295],\n",
    "                                       \"LPG (%lipids)\":[0.3627760252365908]})\n",
    "df_leaf_content_1"
   ]
  },
  {
   "cell_type": "markdown",
   "metadata": {},
   "source": [
    "Extract biomass composition from Seaver 2015 maize leaf model"
   ]
  },
  {
   "cell_type": "code",
   "execution_count": 28,
   "metadata": {},
   "outputs": [],
   "source": [
    "#import sbml file (had to remove 4-5 metabolite duplicates)\n",
    "Sam_model = io.sbml.create_cobra_model_from_sbml_file(\"/home/sanu/Downloads/Seaver2015_Evidenced-Maize-Leaf-Model.sbml\")\n"
   ]
  },
  {
   "cell_type": "code",
   "execution_count": 45,
   "metadata": {},
   "outputs": [
    {
     "name": "stdout",
     "output_type": "stream",
     "text": [
      "cpd30321_c0\tbeta-D-Fructose\n",
      "cpd08926_c0\tPhytosphingosine\n",
      "cpd14958_c0\tR-Lipoic_acid\n",
      "cpd01698_c0\talpha-L-Arabinose\n",
      "cpd01487_c0\tXylose\n",
      "cpd00060_c0\tL-Methionine\n",
      "cpd00099_c0\tCl-\n",
      "cpd00041_c0\tL-Aspartate\n",
      "cpd19001_c0\talpha-D-Glucose\n",
      "cpd00119_c0\tL-Histidine\n",
      "cpd00137_c0\tCitrate\n",
      "cpd00724_c0\talpha-D-Galactose\n",
      "cpd00069_c0\tL-Tyrosine\n",
      "cpd00006_c0\tNADP\n",
      "cpd00005_c0\tNADPH\n",
      "cpd00159_c0\tS-Lactate\n",
      "cpd00098_c0\tCholine\n",
      "cpd03624_c0\tAbscisate\n",
      "cpd01234_c0\tCampesterol\n",
      "cpd03225_c0\tStigmasterol\n",
      "cpd00008_c0\tADP\n",
      "cpd00241_c0\tdGTP\n",
      "cpd00080_c0\tsn-Glycerol_3-phosphate\n",
      "cpd00302_c0\tZeatin\n",
      "cpd16443_c0\tbeta-D-Ribofuranose\n",
      "cpd00130_c0\tS-Malate\n",
      "cpd00121_c0\tmyo-Inositol\n",
      "cpd00345_c0\t5-Methyltetrahydrofolate\n",
      "cpd00059_c0\tAscorbate\n",
      "cpd00062_c0\tUTP\n",
      "cpd01172_c0\tGibberellin_A3\n",
      "cpd00156_c0\tL-Valine\n",
      "cpd03956_c0\tEthylene\n",
      "cpd00051_c0\tL-Arginine\n",
      "cpd01210_c0\tbeta-Sitosterol\n",
      "cpd00107_c0\tL-Leucine\n",
      "cpd00016_c0\tPyridoxal_phosphate\n",
      "cpd08358_c0\tUDP-6-sulfoquinovose\n",
      "cpd00125_c0\t5_10-Methylenetetrahydrofolate\n",
      "cpd00032_c0\tOxaloacetate\n",
      "cpd00347_c0\t5_10-Methenyltetrahydrofolate\n",
      "cpd00161_c0\tL-Threonine\n",
      "cpd00066_c0\tL-Phenylalanine\n",
      "cpd00050_c0\tFMN\n",
      "cpd00015_c0\tFAD\n",
      "cpd01420_c0\tbeta-Carotene\n",
      "cpd00010_c0\tCoA\n",
      "cpd00023_c0\tL-Glutamate\n",
      "cpd00001_c0\tH2O\n",
      "cpd00703_c0\tIndole-3-acetate\n",
      "cpd00604_c0\t4-Coumarate\n",
      "cpd07274_c0\tPlastoquinone-9\n",
      "cpd00162_c0\tEthanolamine\n",
      "cpd00012_c0\tDiphosphate\n",
      "cpd00033_c0\tGlycine\n",
      "cpd00002_c0\tATP\n",
      "cpd00205_c0\tPotassium_cation\n",
      "cpd00003_c0\tNAD\n",
      "cpd14530_c0\tCastasterone\n",
      "cpd05264_c0\tbeta-D-Glucopyranuronic_acid\n",
      "cpd00087_c0\tTetrahydrofolate\n",
      "cpd00201_c0\t10-Formyltetrahydrofolate\n",
      "cpd00132_c0\tL-Asparagine\n",
      "cpd00004_c0\tNADH\n",
      "cpd03148_c0\tChlorophyll_a\n",
      "cpd01059_c0\tFerulate\n",
      "cpd00331_c0\tcis-Aconitate\n",
      "cpd00067_c0\tH\n",
      "cpd01080_c0\tOctadecanoic_acid\n",
      "cpd05508_c0\tLutein\n",
      "cpd01351_c0\tUbiquinone-9\n",
      "cpd00038_c0\tGTP\n",
      "cpd00035_c0\tL-Alanine\n",
      "cpd01627_c0\talpha-L-Rhamnose\n",
      "cpd00214_c0\tHexadecanoic_acid\n",
      "cpd00065_c0\tL-Tryptophan\n",
      "cpd00115_c0\tdATP\n",
      "cpd00053_c0\tL-Glutamine\n",
      "cpd00039_c0\tL-Lysine\n",
      "cpd19009_c0\talpha-D-Mannose\n",
      "cpd00052_c0\tCTP\n",
      "cpd11313_c0\tHeme_O\n",
      "cpd00322_c0\tL-Isoleucine\n",
      "cpd02197_c0\tFolinic_acid\n",
      "cpd00084_c0\tL-Cysteine\n",
      "cpd00054_c0\tL-Serine\n",
      "cpd00017_c0\tS-Adenosyl-L-methionine\n",
      "cpd00056_c0\tThiamin_diphosphate\n",
      "cpd00129_c0\tL-Proline\n",
      "cpd11416_c0\tBiomass\n",
      "cpd00834_c0\tPantetheine_4-phosphate\n",
      "cpd00356_c0\tdCTP\n",
      "cpd00104_c0\tBiotin\n",
      "cpd00357_c0\tdTTP\n",
      "cpd01628_c0\talpha-Tocopherol\n",
      "cpd00009_c0\tOrthophosphate\n",
      "cpd00280_c0\tD-Galacturonate\n"
     ]
    }
   ],
   "source": [
    "for met in Sam_model.reactions.get_by_id(\"biomass0\").metabolites.keys():\n",
    "    print met.id+\"\\t\"+met.name[0:met.name.rindex(\"_\")]#+\"\\t\"+str(Sam_model.reactions.get_by_id(\"biomass0\").metabolites.get(met))\n",
    "\n",
    "#temp = pd.read_csv(\"/home/sanu/Downloads/cts-20190722154702.csv\")\n",
    "#temp"
   ]
  },
  {
   "cell_type": "markdown",
   "metadata": {},
   "source": [
    "### Summary\n",
    "\n",
    "- Since amino acid content was only available in g/gFW and FW/DW data was not available, diel starch and sucrose levels (in g/gFW) were used to predict baseline starch and sucrose levels in leaf\n"
   ]
  },
  {
   "cell_type": "code",
   "execution_count": 14,
   "metadata": {},
   "outputs": [],
   "source": [
    "biomass.at[\"sSUCROSE_b\",\"leaf\"]=10*find_average(df_leaf_content_4[\"baseline sucrose (g/100gFW)\"])/ \\\n",
    "                                                model.metabolites.get_by_id(\"SUCROSE_c\").formula_weight\n",
    "biomass.at[\"Starch_b\",\"leaf\"]=10*find_average(df_leaf_content_4[\"baseline starch (g/100gFW)\"])/ \\\n",
    "                                                model.metabolites.get_by_id(\"SUCROSE_c\").formula_weight\n",
    "biomass.at[\"GLC_c\",\"leaf\"]=10*find_average(df_leaf_content_4[\"baseline simple sugars (g/100gFW)\"])/ \\\n",
    "                                                model.metabolites.get_by_id(\"SUCROSE_c\").formula_weight\n",
    "\n",
    "biomass.at[\"ASN_c\",\"leaf\"]= find_average(df_leaf_content_3[\"Asn (nmol/50mgFW)\"])/50\n",
    "biomass.at[\"sGABA_b\",\"leaf\"]= find_average(df_leaf_content_3[\"GABA (nmol/50mgFW)\"])/50\n",
    "biomass.at[\"sGLN_b\",\"leaf\"]= find_average(df_leaf_content_3[\"Gln (nmol/50mgFW)\"])/50\n",
    "biomass.at[\"sGLU_b\",\"leaf\"]= find_average(df_leaf_content_3[\"Glt (nmol/50mgFW)\"])/50\n",
    "biomass.at[\"HIS_c\",\"leaf\"]= find_average(df_leaf_content_3[\"His (nmol/50mgFW)\"])/50\n",
    "biomass.at[\"PRO_c\",\"leaf\"]= find_average(df_leaf_content_3[\"Pro (nmol/50mgFW)\"])/50\n",
    "biomass.at[\"sSER_b\",\"leaf\"]= find_average(df_leaf_content_3[\"Ser (nmol/50mgFW)\"])/50"
   ]
  },
  {
   "cell_type": "markdown",
   "metadata": {},
   "source": [
    "### Stem\n",
    "\n"
   ]
  },
  {
   "cell_type": "markdown",
   "metadata": {},
   "source": [
    "### Summary\n",
    "\n",
    "- Sucrose, hexose content data is per FW and conversion while amino acid content data is per litre exudate. Conversions between these units is not available\n",
    "\n",
    "Assumptions"
   ]
  },
  {
   "cell_type": "markdown",
   "metadata": {},
   "source": [
    "### Root"
   ]
  },
  {
   "cell_type": "markdown",
   "metadata": {},
   "source": [
    "### Summary\n",
    "\n",
    "- sugars, amino acids and organic acids as %C and %N data could not be used directly.\n",
    "- lipid composition in ug/cm2 cannot be translated to mg/gDW"
   ]
  },
  {
   "cell_type": "markdown",
   "metadata": {},
   "source": [
    "### Seed\n"
   ]
  },
  {
   "cell_type": "markdown",
   "metadata": {},
   "source": [
    "### References\n",
    "\n",
    "- Jeannette, E., Reyss, A., Grégory, N., Gantet, P. and Prioul, J. ‐L. (2000) Carbohydrate metabolism in a heat‐girdled maize source leaf. Plant. Cell Environ., 23, 61–69. https://doi.org/10.1046/j.1365-3040.2000.00519.x.\n",
    "- Saha, R., Suthers, P.F. and Maranas, C.D. (2011) Zea mays iRS1563: A Comprehensive Genome-Scale Metabolic Reconstruction of Maize Metabolism M. R. Andersen, ed. PLoS One, 6, e21784. https://doi.org/10.1371/journal.pone.0021784.\n",
    "- Gu, Y., He, L., Zhao, C., Wang, F., Yan, B., Gao, Y., Li, Z., Yang, K. and Xu, J. (2017) Biochemical and Transcriptional Regulation of Membrane Lipid Metabolism in Maize Leaves under Low Temperature. Front. Plant Sci., 8, 1–13. Available at: https://doi.org/10.3389/fpls.2017.02053."
   ]
  },
  {
   "cell_type": "code",
   "execution_count": null,
   "metadata": {},
   "outputs": [],
   "source": []
  }
 ],
 "metadata": {
  "kernelspec": {
   "display_name": "Python 2",
   "language": "python",
   "name": "python2"
  },
  "language_info": {
   "codemirror_mode": {
    "name": "ipython",
    "version": 2
   },
   "file_extension": ".py",
   "mimetype": "text/x-python",
   "name": "python",
   "nbconvert_exporter": "python",
   "pygments_lexer": "ipython2",
   "version": "2.7.15rc1"
  }
 },
 "nbformat": 4,
 "nbformat_minor": 2
}
