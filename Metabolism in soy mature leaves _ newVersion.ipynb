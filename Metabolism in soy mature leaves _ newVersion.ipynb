{
 "cells": [
  {
   "cell_type": "markdown",
   "metadata": {},
   "source": [
    "# Modelling metabolism in soy mature leaves"
   ]
  },
  {
   "cell_type": "markdown",
   "metadata": {},
   "source": [
    "### Generating SOY core model"
   ]
  },
  {
   "cell_type": "code",
   "execution_count": 1,
   "metadata": {},
   "outputs": [],
   "source": [
    "from cobra import io\n",
    "from cobra.core import Metabolite\n",
    "from cobra import flux_analysis\n",
    "\n",
    "#import sbml file\n",
    "fname = \"Data/Soy_leaf_model_GA.sbml\"\n",
    "model = io.sbml.read_sbml_model(fname)\n",
    "\n"
   ]
  },
  {
   "cell_type": "code",
   "execution_count": 2,
   "metadata": {},
   "outputs": [
    {
     "data": {
      "text/plain": [
       "2098"
      ]
     },
     "execution_count": 2,
     "metadata": {},
     "output_type": "execute_result"
    }
   ],
   "source": [
    "len(model.genes)"
   ]
  },
  {
   "cell_type": "markdown",
   "metadata": {},
   "source": [
    "### Importing transcript data"
   ]
  },
  {
   "cell_type": "code",
   "execution_count": 3,
   "metadata": {},
   "outputs": [
    {
     "name": "stderr",
     "output_type": "stream",
     "text": [
      "/home/sanu/.local/lib/python3.6/site-packages/IPython/core/interactiveshell.py:3051 \u001b[1;31mDtypeWarning\u001b[0m: Columns (0,2,3,13,14) have mixed types. Specify dtype option on import or set low_memory=False.\n"
     ]
    }
   ],
   "source": [
    "import pandas as pd\n",
    "df = pd.read_csv(\"/home/sanu/Downloads/gmax_leaf_CO2_normExprn_1.txt\",sep=\"\\t\")"
   ]
  },
  {
   "cell_type": "code",
   "execution_count": 4,
   "metadata": {},
   "outputs": [
    {
     "name": "stdout",
     "output_type": "stream",
     "text": [
      "['Glyma2.0', 'Query_Length', 'Uniport_ID', 'Hit_Alias', 'Hit_Length', 'E-Value', 'Alignment_Length', 'Query_Coverage', 'Percent_Identity', 'Identities_Covered_percent', 'Number_of_Matches', 'Bit_Score', 'HSPs', 'gene name/function', 'EC', 'ProbeID', 'Glyma 1.1', 'X474_E_Amb.CEL', 'X554_E_Amb.CEL', 'X560_E_Amb.CEL', 'X561_E_Amb.CEL', 'X580_E_Amb.CEL', 'X582_E_Amb.CEL', 'X583_E_Amb.CEL', 'X585_E_Amb.CEL']\n",
      "['Glyma2.0', 'Query_Length', 'Uniport_ID', 'Hit_Alias', 'Hit_Length', 'E-Value', 'Alignment_Length', 'Query_Coverage', 'Percent_Identity', 'Identities_Covered_percent', 'Number_of_Matches', 'Bit_Score', 'HSPs', 'gene name/function', 'EC', 'ProbeID', 'Glyma 1.1', 'X460_E_Ele.CEL', 'X467_E_Ele.CEL', 'X468_E_Ele.CEL', 'X469_E_Ele.CEL', 'X556_E_Ele.CEL', 'X557_E_Ele.CEL', 'X558_E_Ele.CEL', 'X559_E_Ele.CEL']\n"
     ]
    }
   ],
   "source": [
    "amb_list = list(df.columns[0:17])\n",
    "ele_list = list(df.columns[0:17])\n",
    "for x in df.columns:\n",
    "    if \"Amb\" in x:\n",
    "        amb_list.append(x)\n",
    "    elif \"Ele\" in x:\n",
    "        ele_list.append(x)\n",
    "    else:\n",
    "        continue\n",
    "\n",
    "print(amb_list)\n",
    "print(ele_list)"
   ]
  },
  {
   "cell_type": "code",
   "execution_count": 5,
   "metadata": {},
   "outputs": [],
   "source": [
    "df_amb = df[amb_list]\n",
    "df_ele = df[ele_list]"
   ]
  },
  {
   "cell_type": "code",
   "execution_count": 6,
   "metadata": {},
   "outputs": [],
   "source": [
    "modelGenes = dict()\n",
    "for gene in model.genes:\n",
    "    geneID = gene.id.split(\".\")[0]+\".\"+gene.id.split(\".\")[1]\n",
    "    modelGenes[geneID]=gene\n"
   ]
  },
  {
   "cell_type": "code",
   "execution_count": 7,
   "metadata": {},
   "outputs": [],
   "source": [
    "modelGenesNotInTranscript = set(modelGenes.keys()) - set(df[\"Glyma2.0\"])"
   ]
  },
  {
   "cell_type": "code",
   "execution_count": 8,
   "metadata": {},
   "outputs": [
    {
     "data": {
      "text/plain": [
       "1094"
      ]
     },
     "execution_count": 8,
     "metadata": {},
     "output_type": "execute_result"
    }
   ],
   "source": [
    "len(modelGenesNotInTranscript)"
   ]
  },
  {
   "cell_type": "code",
   "execution_count": 9,
   "metadata": {},
   "outputs": [],
   "source": [
    "fout = open(\"/home/sanu/SoyGenesInModel.csv\",\"w\")\n",
    "for gene in model.genes:\n",
    "    geneID = gene.id.split(\".\")[0]+\".\"+gene.id.split(\".\")[1]\n",
    "    fout.write(geneID+\"\\n\")\n",
    "fout.close()"
   ]
  },
  {
   "cell_type": "code",
   "execution_count": 10,
   "metadata": {},
   "outputs": [],
   "source": [
    "fout = open(\"/home/sanu/SoyGenesInModelMinusTranscriptomics.csv\",\"w\")\n",
    "for gene in modelGenesNotInTranscript:\n",
    "    geneID = gene.split(\".\")[0]+\".\"+gene.split(\".\")[1]\n",
    "    fout.write(geneID+\"\\n\")\n",
    "fout.close()"
   ]
  },
  {
   "cell_type": "code",
   "execution_count": 11,
   "metadata": {},
   "outputs": [
    {
     "name": "stdout",
     "output_type": "stream",
     "text": [
      "802\n"
     ]
    }
   ],
   "source": [
    "i=0\n",
    "for rxn in model.reactions:\n",
    "    if len(rxn.genes)!=0:\n",
    "        i=i+1\n",
    "print(i)"
   ]
  },
  {
   "cell_type": "code",
   "execution_count": 13,
   "metadata": {},
   "outputs": [
    {
     "name": "stdout",
     "output_type": "stream",
     "text": [
      "34.66333506879305\n",
      "500.0\n",
      "10.1351\n",
      "21.645569620253173\n",
      "Phloem output = \n",
      "0.4524370423298771\n",
      "500.0\n",
      "10.1351\n",
      "24.43037974683546\n",
      "Phloem output = \n",
      "0.5210038706749772\n"
     ]
    }
   ],
   "source": [
    "leaf_model = model.copy()\n",
    "\n",
    "for rxn in leaf_model.reactions:\n",
    "    if rxn.lower_bound==-1000:\n",
    "        rxn.lower_bound=-1500\n",
    "    if rxn.upper_bound==1000:\n",
    "        rxn.upper_bound=1500\n",
    "\n",
    "\n",
    "PPFD = 1500\n",
    "ATPase = (0.0049*PPFD) + 2.7851\n",
    "leaf_model.reactions.get_by_id(\"ATPase_tx1\").lower_bound = ATPase\n",
    "leaf_model.reactions.get_by_id(\"ATPase_tx1\").upper_bound = ATPase\n",
    "leaf_model.reactions.diel_biomass.objective_coefficient=1\n",
    "sol = flux_analysis.parsimonious.pfba(leaf_model)\n",
    "print(leaf_model.reactions.CO2_tx1.flux)\n",
    "\n",
    "from sweetlovegroup import analysis\n",
    "temp = leaf_model.copy()\n",
    "out_400 = analysis.estimateOutputFromNetCO2(temp,21.645569620253173)\n",
    "leaf_model_400 = leaf_model.copy()\n",
    "leaf_model_400.reactions.diel_biomass.lower_bound = out_400\n",
    "leaf_model_400.reactions.diel_biomass.upper_bound = out_400\n",
    "sol = flux_analysis.parsimonious.pfba(leaf_model_400)\n",
    "print(\"Phloem output = \")\n",
    "print(leaf_model_400.reactions.diel_biomass.flux)\n",
    "\n",
    "\n",
    "temp = leaf_model.copy()\n",
    "out_550 = analysis.estimateOutputFromNetCO2(temp,24.43037974683546)\n",
    "leaf_model_550 = leaf_model.copy()\n",
    "leaf_model_550.reactions.diel_biomass.lower_bound = out_550\n",
    "leaf_model_550.reactions.diel_biomass.upper_bound = out_550\n",
    "sol = flux_analysis.parsimonious.pfba(leaf_model_550)\n",
    "print(\"Phloem output = \")\n",
    "print(leaf_model_550.reactions.diel_biomass.flux)"
   ]
  },
  {
   "cell_type": "code",
   "execution_count": 18,
   "metadata": {},
   "outputs": [
    {
     "name": "stdout",
     "output_type": "stream",
     "text": [
      "m1\n",
      "\n",
      "c1\n",
      "\n",
      "b1\n",
      "\n",
      "p1\n",
      "\n",
      "v1\n",
      "\n",
      "x1\n",
      "\n",
      "r1\n",
      "\n",
      "mi1\n",
      "\n",
      "mc1\n",
      "\n",
      "e1\n",
      "\n",
      "l1\n",
      "\n",
      "i1\n",
      "\n",
      "c2\n",
      "\n",
      "v2\n",
      "\n",
      "e2\n",
      "\n",
      "x2\n",
      "\n",
      "b2\n",
      "\n",
      "p2\n",
      "\n",
      "m2\n",
      "\n",
      "mi2\n",
      "\n",
      "i2\n",
      "\n",
      "mc2\n",
      "\n",
      "r2\n",
      "\n",
      "l2\n",
      "\n"
     ]
    }
   ],
   "source": [
    "for comp in leaf_model.compartments.keys():\n",
    "    print(comp)\n",
    "    print(leaf_model.compartments[comp])"
   ]
  },
  {
   "cell_type": "code",
   "execution_count": 18,
   "metadata": {},
   "outputs": [
    {
     "name": "stdout",
     "output_type": "stream",
     "text": [
      "Gene Glyma.06G074900for rxn ACETYLGLUTKIN_RXN_p1 present\n",
      "Gene Glyma.13G140700for rxn DIAMINOPIMDECARB_RXN_p1 present\n",
      "Gene Glyma.02G222400for rxn F16ALDOLASE_RXN_p1 present\n",
      "Gene Glyma.02G222400for rxn F16ALDOLASE_RXN_c1 present\n",
      "Gene Glyma.20G079400for rxn NADH_DEHYDROG_A_RXN_mi1 present\n",
      "Gene Glyma.13G097100for rxn RIBULOSE_BISPHOSPHATE_CARBOXYLASE_RXN_p1 present\n",
      "Gene Glyma.14G053300for rxn IGPSYN_RXN_p1 present\n",
      "Gene Glyma.10G016200for rxn FUMHYDR_RXN_m1 present\n",
      "Gene Glyma.13G204700for rxn GLYCOGENSYN_RXN_p1 present\n",
      "Gene Glyma.01G026700for rxn ALANINE_AMINOTRANSFERASE_RXN_c1 present\n",
      "Gene Glyma.03G173400for rxn DIAMINOPIMEPIM_RXN_p1 present\n",
      "Gene Glyma.10G064000for rxn THREDEHYD_RXN_p1 present\n",
      "Gene Glyma.20G148100for rxn ACSERLY_RXN_c1 present\n",
      "Gene Glyma.17G159700for rxn 2_ISOPROPYLMALATESYN_RXN_p1 present\n",
      "Gene Glyma.14G217300for rxn 3_ISOPROPYLMALISOM_RXN_p1 present\n",
      "Gene Glyma.12G042400for rxn GLUC1PADENYLTRANS_RXN_p1 present\n",
      "Gene Glyma.20G148100for rxn ACSERLY_RXN_p1 present\n",
      "Gene Glyma.12G193800for rxn ACONITATEHYDR_RXN_m1 present\n",
      "Gene Glyma.13G144900for rxn ISOCITRATE_DEHYDROGENASE_NAD_RXN_m1 present\n",
      "Gene Glyma.03G027500for rxn 1TRANSKETO_RXN_p1 present\n",
      "Gene Glyma.11G158400for rxn IMPCYCLOHYDROLASE_RXN_p1 present\n",
      "Gene Glyma.07G212800for rxn FERREDOXIN_NITRITE_REDUCTASE_RXN_p1 present\n",
      "Gene Glyma.16G049300for rxn ASPARTATEKIN_RXN_p1 present\n",
      "Gene Glyma.01G082200for rxn 3_DEHYDROQUINATE_DEHYDRATASE_RXN_p1 present\n",
      "Gene Glyma.06G015900for rxn 1_PERIOD_2_PERIOD_1_PERIOD_13_RXN_p1 present\n",
      "Gene Glyma.18G002900for rxn HOMOSERDEHYDROG_RXN_NADP_p1 present\n",
      "Gene Glyma.09G040100for rxn CYTOCHROME_C_OXIDASE_RXN_mi1 present\n",
      "Gene Glyma.17G101700for rxn RIBULP3EPIM_RXN_p1 present\n",
      "Gene Glyma.02G254000for rxn AICARSYN_RXN_p1 present\n",
      "Gene Glyma.17G261700for rxn CATAL_RXN_x1 present\n",
      "Gene Glyma.15G263100for rxn IMP_DEHYDROG_RXN_c1 present\n",
      "Gene Glyma.02G254000for rxn AMPSYN_RXN_p1 present\n",
      "Gene Glyma.10G197700for rxn MALATE_DEHYDROGENASE_NADP_RXN_p1 present\n",
      "Gene Glyma.13G336200for rxn TRIOSEPISOMERIZATION_RXN_c1 present\n",
      "Gene Glyma.12G193800for rxn ACONITATEDEHYDR_RXN_c1 present\n",
      "Gene Glyma.13G336200for rxn TRIOSEPISOMERIZATION_RXN_p1 present\n",
      "Gene Glyma.11G254700for rxn ADENOSYLHOMOCYSTEINASE_RXN_c1 present\n",
      "Gene Glyma.11G000500for rxn 2_PERIOD_4_PERIOD_1_PERIOD_111_RXN_c1 present\n",
      "Gene Glyma.16G087200for rxn 1_PERIOD_10_PERIOD_2_PERIOD_2_RXN_mi1 present\n",
      "Gene Glyma.11G241900for rxn HISTCYCLOHYD_RXN_p1 present\n",
      "Gene Glyma.07G182300for rxn F16BDEPHOS_RXN_c1 present\n",
      "Gene Glyma.07G182300for rxn F16BDEPHOS_RXN_p1 present\n",
      "Gene Glyma.05G240700for rxn ASPARTATE_SEMIALDEHYDE_DEHYDROGENASE_RXN_p1 present\n",
      "Gene Glyma.10G241000for rxn PHOSPHOGLUCMUT_RXN_p1 present\n",
      "Gene Glyma.10G201100for rxn PEPDEPHOS_RXN_p1 present\n",
      "Gene Glyma.03G240100for rxn BRANCHED_CHAINAMINOTRANSFERILEU_RXN_p1 present\n",
      "Gene Glyma.09G270500for rxn 3PGAREARR_RXN_c1 present\n",
      "Gene Glyma.10G241000for rxn PHOSPHOGLUCMUT_RXN_c1 present\n",
      "Gene Glyma.05G005300for rxn ISOCITDEH_RXN_c1 present\n",
      "Gene Glyma.05G046700for rxn ARGSUCCINSYN_RXN_p1 present\n",
      "Gene Glyma.05G181000for rxn PREPHENATE_TRANSAMINE_RXN_p1 present\n",
      "Gene Glyma.16G028900for rxn DIHYDROPICRED_RXN_NADP_p1 present\n",
      "Gene Glyma.10G242600for rxn SULFATE_ADENYLYLTRANS_RXN_p1 present\n",
      "Gene Glyma.14G165000for rxn NITRATE_REDUCTASE_NADH_RXN_c1 present\n",
      "Gene Glyma.11G078700for rxn 3_DEHYDROQUINATE_SYNTHASE_RXN_p1 present\n",
      "Gene Glyma.16G058800for rxn ANTHRANSYN_RXN_p1 present\n",
      "Gene Glyma.13G049500for rxn RXN0_2381_p1 present\n",
      "Gene Glyma.05G183700for rxn SHIKIMATE_KINASE_RXN_p1 present\n",
      "Gene Glyma.08G195000for rxn INORGPYROPHOSPHAT_RXN_x1 present\n",
      "Gene Glyma.19G131500for rxn PYRROLINECARBREDUCT_RXN_NAD_c1 present\n",
      "Gene Glyma.17G100600for rxn MALATE_DEH_RXN_c1 present\n",
      "Gene Glyma.18G025500for rxn GLUC1PURIDYLTRANS_RXN_c1 present\n",
      "Gene Glyma.20G009400for rxn N_ACETYLGLUTPREDUCT_RXN_p1 present\n",
      "Gene Glyma.05G181000for rxn ASPAMINOTRANS_RXN_p1 present\n",
      "Gene Glyma.17G100600for rxn MALATE_DEH_RXN_p1 present\n",
      "Gene Glyma.04G094600for rxn ARGSUCCINLYA_RXN_p1 present\n",
      "Gene Glyma.17G100600for rxn MALATE_DEH_RXN_m1 present\n",
      "Gene Glyma.08G195000for rxn INORGPYROPHOSPHAT_RXN_c1 present\n",
      "Gene Glyma.07G250600for rxn GLUTATHIONE_REDUCT_NADPH_RXN_p1 present\n",
      "Gene Glyma.05G181000for rxn ASPAMINOTRANS_RXN_c1 present\n",
      "Gene Glyma.08G195000for rxn INORGPYROPHOSPHAT_RXN_p1 present\n",
      "Gene Glyma.17G100600for rxn MALATE_DEH_RXN_x1 present\n",
      "Gene Glyma.04G092400for rxn PGLUCISOM_RXN_c1 present\n",
      "Gene Glyma.04G092400for rxn PGLUCISOM_RXN_p1 present\n",
      "Gene Glyma.11G084100for rxn SERINE_O_ACETTRAN_RXN_c1 present\n",
      "Gene Glyma.18G244900for rxn GPH_RXN_p1 present\n",
      "Gene Glyma.17G109700for rxn SUCROSE_PHOSPHATE_SYNTHASE_RXN_c1 present\n",
      "Gene Glyma.08G302600for rxn SERINE_GLYOXYLATE_AMINOTRANSFERASE_RXN_x1 present\n",
      "Gene Glyma.11G084100for rxn SERINE_O_ACETTRAN_RXN_p1 present\n",
      "Gene Glyma.12G210000for rxn ACETOLACTREDUCTOISOM_RXN_p1 present\n",
      "Gene Glyma.08G180600for rxn RXN_7737_p1 present\n",
      "Gene Glyma.06G172600for rxn GAPOXNPHOSPHN_RXN_c1 present\n",
      "Gene Glyma.11G079000for rxn 3_ISOPROPYLMALDEHYDROG_RXN_p1 present\n",
      "Gene Glyma.19G088000for rxn ADENYL_KIN_RXN_p1 present\n",
      "Gene Glyma.18G093200for rxn GLUTAMIDOTRANS_RXN_p1 present\n",
      "Gene Glyma.19G088000for rxn ADENYL_KIN_RXN_m1 present\n",
      "Gene Glyma.07G081900for rxn HYDROXYPYRUVATE_REDUCTASE_RXN_NAD_x1 present\n",
      "Gene Glyma.15G027000for rxn THRESYN_RXN_p1 present\n",
      "Gene Glyma.04G009800for rxn HISTIDPHOS_RXN_p1 present\n",
      "Gene Glyma.11G226900for rxn SEDOHEPTULOSE_BISPHOSPHATASE_RXN_p1 present\n",
      "Gene Glyma.01G026700for rxn GLYCINE_AMINOTRANSFERASE_RXN_x1 present\n",
      "Gene Glyma.14G184500for rxn GLYOHMETRANS_RXN_m1 present\n",
      "Gene Glyma.16G155800for rxn HISTAMINOTRANS_RXN_p1 present\n",
      "Gene Glyma.09G168900for rxn GLUTDECARBOX_RXN_c1 present\n",
      "Gene Glyma.12G199400for rxn PLASTOQUINOL_PLASTOCYANIN_REDUCTASE_RXN_p1 present\n",
      "Gene Glyma.11G241900for rxn HISTPRATPHYD_RXN_p1 present\n",
      "Gene Glyma.20G019700for rxn GCVMULTI_RXN_m1 present\n",
      "Gene Glyma.07G118300for rxn ACETYLORNTRANSAM_RXN_p1 present\n",
      "Gene Glyma.18G061100for rxn ASNSYNA_RXN_c1 present\n",
      "Gene Glyma.15G131700for rxn RXN_8001_p1 present\n",
      "Gene Glyma.19G130800for rxn GLUTAMATE_SYNTHASE_FERREDOXIN_RXN_p1 present\n",
      "Gene Glyma.17G262400for rxn PSII_RXN_p1 present\n",
      "Gene Glyma.14G065600for rxn GLUTSEMIALDEHYDROG_RXN_c1 present\n",
      "Gene Glyma.19G239800for rxn SHIKIMATE_5_DEHYDROGENASE_RXN_p1 present\n",
      "Gene Glyma.15G130100for rxn 1_PERIOD_18_PERIOD_1_PERIOD_2_RXN_p1 present\n",
      "Gene Glyma.08G309300for rxn PRPPSYN_RXN_p1 present\n",
      "Gene Glyma.02G244000for rxn GLUTAMINESYN_RXN_c1 present\n",
      "Gene Glyma.02G244000for rxn GLUTAMINESYN_RXN_m1 present\n",
      "Gene Glyma.04G256100for rxn 1_PERIOD_5_PERIOD_1_PERIOD_20_RXN_c1 present\n",
      "Gene Glyma.07G186000for rxn BRANCHED_CHAINAMINOTRANSFERLEU_RXN_p1 present\n",
      "Gene Glyma.13G207900for rxn DIHYDROXYISOVALDEHYDRAT_RXN_p1 present\n",
      "Gene Glyma.14G102700for rxn CHORISMATEMUT_RXN_p1 present\n",
      "Gene Glyma.15G102400for rxn GUANYL_KIN_RXN_c1 present\n",
      "Gene Glyma.18G026400for rxn PRAISOM_RXN_p1 present\n",
      "Gene Glyma.10G086600for rxn SUCROSE_PHOSPHATASE_RXN_c1 present\n",
      "Gene Glyma.18G221700for rxn DIHYDRODIPICSYN_RXN_p1 present\n",
      "Gene Glyma.20G145900for rxn IMIDPHOSDEHYD_RXN_p1 present\n",
      "Gene Glyma.05G045200for rxn GDPKIN_RXN_p1 present\n",
      "Gene Glyma.03G212700for rxn METHENYLTHFCYCLOHYDRO_RXN_c1 present\n",
      "Gene Glyma.03G240100for rxn BRANCHED_CHAINAMINOTRANSFERVAL_RXN_p1 present\n",
      "Gene Glyma.02G311600for rxn HOMOSERKIN_RXN_p1 present\n",
      "Gene Glyma.03G176400for rxn ATPPHOSPHORIBOSYLTRANS_RXN_p1 present\n",
      "Gene Glyma.06G169700for rxn ACETOLACTSYN_RXN_p1 present\n",
      "Gene Glyma.12G229400for rxn PEPCARBOX_RXN_c1 present\n",
      "Gene Glyma.01G010200for rxn PHOSPHORIBULOKINASE_RXN_p1 present\n",
      "Gene Glyma.05G045200for rxn GDPKIN_RXN_c1 present\n",
      "Gene Glyma.09G153900for rxn 2PGADEHYDRAT_RXN_c1 present\n",
      "Gene Glyma.04G184900for rxn PRTRANS_RXN_p1 present\n",
      "Gene Glyma.14G176600for rxn DAHPSYN_RXN_p1 present\n",
      "Gene Glyma.18G261600for rxn CYSPH_RXN_p1 present\n",
      "Gene Glyma.01G139600for rxn 2_PERIOD_5_PERIOD_1_PERIOD_19_RXN_p1 present\n",
      "Gene Glyma.06G030600for rxn ORNCARBAMTRANSFER_RXN_p1 present\n",
      "Gene Glyma.15G131700for rxn HISTOLDEHYD_RXN_p1 present\n",
      "Gene Glyma.13G131900for rxn GLUTAMATE_N_ACETYLTRANSFERASE_RXN_p1 present\n",
      "Gene Glyma.11G158400for rxn AICARTRANSFORM_RXN_p1 present\n",
      "Gene Glyma.16G165900for rxn CELLULOSE_SYNTHASE_GDP_FORMING_RXN_c1 present\n",
      "Gene Glyma.03G246300for rxn RIB5PISOM_RXN_p1 present\n",
      "Gene Glyma.19G142400for rxn ADENYLOSUCCINATE_SYNTHASE_RXN_p1 present\n",
      "Gene Glyma.05G045200for rxn UDPKIN_RXN_c1 present\n",
      "Gene Glyma.01G031500for rxn RXN66_3_m1 present\n",
      "Gene Glyma.09G178100for rxn RXN_10773_c1 present\n",
      "Gene Glyma.14G217300for rxn RXN_8991_p1 present\n",
      "Gene Glyma.08G113600for rxn ACETATE_COA_LIGASE_RXN_p1 present\n",
      "Gene Glyma.13G049500for rxn RXN0_2382_p1 present\n",
      "Gene Glyma.15G267000for rxn ATP_CITRATE_PRO_S_LYASE_RXN_c1 present\n",
      "Gene Glyma.03G055900for rxn AMP_DEAMINASE_RXN_c1 present\n",
      "Gene Glyma.13G319000for rxn CARBOXYCYCLOHEXADIENYL_DEHYDRATASE_RXN_p1 present\n",
      "Gene Glyma.08G015000for rxn GMP_SYN_GLUT_RXN_c1 present\n",
      "Gene Glyma.03G181900for rxn ADENOSINE_KINASE_RXN_c1 present\n",
      "Gene Glyma.11G093200for rxn SULFITE_REDUCTASE_FERREDOXIN_RXN_p1 present\n",
      "Gene Glyma.14G065600for rxn GLUTKIN_RXN_c1 present\n"
     ]
    },
    {
     "name": "stdout",
     "output_type": "stream",
     "text": [
      "Gene Glyma.09G167000for rxn SUCROSE_SYNTHASE_RXN_c1 present\n",
      "Gene Glyma.10G211400for rxn CHORISMATE_SYNTHASE_RXN_p1 present\n",
      "Gene Glyma.03G129700for rxn CYSTATHIONINE_BETA_LYASE_RXN_p1 present\n",
      "Gene Glyma.13G153700for rxn PRIBFAICARPISOM_RXN_p1 present\n",
      "Gene Glyma.03G212700for rxn METHYLENETHFDEHYDROG_NADP_RXN_c1 present\n",
      "Gene Glyma.02G222400for rxn F16ALDOLASE_RXN_p2 present\n",
      "Gene Glyma.02G222400for rxn F16ALDOLASE_RXN_c2 present\n",
      "Gene Glyma.20G079400for rxn NADH_DEHYDROG_A_RXN_mi2 present\n",
      "Gene Glyma.11G101400for rxn RXN_9663_p2 present\n",
      "Gene Glyma.02G015700for rxn FUMHYDR_RXN_m2 present\n",
      "Gene Glyma.02G015700for rxn FUMHYDR_RXN_c2 present\n",
      "Gene Glyma.11G248700for rxn UREASE_RXN_c2 present\n",
      "Gene Glyma.01G026700for rxn ALANINE_AMINOTRANSFERASE_RXN_c2 present\n",
      "Gene Glyma.17G159700for rxn 2_ISOPROPYLMALATESYN_RXN_p2 present\n",
      "Gene Glyma.14G217300for rxn 3_ISOPROPYLMALISOM_RXN_p2 present\n",
      "Gene Glyma.20G148100for rxn ACSERLY_RXN_p2 present\n",
      "Gene Glyma.11G101400for rxn RXN_9661_p2 present\n",
      "Gene Glyma.12G193800for rxn ACONITATEHYDR_RXN_m2 present\n",
      "Gene Glyma.08G072200for rxn RXN_6883_mc2 present\n",
      "Gene Glyma.03G027500for rxn 1TRANSKETO_RXN_p2 present\n",
      "Gene Glyma.11G158400for rxn IMPCYCLOHYDROLASE_RXN_p2 present\n",
      "Gene Glyma.03G121100for rxn MALTODEG_RXN_c2 present\n",
      "Gene Glyma.17G131300for rxn ARGINASE_RXN_m2 present\n",
      "Gene Glyma.19G239800for rxn 3_DEHYDROQUINATE_DEHYDRATASE_RXN_p2 present\n",
      "Gene Glyma.13G362900for rxn CYTOCHROME_C_OXIDASE_RXN_mi2 present\n",
      "Gene Glyma.17G101700for rxn RIBULP3EPIM_RXN_p2 present\n",
      "Gene Glyma.05G029200for rxn PYRROLINECARBDEHYDROG_RXN_NADP_m2 present\n",
      "Gene Glyma.17G261700for rxn CATAL_RXN_x2 present\n",
      "Gene Glyma.02G254000for rxn AMPSYN_RXN_p2 present\n",
      "Gene Glyma.13G336200for rxn TRIOSEPISOMERIZATION_RXN_c2 present\n",
      "Gene Glyma.12G193800for rxn ACONITATEDEHYDR_RXN_c2 present\n",
      "Gene Glyma.16G087200for rxn 1_PERIOD_10_PERIOD_2_PERIOD_2_RXN_mc2 present\n",
      "Gene Glyma.11G254700for rxn ADENOSYLHOMOCYSTEINASE_RXN_c2 present\n",
      "Gene Glyma.16G087200for rxn 1_PERIOD_10_PERIOD_2_PERIOD_2_RXN_mi2 present\n",
      "Gene Glyma.11G241900for rxn HISTCYCLOHYD_RXN_p2 present\n",
      "Gene Glyma.10G039000for rxn SUCCCOASYN_RXN_m2 present\n",
      "Gene Glyma.19G009000for rxn 1_PERIOD_2_PERIOD_1_PERIOD_2_RXN_m2 present\n",
      "Gene Glyma.18G265300for rxn ACETYL_COA_CARBOXYLTRANSFER_RXN_p2 present\n",
      "Gene Glyma.10G241000for rxn PHOSPHOGLUCMUT_RXN_p2 present\n",
      "Gene Glyma.03G002300for rxn RXN_9549_p2 present\n",
      "Gene Glyma.10G201100for rxn PEPDEPHOS_RXN_c2 present\n",
      "Gene Glyma.10G201100for rxn PEPDEPHOS_RXN_p2 present\n",
      "Gene Glyma.06G133500for rxn 6PGLUCONOLACT_RXN_p2 present\n",
      "Gene Glyma.09G270500for rxn 3PGAREARR_RXN_c2 present\n",
      "Gene Glyma.10G241000for rxn PHOSPHOGLUCMUT_RXN_c2 present\n",
      "Gene Glyma.05G005300for rxn ISOCITDEH_RXN_c2 present\n",
      "Gene Glyma.13G354900for rxn MALIC_NADP_RXN_p2 present\n",
      "Gene Glyma.11G078700for rxn 3_DEHYDROQUINATE_SYNTHASE_RXN_p2 present\n",
      "Gene Glyma.13G354900for rxn MALIC_NADP_RXN_c2 present\n",
      "Gene Glyma.06G185100for rxn SUCCINATE_DEHYDROGENASE_UBIQUINONE_RXN_mi2 present\n",
      "Gene Glyma.05G183700for rxn SHIKIMATE_KINASE_RXN_p2 present\n",
      "Gene Glyma.08G195000for rxn INORGPYROPHOSPHAT_RXN_x2 present\n",
      "Gene Glyma.17G100600for rxn MALATE_DEH_RXN_c2 present\n",
      "Gene Glyma.18G025500for rxn GLUC1PURIDYLTRANS_RXN_c2 present\n",
      "Gene Glyma.05G181000for rxn ASPAMINOTRANS_RXN_p2 present\n",
      "Gene Glyma.17G100600for rxn MALATE_DEH_RXN_p2 present\n",
      "Gene Glyma.17G100600for rxn MALATE_DEH_RXN_m2 present\n",
      "Gene Glyma.05G181000for rxn ASPAMINOTRANS_RXN_x2 present\n",
      "Gene Glyma.05G181000for rxn ASPAMINOTRANS_RXN_c2 present\n",
      "Gene Glyma.08G195000for rxn INORGPYROPHOSPHAT_RXN_p2 present\n",
      "Gene Glyma.17G100600for rxn MALATE_DEH_RXN_x2 present\n",
      "Gene Glyma.04G092400for rxn PGLUCISOM_RXN_c2 present\n",
      "Gene Glyma.04G092400for rxn PGLUCISOM_RXN_p2 present\n",
      "Gene Glyma.11G084100for rxn SERINE_O_ACETTRAN_RXN_c2 present\n",
      "Gene Glyma.17G109700for rxn SUCROSE_PHOSPHATE_SYNTHASE_RXN_c2 present\n",
      "Gene Glyma.11G084100for rxn SERINE_O_ACETTRAN_RXN_p2 present\n",
      "Gene Glyma.12G210000for rxn ACETOLACTREDUCTOISOM_RXN_p2 present\n",
      "Gene Glyma.02G249300for rxn RXN_1381_p2 present\n",
      "Gene Glyma.06G172600for rxn GAPOXNPHOSPHN_RXN_c2 present\n",
      "Gene Glyma.11G079000for rxn 3_ISOPROPYLMALDEHYDROG_RXN_p2 present\n",
      "Gene Glyma.19G088000for rxn ADENYL_KIN_RXN_p2 present\n",
      "Gene Glyma.18G093200for rxn GLUTAMIDOTRANS_RXN_p2 present\n",
      "Gene Glyma.06G172600for rxn GAPOXNPHOSPHN_RXN_p2 present\n",
      "Gene Glyma.05G056400for rxn TRANSALDOL_RXN_p2 present\n",
      "Gene Glyma.15G027000for rxn THRESYN_RXN_p2 present\n",
      "Gene Glyma.11G101400for rxn RXN_9662_p2 present\n",
      "Gene Glyma.04G009800for rxn HISTIDPHOS_RXN_p2 present\n",
      "Gene Glyma.20G183100for rxn RXN0_5260_m2 present\n",
      "Gene Glyma.11G226900for rxn SEDOHEPTULOSE_BISPHOSPHATASE_RXN_p2 present\n",
      "Gene Glyma.14G184500for rxn GLYOHMETRANS_RXN_m2 present\n",
      "Gene Glyma.08G334000for rxn RXN0_5184_c2 present\n",
      "Gene Glyma.14G184500for rxn GLYOHMETRANS_RXN_p2 present\n",
      "Gene Glyma.16G155800for rxn HISTAMINOTRANS_RXN_p2 present\n",
      "Gene Glyma.09G168900for rxn GLUTDECARBOX_RXN_c2 present\n",
      "Gene Glyma.11G241900for rxn HISTPRATPHYD_RXN_p2 present\n",
      "Gene Glyma.20G019700for rxn GCVMULTI_RXN_m2 present\n",
      "Gene Glyma.15G131700for rxn RXN_8001_p2 present\n",
      "Gene Glyma.01G082200for rxn SHIKIMATE_5_DEHYDROGENASE_RXN_p2 present\n",
      "Gene Glyma.08G309300for rxn PRPPSYN_RXN_p2 present\n",
      "Gene Glyma.02G244000for rxn GLUTAMINESYN_RXN_c2 present\n",
      "Gene Glyma.02G244000for rxn GLUTAMINESYN_RXN_m2 present\n",
      "Gene Glyma.04G256100for rxn 1_PERIOD_5_PERIOD_1_PERIOD_20_RXN_c2 present\n",
      "Gene Glyma.07G186000for rxn BRANCHED_CHAINAMINOTRANSFERLEU_RXN_p2 present\n",
      "Gene Glyma.13G207900for rxn DIHYDROXYISOVALDEHYDRAT_RXN_p2 present\n",
      "Gene Glyma.13G059400for rxn CHORISMATEMUT_RXN_p2 present\n",
      "Gene Glyma.02G072200for rxn GLUTAMATE_DEHYDROGENASE_RXN_m2 present\n",
      "Gene Glyma.10G086600for rxn SUCROSE_PHOSPHATASE_RXN_c2 present\n",
      "Gene Glyma.20G145900for rxn IMIDPHOSDEHYD_RXN_p2 present\n",
      "Gene Glyma.05G045200for rxn GDPKIN_RXN_p2 present\n",
      "Gene Glyma.03G212700for rxn METHENYLTHFCYCLOHYDRO_RXN_c2 present\n",
      "Gene Glyma.03G240100for rxn BRANCHED_CHAINAMINOTRANSFERVAL_RXN_p2 present\n",
      "Gene Glyma.19G177100for rxn ATPPHOSPHORIBOSYLTRANS_RXN_p2 present\n",
      "Gene Glyma.06G169700for rxn ACETOLACTSYN_RXN_p2 present\n",
      "Gene Glyma.09G217000for rxn RXN_1827_p2 present\n",
      "Gene Glyma.02G288500for rxn CITSYN_RXN_x2 present\n",
      "Gene Glyma.09G153900for rxn 2PGADEHYDRAT_RXN_c2 present\n",
      "Gene Glyma.14G176600for rxn DAHPSYN_RXN_p2 present\n",
      "Gene Glyma.18G261600for rxn CYSPH_RXN_p2 present\n",
      "Gene Glyma.01G139600for rxn 2_PERIOD_5_PERIOD_1_PERIOD_19_RXN_p2 present\n",
      "Gene Glyma.15G131700for rxn HISTOLDEHYD_RXN_p2 present\n",
      "Gene Glyma.02G288500for rxn CITSYN_RXN_m2 present\n",
      "Gene Glyma.11G158400for rxn AICARTRANSFORM_RXN_p2 present\n",
      "Gene Glyma.03G246300for rxn RIB5PISOM_RXN_p2 present\n",
      "Gene Glyma.10G128200for rxn 2_PERIOD_7_PERIOD_1_PERIOD_90_RXN_c2 present\n",
      "Gene Glyma.19G142400for rxn ADENYLOSUCCINATE_SYNTHASE_RXN_p2 present\n",
      "Gene Glyma.07G115900for rxn UDPKIN_RXN_c2 present\n",
      "Gene Glyma.01G031500for rxn RXN66_3_m2 present\n",
      "Gene Glyma.14G217300for rxn RXN_8991_p2 present\n",
      "Gene Glyma.08G113600for rxn ACETATE_COA_LIGASE_RXN_p2 present\n",
      "Gene Glyma.15G267000for rxn ATP_CITRATE_PRO_S_LYASE_RXN_c2 present\n",
      "Gene Glyma.16G063200for rxn GLU6PDEHYDROG_RXN_p2 present\n",
      "Gene Glyma.03G181900for rxn ADENOSINE_KINASE_RXN_c2 present\n",
      "Gene Glyma.20G121200for rxn PHOSPHATIDATE_PHOSPHATASE_RXN_p2 present\n",
      "Gene Glyma.09G167000for rxn SUCROSE_SYNTHASE_RXN_c2 present\n",
      "Gene Glyma.12G013400for rxn RXN_14351_pc2 present\n",
      "Gene Glyma.10G211400for rxn CHORISMATE_SYNTHASE_RXN_p2 present\n",
      "Gene Glyma.03G129700for rxn CYSTATHIONINE_BETA_LYASE_RXN_p2 present\n",
      "Gene Glyma.15G020900for rxn 6PFRUCTPHOS_RXN_p2 present\n",
      "Gene Glyma.13G153700for rxn PRIBFAICARPISOM_RXN_p2 present\n",
      "Gene Glyma.03G212700for rxn METHYLENETHFDEHYDROG_NADP_RXN_c2 present\n"
     ]
    }
   ],
   "source": [
    "ActiveRxnNotInTranscriptomicsData=set()\n",
    "for rxn in leaf_model.reactions:\n",
    "    if abs(rxn.flux) > 0 and len(rxn.genes)!=0:\n",
    "        flag=False\n",
    "        for gene in rxn.genes:\n",
    "            if gene.id in set(df[\"Glyma2.0\"]):\n",
    "                flag=True\n",
    "                print \"Gene \"+gene.id+\"for rxn \"+rxn.id+\" present\"\n",
    "                break\n",
    "        if not flag:\n",
    "            ActiveRxnNotInTranscriptomicsData.add(rxn.id)"
   ]
  },
  {
   "cell_type": "code",
   "execution_count": 19,
   "metadata": {},
   "outputs": [
    {
     "data": {
      "text/plain": [
       "{'1_ACYLGLYCEROL_3_P_ACYLTRANSFER_RXN_p2',\n",
       " 'GLUCOKIN_RXN_c2',\n",
       " 'GLY3KIN_RXN_p1',\n",
       " 'PHOSGLYPHOS_RXN_c1',\n",
       " 'PHOSGLYPHOS_RXN_c2',\n",
       " 'PHOSGLYPHOS_RXN_p1',\n",
       " 'PHOSGLYPHOS_RXN_p2',\n",
       " 'THREONINE_ALDOLASE_RXN_c1'}"
      ]
     },
     "execution_count": 19,
     "metadata": {},
     "output_type": "execute_result"
    }
   ],
   "source": [
    "ActiveRxnNotInTranscriptomicsData"
   ]
  },
  {
   "cell_type": "code",
   "execution_count": 20,
   "metadata": {},
   "outputs": [
    {
     "data": {
      "text/plain": [
       "6.7630348276875"
      ]
     },
     "execution_count": 20,
     "metadata": {},
     "output_type": "execute_result"
    }
   ],
   "source": [
    "df_amb[df_amb[\"Glyma2.0\"]==\"Glyma.14G053300\"][df_amb.columns[17:]].mean().mean()"
   ]
  },
  {
   "cell_type": "code",
   "execution_count": 21,
   "metadata": {},
   "outputs": [],
   "source": [
    "totalTranscript_400 = dict()\n",
    "for rxn in leaf_model.reactions:\n",
    "    x=0\n",
    "    for gene in rxn.genes:\n",
    "        #print gene\n",
    "        y = df_amb[df_amb[\"Glyma2.0\"]==gene.id][df_amb.columns[17:]].mean().mean()\n",
    "        #print y\n",
    "        if pd.isna(y):\n",
    "            x = x + 0\n",
    "        else:\n",
    "            x = x + y\n",
    "    totalTranscript_400[rxn.id]=x\n",
    "    \n",
    "totalTranscript_550 = dict()\n",
    "for rxn in leaf_model.reactions:\n",
    "    x=0\n",
    "    for gene in rxn.genes:\n",
    "        #print gene\n",
    "        y = df_ele[df_ele[\"Glyma2.0\"]==gene.id][df_ele.columns[17:]].mean().mean()\n",
    "        #print y\n",
    "        if pd.isna(y):\n",
    "            x = x + 0\n",
    "        else:\n",
    "            x = x + y\n",
    "    totalTranscript_550[rxn.id]=x"
   ]
  },
  {
   "cell_type": "code",
   "execution_count": 22,
   "metadata": {
    "scrolled": true
   },
   "outputs": [
    {
     "name": "stdout",
     "output_type": "stream",
     "text": [
      "INORGPYROPHOSPHAT_RXN_p1\n",
      "1.101657328803641\n",
      "1.08903172312\n",
      "1.0115934232333557\n",
      "NADH_DEHYDROG_A_RXN_mi2\n",
      "1.0046849867090821\n",
      "1.01675560787\n",
      "0.9881282964439743\n",
      "GAPOXNPHOSPHN_RXN_c2\n",
      "1.0193884551113048\n",
      "1.01191025142\n",
      "1.007390184735083\n",
      "PEPDEPHOS_RXN_c2\n",
      "1.0215797817779837\n",
      "1.01178551139\n",
      "1.0096801844678556\n",
      "FUMHYDR_RXN_m2\n",
      "0.9982047427477271\n",
      "1.00721935887\n",
      "0.9910499971563462\n",
      "TRIOSEPISOMERIZATION_RXN_p1\n",
      "1.0072391861039773\n",
      "1.01857028924\n",
      "0.9888754823771729\n",
      "RIB5PISOM_RXN_p2\n",
      "0.979800200721292\n",
      "0.994290325557\n",
      "0.9854266661725176\n",
      "PHOSPHOGLUCMUT_RXN_p2\n",
      "1.0003436901517928\n",
      "0.994290325557\n",
      "1.0060881258110699\n",
      "CITSYN_RXN_m2\n",
      "1.0367447835558694\n",
      "1.02202578301\n",
      "1.0144017898517175\n",
      "SUCCINATE_DEHYDROGENASE_UBIQUINONE_RXN_mi2\n",
      "1.0057316875838567\n",
      "1.00717613236\n",
      "0.9985658468948113\n",
      "TRANSALDOL_RXN_p2\n",
      "1.0012607681881907\n",
      "0.994223426223\n",
      "1.0070782298827117\n",
      "MALATE_DEH_RXN_c2\n",
      "1.0152293808837947\n",
      "1.01191025142\n",
      "1.0032800630897292\n",
      "MALATE_DEH_RXN_m2\n",
      "1.0152293808837947\n",
      "1.01737953002\n",
      "0.9978865810950349\n",
      "SUCCCOASYN_RXN_m2\n",
      "1.010030296025145\n",
      "1.00717613236\n",
      "1.0028338277406335\n",
      "CYTOCHROME_C_OXIDASE_RXN_mi2\n",
      "1.0130306629446855\n",
      "1.01600150255\n",
      "0.9970759495974426\n",
      "6PGLUCONOLACT_RXN_p2\n",
      "0.9881540574178065\n",
      "0.994245732325\n",
      "0.9938730690919103\n",
      "GLU6PDEHYDROG_RXN_p2\n",
      "1.0071355981789694\n",
      "0.994245732325\n",
      "1.012964466866148\n"
     ]
    }
   ],
   "source": [
    "rxnList = list()\n",
    "transcriptList = list()\n",
    "fluxList = list()\n",
    "import numpy as np\n",
    "\n",
    "for rxnID in totalTranscript_550.keys():\n",
    "    rxnList.append(rxnID)\n",
    "    a=0\n",
    "    b=0\n",
    "    if round(totalTranscript_400[rxnID],3)==0 and round(totalTranscript_550[rxnID],3)==0:\n",
    "        transcriptList.append(0)\n",
    "    elif round(totalTranscript_400[rxnID],3)==0:\n",
    "        transcriptList.append(np.nan)\n",
    "    else:\n",
    "        a = totalTranscript_550[rxnID]/totalTranscript_400[rxnID]\n",
    "        transcriptList.append(a)\n",
    "    if round(leaf_model_550.reactions.get_by_id(rxnID).flux,3)==0 and round(leaf_model_400.reactions.get_by_id(rxnID).flux,3)==0:\n",
    "        fluxList.append(0)\n",
    "    elif round(leaf_model_400.reactions.get_by_id(rxnID).flux,3)==0:\n",
    "        fluxList.append(np.nan)\n",
    "    else:\n",
    "        b = leaf_model_550.reactions.get_by_id(rxnID).flux/leaf_model_400.reactions.get_by_id(rxnID).flux\n",
    "        fluxList.append(b)\n",
    "    if not (a==0 and b==0):\n",
    "        if b == 0:\n",
    "            continue\n",
    "        if round(a/b,2)>0.98 and round(a/b,2)<1.02:\n",
    "            print rxnID\n",
    "            print a\n",
    "            print b\n",
    "            print a/b\n",
    "\n",
    "df_ratios = pd.DataFrame(data={\"rxn ID\":rxnList,\"Transcript ratio\":transcriptList,\"Flux ratio\":fluxList})"
   ]
  },
  {
   "cell_type": "code",
   "execution_count": 23,
   "metadata": {},
   "outputs": [
    {
     "data": {
      "text/plain": [
       "111.53797876447916"
      ]
     },
     "execution_count": 23,
     "metadata": {},
     "output_type": "execute_result"
    }
   ],
   "source": [
    "totalTranscript_400[\"INORGPYROPHOSPHAT_RXN_p1\"]"
   ]
  },
  {
   "cell_type": "code",
   "execution_count": null,
   "metadata": {},
   "outputs": [],
   "source": [
    "leaf_model.reactions.L_CITRULLINE_pc1.genes"
   ]
  },
  {
   "cell_type": "code",
   "execution_count": null,
   "metadata": {},
   "outputs": [],
   "source": [
    "leaf_model_sink = model.copy()\n",
    "\n",
    "leaf_model_sink = setupC3DielModel(leaf_model_sink,\"MetabolitesToTransfer.txt\",starch_sucrose_ratio=0.6)\n",
    "\n",
    "met = Metabolite(\"X_Biomass_contribution_t1\")\n",
    "leaf_model_sink.reactions.Biomass_leaf_tx1.add_metabolites({met:1})\n",
    "leaf_model_sink.metabolites.X_Phloem_contribution_t1.remove_from_model()\n",
    "leaf_model_sink.reactions.diel_biomass.add_metabolites({met:-3})\n",
    "\n",
    "met = Metabolite(\"X_Biomass_contribution_t2\")\n",
    "leaf_model_sink.reactions.Biomass_leaf_tx2.add_metabolites({met:1})\n",
    "leaf_model_sink.metabolites.X_Phloem_contribution_t2.remove_from_model()\n",
    "leaf_model_sink.reactions.diel_biomass.add_metabolites({met:-1})\n",
    "\n",
    "leaf_model_sink.reactions.diel_biomass.objective_coefficient=1\n",
    "flux_analysis.parsimonious.pfba(leaf_model_sink)\n",
    "print(\"Biomass accumulation = \")\n",
    "print(leaf_model_sink.reactions.diel_biomass.flux)"
   ]
  },
  {
   "cell_type": "code",
   "execution_count": 15,
   "metadata": {},
   "outputs": [
    {
     "data": {
      "text/plain": [
       "['__add__',\n",
       " '__class__',\n",
       " '__copy__',\n",
       " '__deepcopy__',\n",
       " '__delattr__',\n",
       " '__dict__',\n",
       " '__dir__',\n",
       " '__doc__',\n",
       " '__eq__',\n",
       " '__format__',\n",
       " '__ge__',\n",
       " '__getattribute__',\n",
       " '__getstate__',\n",
       " '__gt__',\n",
       " '__hash__',\n",
       " '__iadd__',\n",
       " '__imul__',\n",
       " '__init__',\n",
       " '__init_subclass__',\n",
       " '__isub__',\n",
       " '__le__',\n",
       " '__lt__',\n",
       " '__module__',\n",
       " '__mul__',\n",
       " '__ne__',\n",
       " '__new__',\n",
       " '__radd__',\n",
       " '__reduce__',\n",
       " '__reduce_ex__',\n",
       " '__repr__',\n",
       " '__setattr__',\n",
       " '__setstate__',\n",
       " '__sizeof__',\n",
       " '__str__',\n",
       " '__sub__',\n",
       " '__subclasshook__',\n",
       " '__weakref__',\n",
       " '_associate_gene',\n",
       " '_check_bounds',\n",
       " '_compartments',\n",
       " '_dissociate_gene',\n",
       " '_gene_reaction_rule',\n",
       " '_genes',\n",
       " '_id',\n",
       " '_lower_bound',\n",
       " '_metabolites',\n",
       " '_model',\n",
       " '_repr_html_',\n",
       " '_set_id_with_model',\n",
       " '_update_awareness',\n",
       " '_upper_bound',\n",
       " 'add_metabolites',\n",
       " 'annotation',\n",
       " 'boundary',\n",
       " 'bounds',\n",
       " 'build_reaction_from_string',\n",
       " 'build_reaction_string',\n",
       " 'check_mass_balance',\n",
       " 'compartments',\n",
       " 'copy',\n",
       " 'delete',\n",
       " 'flux',\n",
       " 'flux_expression',\n",
       " 'forward_variable',\n",
       " 'functional',\n",
       " 'gene_name_reaction_rule',\n",
       " 'gene_reaction_rule',\n",
       " 'genes',\n",
       " 'get_coefficient',\n",
       " 'get_coefficients',\n",
       " 'get_compartments',\n",
       " 'id',\n",
       " 'knock_out',\n",
       " 'lower_bound',\n",
       " 'metabolites',\n",
       " 'model',\n",
       " 'name',\n",
       " 'notes',\n",
       " 'objective_coefficient',\n",
       " 'products',\n",
       " 'reactants',\n",
       " 'reaction',\n",
       " 'reduced_cost',\n",
       " 'remove_from_model',\n",
       " 'reverse_id',\n",
       " 'reverse_variable',\n",
       " 'reversibility',\n",
       " 'subsystem',\n",
       " 'subtract_metabolites',\n",
       " 'summary',\n",
       " 'update_variable_bounds',\n",
       " 'upper_bound',\n",
       " 'x',\n",
       " 'y']"
      ]
     },
     "execution_count": 15,
     "metadata": {},
     "output_type": "execute_result"
    }
   ],
   "source": [
    "dir(rxn)"
   ]
  },
  {
   "cell_type": "code",
   "execution_count": 31,
   "metadata": {},
   "outputs": [
    {
     "name": "stdout",
     "output_type": "stream",
     "text": [
      "CPD_659_p1 + PROTON_p1 --> CARBON_DIOXIDE_p1 + PHE_p1 + WATER_p1\t0.01763617085978775\n",
      "CARBON_DIOXIDE_p1 <=> CARBON_DIOXIDE_c1\t41.45235659787356\n",
      "AMMONIUM_p1 + 0.9 ATP_p1 + CARBON_DIOXIDE_p1 + 0.1 aATP_p1 <=> 0.8 ADP_p1 + CARBAMOYL_P_p1 + 1.9 PROTON_p1 + 0.2 aADP_p1\t-0.006029628222136551\n",
      "CARBON_DIOXIDE_p1 + D_RIBULOSE_15_P2_p1 + WATER_p1 + rubisco_bal_p1 --> 2.0 G3P_p1 + 2.0 PROTON_p1\t-41.49445901899967\n",
      "CPD_659_p1 + NADP_p1 --> CARBON_DIOXIDE_p1 + NADPH_p1 + TYR_p1\t0.0009710390796269382\n",
      "CARBOXYPHENYLAMINO_DEOXYRIBULOSE_P_p1 + PROTON_p1 --> CARBON_DIOXIDE_p1 + INDOLE_3_GLYCEROL_P_p1 + WATER_p1\t0.0012947187728359173\n",
      "PROTON_p1 + 2.0 PYRUVATE_p1 --> 2_ACETO_LACTATE_p1 + CARBON_DIOXIDE_p1\t0.011206316736203542\n",
      "2_OXOBUTANOATE_p1 + PROTON_p1 + PYRUVATE_p1 --> 2_ACETO_2_HYDROXY_BUTYRATE_p1 + CARBON_DIOXIDE_p1\t0.00538883011378738\n",
      "CPD_7100_p1 + PROTON_p1 --> 2K_4CH3_PENTANOATE_p1 + CARBON_DIOXIDE_p1\t0.0047764628445533435\n",
      "MESO_DIAMINOPIMELATE_p1 + PROTON_p1 --> CARBON_DIOXIDE_p1 + LYS_p1\t0.006858510941458354\n"
     ]
    }
   ],
   "source": [
    "met = leaf_model.metabolites.CARBON_DIOXIDE_p1\n",
    "for rxn in met.reactions:\n",
    "    sto = rxn.metabolites[met]\n",
    "    if round(rxn.flux,3)!=0:\n",
    "        print(rxn.reaction+\"\\t\"+str(rxn.flux*sto))"
   ]
  },
  {
   "cell_type": "code",
   "execution_count": null,
   "metadata": {},
   "outputs": [],
   "source": []
  }
 ],
 "metadata": {
  "kernelspec": {
   "display_name": "Python 3",
   "language": "python",
   "name": "python3"
  },
  "language_info": {
   "codemirror_mode": {
    "name": "ipython",
    "version": 3
   },
   "file_extension": ".py",
   "mimetype": "text/x-python",
   "name": "python",
   "nbconvert_exporter": "python",
   "pygments_lexer": "ipython3",
   "version": "3.6.9"
  }
 },
 "nbformat": 4,
 "nbformat_minor": 2
}
