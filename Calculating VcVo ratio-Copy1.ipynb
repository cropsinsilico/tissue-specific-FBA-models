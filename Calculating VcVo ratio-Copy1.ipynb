{
 "cells": [
  {
   "cell_type": "markdown",
   "metadata": {},
   "source": [
    "## Calculating Vo/Vc using Luttge's equation and data (Luttge 2010)"
   ]
  },
  {
   "cell_type": "markdown",
   "metadata": {},
   "source": [
    "### Luttge equation 7 - Col1"
   ]
  },
  {
   "cell_type": "code",
   "execution_count": 57,
   "metadata": {},
   "outputs": [
    {
     "name": "stdout",
     "output_type": "stream",
     "text": [
      "0.4135058726460882\n"
     ]
    }
   ],
   "source": [
    "Vmax_O2 = 1.8\n",
    "#C_O2 = 253 # Heldt HW, Piechulla B (2008) Pflanzenbiochemie, 4th edn. Spektrum Akademischer Verlag, Heidelberg\n",
    "C_O2 = 273 # Spalding MH, Stumpf DK, Ku MSB, Burris RH, Edwards GE (1979) Crassulacean acid metabo- lism and diurnal variation of internal CO2 and O2-concentrations in Sedum praealtum DC. Aust J Plant Physiol 6:557–567\n",
    "Km_O2 = 535 # Heldt HW, Piechulla B (2008) Pflanzenbiochemie, 4th edn. Spektrum Akademischer Verlag, Heidelberg\n",
    "Vmax_CO2 = 7.6\n",
    "#C_CO2 = 11 # Heldt HW, Piechulla B (2008) Pflanzenbiochemie, 4th edn. Spektrum Akademischer Verlag, Heidelberg\n",
    "C_CO2 = 8.5 # Spalding MH, Stumpf DK, Ku MSB, Burris RH, Edwards GE (1979) Crassulacean acid metabo- lism and diurnal variation of internal CO2 and O2-concentrations in Sedum praealtum DC. Aust J Plant Physiol 6:557–567\n",
    "Km_CO2 = 9 # Heldt HW, Piechulla B (2008) Pflanzenbiochemie, 4th edn. Spektrum Akademischer Verlag, Heidelberg\n",
    "\n",
    "Vmax_O2_CO2_ratio = (1.0/100)*(Km_O2/Km_CO2)\n",
    "\n",
    "\n",
    "V_O2_CO2_ratio = (Vmax_O2_CO2_ratio*C_O2*(Km_CO2+C_CO2))/(C_CO2*(Km_O2+C_O2))\n",
    "print(V_O2_CO2_ratio)"
   ]
  },
  {
   "cell_type": "markdown",
   "metadata": {},
   "source": [
    "### Luttge equation 7 - Col2"
   ]
  },
  {
   "cell_type": "code",
   "execution_count": 52,
   "metadata": {},
   "outputs": [
    {
     "name": "stdout",
     "output_type": "stream",
     "text": [
      "0.4083178944906414\n"
     ]
    }
   ],
   "source": [
    "Vmax_O2 = 1.8 # Badger MR, Andrews TJ, Osmond CB (1974) Detection in C3,C4 and CAM plant leaves of a low Km (CO2) form of RuDP carboxylase having high RuDP oxygenase activity at physiological pH. In: Avron M (ed) Proc 3rd Int Congr Photosnythesis, Elsevier, Amsterdam, 1421–1429\n",
    "C_O2 = 273 # Spalding MH, Stumpf DK, Ku MSB, Burris RH, Edwards GE (1979) Crassulacean acid metabo- lism and diurnal variation of internal CO2 and O2-concentrations in Sedum praealtum DC. Aust J Plant Physiol 6:557–567\n",
    "Km_O2 = 230 # Average from Badger MR, Andrews TJ, Osmond CB (1974) Detection in C3,C4 and CAM plant leaves of a low Km (CO2) form of RuDP carboxylase having high RuDP oxygenase activity at physiological pH. In: Avron M (ed) Proc 3rd Int Congr Photosnythesis, Elsevier, Amsterdam, 1421–1429\n",
    "Vmax_CO2 = 7.6 # Badger MR, Andrews TJ, Osmond CB (1974) Detection in C3,C4 and CAM plant leaves of a low Km (CO2) form of RuDP carboxylase having high RuDP oxygenase activity at physiological pH. In: Avron M (ed) Proc 3rd Int Congr Photosnythesis, Elsevier, Amsterdam, 1421–1429\n",
    "C_CO2 = 8.5 # Spalding MH, Stumpf DK, Ku MSB, Burris RH, Edwards GE (1979) Crassulacean acid metabo- lism and diurnal variation of internal CO2 and O2-concentrations in Sedum praealtum DC. Aust J Plant Physiol 6:557–567\n",
    "Km_CO2 = 18.5 # Average from Badger MR, Andrews TJ, Osmond CB (1974) Detection in C3,C4 and CAM plant leaves of a low Km (CO2) form of RuDP carboxylase having high RuDP oxygenase activity at physiological pH. In: Avron M (ed) Proc 3rd Int Congr Photosnythesis, Elsevier, Amsterdam, 1421–1429\n",
    "\n",
    "V_O2_CO2_ratio = (Vmax_O2*C_O2*(Km_CO2+C_CO2))/(Vmax_CO2*C_CO2*(Km_O2+C_O2))\n",
    "print(V_O2_CO2_ratio)"
   ]
  },
  {
   "cell_type": "markdown",
   "metadata": {},
   "source": [
    "### Luttge equation 9 - Col1"
   ]
  },
  {
   "cell_type": "code",
   "execution_count": 74,
   "metadata": {},
   "outputs": [
    {
     "name": "stdout",
     "output_type": "stream",
     "text": [
      "0.3125\n"
     ]
    }
   ],
   "source": [
    "E = 100\n",
    "C_O2 = 250 # Heldt HW, Piechulla B (2008) Pflanzenbiochemie, 4th edn. Spektrum Akademischer Verlag, Heidelberg\n",
    "C_CO2 = 8 # Heldt HW, Piechulla B (2008) Pflanzenbiochemie, 4th edn. Spektrum Akademischer Verlag, Heidelberg\n",
    "\n",
    "V_O2_CO2_ratio = (1.0/100)*(float(C_O2)/C_CO2)\n",
    "print(V_O2_CO2_ratio)"
   ]
  },
  {
   "cell_type": "code",
   "execution_count": 1,
   "metadata": {},
   "outputs": [
    {
     "data": {
      "text/plain": [
       "31.25"
      ]
     },
     "execution_count": 1,
     "metadata": {},
     "output_type": "execute_result"
    }
   ],
   "source": [
    "250.0/8"
   ]
  },
  {
   "cell_type": "markdown",
   "metadata": {},
   "source": [
    "### Luttge equation 9 - Col2"
   ]
  },
  {
   "cell_type": "code",
   "execution_count": 75,
   "metadata": {},
   "outputs": [
    {
     "name": "stdout",
     "output_type": "stream",
     "text": [
      "0.3211764705882353\n"
     ]
    }
   ],
   "source": [
    "E = 100\n",
    "C_O2 = 273 # Spalding MH, Stumpf DK, Ku MSB, Burris RH, Edwards GE (1979) Crassulacean acid metabo- lism and diurnal variation of internal CO2 and O2-concentrations in Sedum praealtum DC. Aust J Plant Physiol 6:557–567\n",
    "C_CO2 = 8.5 # Spalding MH, Stumpf DK, Ku MSB, Burris RH, Edwards GE (1979) Crassulacean acid metabo- lism and diurnal variation of internal CO2 and O2-concentrations in Sedum praealtum DC. Aust J Plant Physiol 6:557–567\n",
    "\n",
    "V_O2_CO2_ratio = (1.0/100)*(float(C_O2)/C_CO2)\n",
    "print(V_O2_CO2_ratio)"
   ]
  },
  {
   "cell_type": "code",
   "execution_count": null,
   "metadata": {},
   "outputs": [],
   "source": []
  }
 ],
 "metadata": {
  "kernelspec": {
   "display_name": "Python 3",
   "language": "python",
   "name": "python3"
  },
  "language_info": {
   "codemirror_mode": {
    "name": "ipython",
    "version": 3
   },
   "file_extension": ".py",
   "mimetype": "text/x-python",
   "name": "python",
   "nbconvert_exporter": "python",
   "pygments_lexer": "ipython3",
   "version": "3.6.9"
  }
 },
 "nbformat": 4,
 "nbformat_minor": 2
}
