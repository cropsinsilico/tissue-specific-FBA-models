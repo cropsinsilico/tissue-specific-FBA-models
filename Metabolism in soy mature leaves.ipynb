{
 "cells": [
  {
   "cell_type": "markdown",
   "metadata": {},
   "source": [
    "# Modelling metabolism in soy mature leaves\n",
    "\n",
    "### Generating tissue specific model"
   ]
  },
  {
   "cell_type": "code",
   "execution_count": 17,
   "metadata": {},
   "outputs": [],
   "source": [
    "from cobra import io\n",
    "\n",
    "#import sbml file\n",
    "model = io.sbml.create_cobra_model_from_sbml_file(\"/home/sanu/Curation_core_model_08_06_16/core_model_4GA_11_08_16.xml\")"
   ]
  },
  {
   "cell_type": "code",
   "execution_count": 54,
   "metadata": {},
   "outputs": [
    {
     "data": {
      "text/html": [
       "\n",
       "        <table>\n",
       "            <tr>\n",
       "                <td><strong>Gene identifier</strong></td><td>SOLYC00G005900.1</td>\n",
       "            </tr><tr>\n",
       "                <td><strong>Name</strong></td><td></td>\n",
       "            </tr><tr>\n",
       "                <td><strong>Memory address</strong></td>\n",
       "                <td>0x07f1c1f2b5e90</td>\n",
       "            </tr><tr>\n",
       "                <td><strong>Functional</strong></td><td>True</td>\n",
       "            </tr><tr>\n",
       "                <td><strong>In 1 reaction(s)</strong></td><td>\n",
       "                    PSII_RXN_p</td>\n",
       "            </tr>\n",
       "        </table>"
      ],
      "text/plain": [
       "<Gene SOLYC00G005900.1 at 0x7f1c1f2b5e90>"
      ]
     },
     "execution_count": 54,
     "metadata": {},
     "output_type": "execute_result"
    }
   ],
   "source": [
    "model.genes.get_by_id(\"SOLYC00G005900.1\")"
   ]
  },
  {
   "cell_type": "code",
   "execution_count": 20,
   "metadata": {},
   "outputs": [],
   "source": [
    "from cobra import io\n",
    "\n",
    "#import sbml file\n",
    "model = io.sbml.create_cobra_model_from_sbml_file(\"/home/sanu/Documents/Scripts/git/plantcoremetabolism-model/PlantCoreMetabolism_v1_2_3.xml\")"
   ]
  },
  {
   "cell_type": "code",
   "execution_count": 21,
   "metadata": {},
   "outputs": [],
   "source": [
    "import pythoncyc\n",
    "from Functions import *\n",
    "\n",
    "soy = pythoncyc.select_organism(\"soy\")"
   ]
  },
  {
   "cell_type": "code",
   "execution_count": 22,
   "metadata": {},
   "outputs": [],
   "source": [
    "reactions = soy.reactions"
   ]
  },
  {
   "cell_type": "code",
   "execution_count": 23,
   "metadata": {},
   "outputs": [],
   "source": [
    "rxnPresentList = list()\n",
    "rxnIDed = dict()\n",
    "for CycRxn in reactions.instances:\n",
    "    CycRxn_id = CycRxn.frameid\n",
    "    CycRxn_id_adapted = convertCycID2sbmlID(CycRxn_id)\n",
    "    tempList = list()\n",
    "    for rxn in model.reactions:\n",
    "        if CycRxn_id_adapted == rxn.id[0:rxn.id.rindex(\"_\")]:\n",
    "            tempList.append(rxn)\n",
    "    rxnIDed[CycRxn_id]=tempList"
   ]
  },
  {
   "cell_type": "code",
   "execution_count": 24,
   "metadata": {},
   "outputs": [
    {
     "data": {
      "text/plain": [
       "[<Reaction 1_PERIOD_1_PERIOD_1_PERIOD_255_RXN_c at 0x7f43cd356e50>]"
      ]
     },
     "execution_count": 24,
     "metadata": {},
     "output_type": "execute_result"
    }
   ],
   "source": [
    "rxnIDed[\"|1.1.1.255-RXN|\"]"
   ]
  },
  {
   "cell_type": "code",
   "execution_count": 25,
   "metadata": {},
   "outputs": [
    {
     "data": {
      "text/plain": [
       "'1_PERIOD_1_PERIOD_1_PERIOD_255_RXN'"
      ]
     },
     "execution_count": 25,
     "metadata": {},
     "output_type": "execute_result"
    }
   ],
   "source": [
    "convertCycID2sbmlID(\"|1.1.1.255-RXN|\")"
   ]
  },
  {
   "cell_type": "code",
   "execution_count": 26,
   "metadata": {},
   "outputs": [
    {
     "name": "stdout",
     "output_type": "stream",
     "text": [
      "Phytol_degradation_p\n",
      "RXN_7183_NADP_m\n",
      "GLUTSEMIALDEHYDRROG_RXN_c\n",
      "Beta_Oxidation_x\n",
      "PYRROLINECARBREDUCT_RXN_NADP_c\n",
      "PREPHENATE_DEHYDROGENASE_NADP_RXN_p\n",
      "MALATE_DEHYDROGENASE_NADPs_RXN_p\n",
      "RXN_1461_c\n",
      "RXN0_5330_NAD_c\n",
      "SERINE_TRNA_LIGASE_RXN_c\n",
      "RXN_1461_v\n",
      "MALEYLACETOACETATE_ISOMERASE_RXN_c\n",
      "1_5_1_8_RXN_c\n",
      "RXN0_5330_NADP_mi\n",
      "GLUTARYL_COA_DEHYDROG_RXN_m\n",
      "PRO_TRNA_LIGASE_RXN_c\n",
      "PREPHENATEDEHYDROG_RXN_p\n",
      "CYSTAGLY_RXN_p\n",
      "ARGININE_TRNA_LIGASE_RXN_c\n",
      "1_1_1_178_RXN_x\n",
      "TYRAMINOTRANS_RXN_p\n",
      "GLUTAMINE_TRNA_LIGASE_RXN_c\n",
      "TRP_TRNA_LIGASE_RXN_c\n",
      "1_5_1_9_RXN_c\n",
      "GLURS_RXN_c\n",
      "LCYSDESULF_RXN_c\n",
      "ASPARAGINE_TRNA_LIGASE_RXN_c\n",
      "RXN_9651_p\n",
      "2_AMINOADIPATE_AMINOTRANSFERASE_RXN_c\n",
      "SUCCINATE_COA_LIGASE_GDP_FORMING_RXN_m\n",
      "Mehler_Reaction_p\n",
      "1_2_1_25_RXN_m\n",
      "DIACYLGLYCEROL_pr\n",
      "DIHYDROPICRED_RXN_NADP_p\n",
      "ASPARTATE_TRNA_LIGASE_RXN_c\n",
      "Photon_ep\n",
      "HMBPP_synthesis_p\n",
      "HOMOSERDEHYDROG_RXN_NADP_p\n",
      "Plastoquinol_Oxidase_p\n",
      "RXN0_5330_NAD_mi\n",
      "2_KETO_ADIPATE_DEHYDROG_RXN_m\n",
      "LEUCINE_TRNA_LIGASE_RXN_c\n",
      "RXN_9648_p\n",
      "IPP_biosynthesis_c\n",
      "GLYCINE_TRNA_LIGASE_RXN_c\n",
      "Mitochondrial_ATP_Synthase_m\n",
      "unlProtHYPO_c\n",
      "TYROSINE_TRNA_LIGASE_RXN_c\n",
      "GGPP_biosynthesis_p\n",
      "METHIONINE_TRNA_LIGASE_RXN_c\n",
      "HEXOKINASE_RXN_MANNOSE_c\n",
      "A_B_oxidation_x\n",
      "CYS_TRNA_LIGASE_RXN_c\n",
      "RXN0_5330_NADP_c\n",
      "lycopene_biosynthesis_p\n",
      "RXN_9653_p\n",
      "Ferredoxin_Plastoquinone_Reductase_p\n",
      "RXN_1781_v\n",
      "RXN_9958_NAD_m\n",
      "RXN_7678_NADP_p\n",
      "THREONINE_TRNA_LIGASE_RXN_c\n",
      "6_PERIOD_3_PERIOD_4_PERIOD_16_RXN_p\n",
      "NADPH_Dehydrogenase_p\n",
      "PHENYLALANINE_TRNA_LIGASE_RXN_c\n",
      "CYSTEINE_AMINOTRANSFERASE_RXN_m\n",
      "ALLYSINE_DEHYDROG_RXN_c\n",
      "RXN_9650_p\n",
      "RXN66_1_c\n",
      "OROTATE_REDUCTASE_NADH_RXN_p\n",
      "MDA_Fd_Ascorbate_p\n",
      "Plastidial_ATP_Synthase_p\n",
      "DIHYDROPICRED_RXN_NAD_p\n",
      "ALANINE_TRNA_LIGASE_RXN_c\n",
      "2_7_7_14_RXN_m\n",
      "MercaptoPyruvateSulfurtransferase_m\n",
      "RXN_7678_NAD_p\n",
      "GLUTACONYL_COA_DECARBOXYLASE_RXN_x\n",
      "RXN_10786_c\n",
      "PYRROLINECARBREDUCT_RXN_NAD_c\n",
      "PYRUVDEH_RXN_p\n",
      "PYRUVDEH_RXN_m\n",
      "RXN_9654_p\n",
      "PROTON_ATPase_c\n",
      "HOMOSERDEHYDROG_RXN_NAD_p\n",
      "HYDROXYPYRUVATE_REDUCTASE_RXN_NAD_x\n",
      "LYSINE_TRNA_LIGASE_RXN_c\n",
      "MANNITOL_1_PHOSPHATE_RXN_c\n",
      "Phytol_biosynthesis_p\n",
      "RXN_2141_p\n",
      "2_1_1_103_RXN_c\n",
      "VALINE_TRNA_LIGASE_RXN_c\n",
      "2_7_7_15_RXN_m\n",
      "H_im\n",
      "HISTIDINE_TRNA_LIGASE_RXN_c\n",
      "RXN_9652_p\n",
      "SUCCINYL_COA_HYDROLASE_RXN_m\n",
      "NADPPHOSPHAT_RXN_c\n",
      "ISOLEUCINE_TRNA_LIGASE_RXN_c\n"
     ]
    }
   ],
   "source": [
    "IDedlist = set()\n",
    "for rxnlist in rxnIDed.values():\n",
    "    IDedlist = IDedlist.union(set(rxnlist))\n",
    "for rxn in set(model.reactions) - IDedlist:\n",
    "    if not(\"_tx\" in rxn.id or \"_pc\" in rxn.id or \\\n",
    "           \"_mc\" in rxn.id or \"_xc\" in rxn.id or \\\n",
    "           \"_vc\" in rxn.id or \"_ec\" in rxn.id) and \\\n",
    "    (not \"Biomass\" in rxn.id) and (not \"biomass\" in rxn.id) and \\\n",
    "    (not \"Protein\" in rxn.id):\n",
    "        print rxn.id"
   ]
  },
  {
   "cell_type": "code",
   "execution_count": 15,
   "metadata": {},
   "outputs": [
    {
     "ename": "TypeError",
     "evalue": "'set' object has no attribute '__getitem__'",
     "output_type": "error",
     "traceback": [
      "\u001b[0;31m---------------------------------------------------------------------------\u001b[0m",
      "\u001b[0;31mTypeError\u001b[0m                                 Traceback (most recent call last)",
      "\u001b[0;32m<ipython-input-15-f0919116da94>\u001b[0m in \u001b[0;36m<module>\u001b[0;34m()\u001b[0m\n\u001b[0;32m----> 1\u001b[0;31m \u001b[0mIDedlist\u001b[0m\u001b[0;34m[\u001b[0m\u001b[0;34m\"|MALIC-NAD-RXN|\"\u001b[0m\u001b[0;34m]\u001b[0m\u001b[0;34m\u001b[0m\u001b[0m\n\u001b[0m",
      "\u001b[0;31mTypeError\u001b[0m: 'set' object has no attribute '__getitem__'"
     ]
    }
   ],
   "source": [
    "IDedlist[\"|MALIC-NAD-RXN|\"]"
   ]
  },
  {
   "cell_type": "code",
   "execution_count": 16,
   "metadata": {},
   "outputs": [
    {
     "data": {
      "text/html": [
       "\n",
       "        <table>\n",
       "            <tr>\n",
       "                <td><strong>Reaction identifier</strong></td><td>MALIC_NAD_RXN_m</td>\n",
       "            </tr><tr>\n",
       "                <td><strong>Name</strong></td><td>MALIC-NAD-RXN:Malate dehydrogenase (oxaloacetate decarboxylating)</td>\n",
       "            </tr><tr>\n",
       "                <td><strong>Memory address</strong></td>\n",
       "                <td>0x07f43cd946b10</td>\n",
       "            </tr><tr>\n",
       "                <td><strong>Stoichiometry</strong></td>\n",
       "                <td>\n",
       "                    <p style='text-align:right'>MAL_m + NAD_m --> CARBON_DIOXIDE_m + NADH_m + PYRUVATE_m</p>\n",
       "                    <p style='text-align:right'>MAL + NAD --> CARBON-DIOXIDE + NADH + PYRUVATE</p>\n",
       "                </td>\n",
       "            </tr><tr>\n",
       "                <td><strong>GPR</strong></td><td></td>\n",
       "            </tr><tr>\n",
       "                <td><strong>Lower bound</strong></td><td>0.0</td>\n",
       "            </tr><tr>\n",
       "                <td><strong>Upper bound</strong></td><td>1000.0</td>\n",
       "            </tr>\n",
       "        </table>\n",
       "        "
      ],
      "text/plain": [
       "<Reaction MALIC_NAD_RXN_m at 0x7f43cd946b10>"
      ]
     },
     "execution_count": 16,
     "metadata": {},
     "output_type": "execute_result"
    }
   ],
   "source": [
    "model.reactions.MALIC_NAD_RXN_m"
   ]
  },
  {
   "cell_type": "code",
   "execution_count": null,
   "metadata": {},
   "outputs": [],
   "source": []
  }
 ],
 "metadata": {
  "kernelspec": {
   "display_name": "Python 2",
   "language": "python",
   "name": "python2"
  },
  "language_info": {
   "codemirror_mode": {
    "name": "ipython",
    "version": 2
   },
   "file_extension": ".py",
   "mimetype": "text/x-python",
   "name": "python",
   "nbconvert_exporter": "python",
   "pygments_lexer": "ipython2",
   "version": "2.7.15rc1"
  }
 },
 "nbformat": 4,
 "nbformat_minor": 2
}
