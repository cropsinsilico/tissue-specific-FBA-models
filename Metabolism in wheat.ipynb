{
 "cells": [
  {
   "cell_type": "markdown",
   "metadata": {},
   "source": [
    "# Modelling metabolism in wheat "
   ]
  },
  {
   "cell_type": "markdown",
   "metadata": {},
   "source": [
    "### Generating WHEAT core model"
   ]
  },
  {
   "cell_type": "code",
   "execution_count": 15,
   "metadata": {},
   "outputs": [],
   "source": [
    "from cobra import io\n",
    "from cobra.core import Metabolite\n",
    "\n",
    "#import sbml file\n",
    "model = io.sbml.create_cobra_model_from_sbml_file(\"/home/sanu/Documents/Scripts/git/plantcoremetabolism-model/PlantCoreMetabolism_v1_2_3.xml\")\n",
    "\n",
    "#change Biomass_tx to Protein_biomass\n",
    "rxn = model.reactions.get_by_id(\"Biomass_tx\")\n",
    "rxn.id = \"Protein_biomass_tx\"\n",
    "for met in [\"K_b\",\"Ca_b\",\"Mg_b\"]:\n",
    "    met  = model.metabolites.get_by_id(met)\n",
    "    coeff = rxn.metabolites.get(met)\n",
    "    rxn.add_metabolites({met:-1*coeff})\n",
    "met = Metabolite(\"Protein_b\",name=\"Protein_biomass\")\n",
    "met.compartment=\"b\"\n",
    "formula_dict = rxn.check_mass_balance()\n",
    "met.formula = \"\".join([atom+str(formula_dict[atom]*-1) for atom in formula_dict.keys() if atom != \"charge\"])\n",
    "met.charge = formula_dict[\"charge\"]*-1\n",
    "rxn.add_metabolites({met:1})"
   ]
  },
  {
   "cell_type": "code",
   "execution_count": 16,
   "metadata": {},
   "outputs": [],
   "source": [
    "import pythoncyc\n",
    "from Functions import *\n",
    "\n",
    "wheata = pythoncyc.select_organism(\"wheata\")"
   ]
  },
  {
   "cell_type": "code",
   "execution_count": 17,
   "metadata": {},
   "outputs": [
    {
     "name": "stdout",
     "output_type": "stream",
     "text": [
      "--------------\n",
      "This list of metabolic reactions are ignored\n",
      "['RXN_9650_p', '2_KETO_ADIPATE_DEHYDROG_RXN_m', 'Phytol_biosynthesis_p', 'CYSTEINE_AMINOTRANSFERASE_RXN_m', 'GLYCINE_TRNA_LIGASE_RXN_c', 'RXN66_1_c', 'RXN_9648_p', 'RXN-9651', 'Plastidial_ATP_Synthase_p', 'GGPP_biosynthesis_p', 'RXN_9653_p', 'lycopene_biosynthesis_p', 'RXN_2141_p', 'SUCCINYL_COA_HYDROLASE_RXN_m', 'PROTON_ATPase_c', 'MDA_Fd_Ascorbate_p', 'MercaptoPyruvateSulfurtransferase_m', 'Phytol_degradation_p', 'RXN_9652_p', 'A_B_oxidation_x', 'unlProtHYPO_c', 'Mitochondrial_ATP_Synthase_m', 'IPP_biosynthesis_c', 'Mehler_Reaction_p', 'Beta_Oxidation_x', 'HMBPP_synthesis_p', 'OROTATE_REDUCTASE_NADH_RXN_p', 'Ferredoxin_Plastoquinone_Reductase_p', 'RXN_9651_p', 'NADPH_Dehydrogenase_p', 'Plastoquinol_Oxidase_p', 'SUCCINATE_COA_LIGASE_GDP_FORMING_RXN_m', 'RXN_1781_v', 'PREPHENATE_DEHYDROGENASE_NADP_RXN_p', 'PREPHENATEDEHYDROG_RXN_p', 'MALEYLACETOACETATE_ISOMERASE_RXN_c', 'RXN_9654_p', 'LCYSDESULF_RXN_c', 'RXN_9958_NAD_m', 'HEXOKINASE_RXN_MANNOSE_c', 'PYRUVDEH_RXN_p', 'PYRUVDEH_RXN_m', 'RXN_15130_p', '2_AMINOADIPATE_AMINOTRANSFERASE_RXN_c', 'GLURS_RXN_c', 'ALLYSINE_DEHYDROG_RXN_c', 'GLUTARYL_COA_DEHYDROG_RXN_m', 'GLUTACONYL_COA_DECARBOXYLASE_RXN_x']\n",
      "--------------\n",
      "2_PERIOD_7_PERIOD_7_PERIOD_34_RXN_c\n",
      "L_ASCORBATE_PEROXIDASE_RXN_p\n",
      "RXN_10773_c\n",
      "L_ASCORBATE_PEROXIDASE_RXN_m\n",
      "CELLULOSE_SYNTHASE_GDP_FORMING_RXN_c\n",
      "MALTODEG_RXN_c\n"
     ]
    }
   ],
   "source": [
    "model = addGPR2Models(model,wheata)"
   ]
  },
  {
   "cell_type": "code",
   "execution_count": 19,
   "metadata": {},
   "outputs": [
    {
     "data": {
      "text/plain": [
       "804"
      ]
     },
     "execution_count": 19,
     "metadata": {},
     "output_type": "execute_result"
    }
   ],
   "source": [
    "len(model.reactions)"
   ]
  },
  {
   "cell_type": "markdown",
   "metadata": {},
   "source": [
    "### Use biomass composition to generate biomass equations"
   ]
  },
  {
   "cell_type": "code",
   "execution_count": 4,
   "metadata": {},
   "outputs": [],
   "source": [
    "import pandas as pd\n",
    "\n",
    "df = pd.read_csv(\"/home/sanu/biomass_wheat.csv\")\n",
    "\n",
    "\n",
    "from cobra.core import Reaction\n",
    "\n",
    "rxn = Reaction(\"Biomass_leaf_tx\")\n",
    "for met in df[\"Unnamed: 0\"]:\n",
    "    rxn.add_metabolites({model.metabolites.get_by_id(met):-1*float(df[df[\"Unnamed: 0\"]==met][\"leaf\"])})\n",
    "rxn.lower_bound = 0\n",
    "rxn.upper_bound = 1000\n",
    "model.add_reaction(rxn)\n",
    "\n",
    "rxn = Reaction(\"Biomass_stem_tx\")\n",
    "for met in df[\"Unnamed: 0\"]:\n",
    "    rxn.add_metabolites({model.metabolites.get_by_id(met):-1*float(df[df[\"Unnamed: 0\"]==met][\"stem\"])})\n",
    "rxn.lower_bound = 0\n",
    "rxn.upper_bound = 1000\n",
    "model.add_reaction(rxn)\n",
    "\n",
    "rxn = Reaction(\"Biomass_root_tx\")\n",
    "for met in df[\"Unnamed: 0\"]:\n",
    "    rxn.add_metabolites({model.metabolites.get_by_id(met):-1*float(df[df[\"Unnamed: 0\"]==met][\"root\"])})\n",
    "rxn.lower_bound = 0\n",
    "rxn.upper_bound = 1000\n",
    "model.add_reaction(rxn)\n",
    "\n",
    "rxn = Reaction(\"Biomass_seed_tx\")\n",
    "for met in df[\"Unnamed: 0\"]:\n",
    "    rxn.add_metabolites({model.metabolites.get_by_id(met):-1*float(df[df[\"Unnamed: 0\"]==met][\"seed\"])})\n",
    "rxn.lower_bound = 0\n",
    "rxn.upper_bound = 1000\n",
    "model.add_reaction(rxn)"
   ]
  },
  {
   "cell_type": "markdown",
   "metadata": {},
   "source": [
    "### Run stem"
   ]
  },
  {
   "cell_type": "code",
   "execution_count": 5,
   "metadata": {},
   "outputs": [
    {
     "name": "stdout",
     "output_type": "stream",
     "text": [
      "Biomass flux =0.809422183275\n"
     ]
    }
   ],
   "source": [
    "from cobra import flux_analysis\n",
    "stem_model = model.copy()\n",
    "stem_model.reactions.GLC_tx.upper_bound = 0\n",
    "stem_model.reactions.GLC_tx.lower_bound = 0\n",
    "stem_model.reactions.Sucrose_tx.upper_bound = 1\n",
    "stem_model.reactions.Sucrose_tx.lower_bound = 1\n",
    "stem_model.reactions.Photon_tx.upper_bound = 0\n",
    "stem_model.reactions.Photon_tx.lower_bound = 0\n",
    "stem_model.reactions.Biomass_stem_tx.objective_coefficient=1\n",
    "flux_analysis.parsimonious.pfba(stem_model)\n",
    "print(\"Biomass flux =\"+str(stem_model.reactions.Biomass_stem_tx.flux))"
   ]
  },
  {
   "cell_type": "markdown",
   "metadata": {},
   "source": [
    "### Run root"
   ]
  },
  {
   "cell_type": "code",
   "execution_count": 6,
   "metadata": {},
   "outputs": [
    {
     "name": "stdout",
     "output_type": "stream",
     "text": [
      "Biomass flux =1000.0\n"
     ]
    }
   ],
   "source": [
    "from cobra import flux_analysis\n",
    "root_model = model.copy()\n",
    "root_model.reactions.GLC_tx.upper_bound = 0\n",
    "root_model.reactions.GLC_tx.lower_bound = 0\n",
    "root_model.reactions.Sucrose_tx.upper_bound = 1\n",
    "root_model.reactions.Sucrose_tx.lower_bound = 1\n",
    "root_model.reactions.Photon_tx.upper_bound = 0\n",
    "root_model.reactions.Photon_tx.lower_bound = 0\n",
    "root_model.reactions.Biomass_root_tx.objective_coefficient=1\n",
    "flux_analysis.parsimonious.pfba(root_model)\n",
    "print(\"Biomass flux =\"+str(root_model.reactions.Biomass_root_tx.flux))"
   ]
  },
  {
   "cell_type": "markdown",
   "metadata": {},
   "source": [
    "### Run seed"
   ]
  },
  {
   "cell_type": "code",
   "execution_count": 14,
   "metadata": {},
   "outputs": [
    {
     "name": "stdout",
     "output_type": "stream",
     "text": [
      "Biomass flux =0.0169043018372\n"
     ]
    }
   ],
   "source": [
    "from cobra import flux_analysis\n",
    "seed_model = model.copy()\n",
    "seed_model.reactions.GLC_tx.upper_bound = 0\n",
    "seed_model.reactions.GLC_tx.lower_bound = 0\n",
    "seed_model.reactions.Sucrose_tx.upper_bound = 1\n",
    "seed_model.reactions.Sucrose_tx.lower_bound = 1\n",
    "seed_model.reactions.Photon_tx.upper_bound = 0\n",
    "seed_model.reactions.Photon_tx.lower_bound = 0\n",
    "seed_model.reactions.Biomass_seed_tx.objective_coefficient=1\n",
    "sol=flux_analysis.parsimonious.pfba(seed_model)\n",
    "print(\"Biomass flux =\"+str(seed_model.reactions.Biomass_seed_tx.flux))\n",
    "\n",
    "    \n",
    "    "
   ]
  },
  {
   "cell_type": "markdown",
   "metadata": {},
   "source": [
    "### Generate diel leaf model\n",
    "\n"
   ]
  },
  {
   "cell_type": "code",
   "execution_count": 8,
   "metadata": {},
   "outputs": [],
   "source": [
    "########################################################\n",
    "#This function was used to set up a C3 leaf diel model #\n",
    "########################################################\n",
    "def setupC3DielModel(core_model,transferMets,starch_sucrose_ratio=90.0/100):\n",
    "    from cobra.core import Metabolite, Reaction\n",
    "    import re\n",
    "\n",
    "    #create two copies of model elements for day and night\n",
    "    cobra_model2 = core_model.copy()\n",
    "    for met in cobra_model2.metabolites:\n",
    "        met.id = met.id+\"1\"\n",
    "        met.compartment = met.compartment+\"1\"\n",
    "    for rxn in cobra_model2.reactions:\n",
    "        rxn.id = rxn.id+\"1\"\n",
    "\n",
    "    cobra_model3 = core_model.copy()\n",
    "    for met in cobra_model3.metabolites:\n",
    "        met.id = met.id+\"2\"\n",
    "        met.compartment = met.compartment+\"2\"\n",
    "    for rxn in cobra_model3.reactions:\n",
    "        rxn.id = rxn.id+\"2\"\n",
    "\n",
    "    #merge the day and night model\n",
    "    cobra_model = cobra_model2+cobra_model3\n",
    "    for met in cobra_model3.metabolites:\n",
    "        if not cobra_model.metabolites.__contains__(met.id):\n",
    "            cobra_model.add_metabolites(met.copy())\n",
    "\n",
    "    met1 = Metabolite(\"X_Phloem_contribution_t1\",name=\"Phloem output during the day\")\n",
    "    cobra_model.reactions.get_by_id(\"Phloem_output_tx1\").add_metabolites({met1:1})\n",
    "    met2 = Metabolite(\"X_Phloem_contribution_t2\",name=\"Phloem output during at night\")\n",
    "    cobra_model.reactions.get_by_id(\"Phloem_output_tx2\").add_metabolites({met2:1})\n",
    "\n",
    "    rxn = Reaction(\"diel_biomass\")\n",
    "    rxn.add_metabolites({met1:-3,met2:-1})\n",
    "    rxn.lower_bound = 0\n",
    "    rxn.upper_bound = 1000\n",
    "    cobra_model.add_reaction(rxn)\n",
    "\n",
    "    #Adding reactions to allow for day-night metabolite accumulations\n",
    "    tmfile = open(transferMets,\"r\")\n",
    "    tmset=set()\n",
    "    for line in tmfile:\n",
    "        tmset.add(line.replace(\"\\n\",\"\"))\n",
    "\n",
    "    for met in tmset:\n",
    "        if met == \"AMMONIUM_v\" or met==\"FRUCTAN_v\":\n",
    "            continue\n",
    "        tempRxn = Reaction(met+\"_dielTransfer\")\n",
    "        tempRxn.add_metabolites({cobra_model.metabolites.get_by_id(met+\"1\"):-1,cobra_model.metabolites.get_by_id(met+\"2\"):1})\n",
    "        tempRxn.lower_bound=-1000\n",
    "        if not ((met == \"STARCH_p\") or (met == \"SUCROSE_v\") or (met == \"MAL_v\") or (met == \"aMAL_v\") or (met == \"NITRATE_v\") or (met == \"CIT_v\") or (met == \"aCIT_v\") or (met == \"PROTON_v\")):\n",
    "            tempRxn.lower_bound=0\n",
    "        tempRxn.upper_bound=1000\n",
    "        cobra_model.add_reaction(tempRxn)\n",
    "\n",
    "    fractionMets=dict()\n",
    "    for rxn in cobra_model.reactions:\n",
    "        for met in rxn.metabolites.keys():\n",
    "            prefix=\"\"\n",
    "            a=re.search(\"^a{1,3}\",met.id)\n",
    "            anion=\"\"\n",
    "            if a:\n",
    "                anion=a.group(0)\n",
    "                prefix=anion\n",
    "            b=re.search(\"^b{1,3}\",met.id)\n",
    "            basic=\"\"\n",
    "            if b:\n",
    "                basic=b.group(0)\n",
    "                prefix=basic\n",
    "            if ((not prefix == \"\") and met.compartment == \"v1\"):\n",
    "                fractionMets[met]=prefix\n",
    "\n",
    "    temp=cobra_model.copy()\n",
    "    for met in fractionMets.keys():\n",
    "        for rxn in met.reactions:\n",
    "            if rxn.id.__contains__(\"_dielTransfer\"):\n",
    "                continue\n",
    "            else:\n",
    "                mainMet = met.id[len(fractionMets[met]):]\n",
    "                coeff1 = temp.reactions.get_by_id(rxn.id).metabolites.get(temp.metabolites.get_by_id(mainMet))\n",
    "                coeff2 = temp.reactions.get_by_id(rxn.id).metabolites.get(temp.metabolites.get_by_id(met.id))\n",
    "                if not coeff1:\n",
    "                    coeff1=0\n",
    "                if not coeff2:\n",
    "                    coeff2=0\n",
    "                total = coeff1 + coeff2\n",
    "                coeff1 = float(coeff1)/total\n",
    "                coeff2 = float(coeff2)/total\n",
    "                if cobra_model.reactions.has_id(met.id[0:len(met.id)-1]+\"_dielTransfer\"):\n",
    "                    ub = temp.reactions.get_by_id(met.id[0:len(met.id)-1]+\"_dielTransfer\").upper_bound\n",
    "                    lb = temp.reactions.get_by_id(met.id[0:len(met.id)-1]+\"_dielTransfer\").lower_bound\n",
    "                    temp.reactions.get_by_id(met.id[0:len(met.id)-1]+\"_dielTransfer\").remove_from_model()\n",
    "                    temp.reactions.get_by_id(mainMet[0:len(mainMet)-1]+\"_dielTransfer\").remove_from_model()\n",
    "                    Reac = Reaction(mainMet[0:len(mainMet)-1]+\"_dielTransfer\",name=mainMet+\"_dielTransfer\")\n",
    "                    Reac.add_metabolites({temp.metabolites.get_by_id(met.id[0:len(met.id)-1]+\"1\"):-coeff2,temp.metabolites.get_by_id(met.id[0:len(met.id)-1]+\"2\"):coeff2,temp.metabolites.get_by_id(mainMet[0:len(mainMet)-1]+\"1\"):-coeff1,temp.metabolites.get_by_id(mainMet[0:len(mainMet)-1]+\"2\"):coeff1})\n",
    "                    Reac.lower_bound=lb\n",
    "                    Reac.upper_bound=ub\n",
    "                    temp.add_reaction(Reac)\n",
    "                    print Reac.reaction\n",
    "                break\n",
    "    ####ADD CONSTRAINTS TO MODEL####\n",
    "    cobra_model = temp.copy()\n",
    "\n",
    "    #objective function\n",
    "    cobra_model.reactions.get_by_id(\"diel_biomass\").objective_coefficient=1\n",
    "    #Leaves - light\n",
    "    cobra_model.reactions.get_by_id(\"Sucrose_tx1\").lower_bound=0\n",
    "    cobra_model.reactions.get_by_id(\"Sucrose_tx1\").upper_bound=0\n",
    "    cobra_model.reactions.get_by_id(\"GLC_tx1\").lower_bound=0\n",
    "    cobra_model.reactions.get_by_id(\"GLC_tx1\").upper_bound=0\n",
    "    cobra_model.reactions.get_by_id(\"CO2_tx1\").lower_bound=0\n",
    "    cobra_model.reactions.get_by_id(\"NH4_tx1\").lower_bound=0\n",
    "    cobra_model.reactions.get_by_id(\"NH4_tx1\").upper_bound=0\n",
    "    #Leaves - dark\n",
    "    cobra_model.reactions.get_by_id(\"Sucrose_tx2\").lower_bound=0\n",
    "    cobra_model.reactions.get_by_id(\"Sucrose_tx2\").upper_bound=0\n",
    "    cobra_model.reactions.get_by_id(\"GLC_tx2\").lower_bound=0\n",
    "    cobra_model.reactions.get_by_id(\"GLC_tx2\").upper_bound=0\n",
    "    cobra_model.reactions.get_by_id(\"Photon_tx2\").lower_bound=0\n",
    "    cobra_model.reactions.get_by_id(\"Photon_tx2\").upper_bound=0\n",
    "    cobra_model.reactions.get_by_id(\"NH4_tx2\").lower_bound=0\n",
    "    cobra_model.reactions.get_by_id(\"NH4_tx2\").upper_bound=0\n",
    "    cobra_model.reactions.get_by_id(\"CO2_tx2\").upper_bound=0\n",
    "\n",
    "    #Set pG6P transporter to 0\n",
    "    cobra_model.reactions.get_by_id(\"G6P_Pi_pc1\").lower_bound=0\n",
    "    cobra_model.reactions.get_by_id(\"G6P_Pi_pc1\").upper_bound=0\n",
    "    cobra_model.reactions.get_by_id(\"G6P_Pi_pc2\").lower_bound=0\n",
    "    cobra_model.reactions.get_by_id(\"G6P_Pi_pc2\").upper_bound=0\n",
    "\n",
    "    #Turn off PTOX\n",
    "    cobra_model.reactions.get_by_id(\"Plastoquinol_Oxidase_p1\").lower_bound=0\n",
    "    cobra_model.reactions.get_by_id(\"Plastoquinol_Oxidase_p1\").upper_bound=0\n",
    "\n",
    "    #nitrate uptake constrain\n",
    "    Nitrate_balance = Metabolite(\"Nitrate_bal_c\", name = \"Weights to balance nitrate uptake\", compartment = \"c1\")\n",
    "    cobra_model.reactions.get_by_id(\"Nitrate_ec1\").add_metabolites({Nitrate_balance:-2})\n",
    "    cobra_model.reactions.get_by_id(\"Nitrate_ec2\").add_metabolites({Nitrate_balance:3})\n",
    "\n",
    "    #Rubisco balance\n",
    "    Rubisco_balance = Metabolite(\"rubisco_bal_p1\", name = \"Weights to balance RuBP carboxygenase oxygenase balance\", compartment = \"p1\")\n",
    "    cobra_model.reactions.get_by_id(\"RXN_961_p1\").add_metabolites({Rubisco_balance:3})\n",
    "    cobra_model.reactions.get_by_id(\"RIBULOSE_BISPHOSPHATE_CARBOXYLASE_RXN_p1\").add_metabolites({Rubisco_balance:-1})\n",
    "\n",
    "    #generic ATPase and NADPH oxidase\n",
    "    Maintenance_constraint = Metabolite(\"ATPase_NADPHoxidase_constraint_c1\",name =  \"ATPase_NADPHoxidase_constraint_c1\", compartment = \"c1\")\n",
    "    Maintenance_constraint2 = Metabolite(\"ATPase_NADPHoxidase_constraint_c2\",name =  \"ATPase_NADPHoxidase_constraint_c2\", compartment = \"c2\")\n",
    "    Maintenance_constraint3 = Metabolite(\"Light_dark_maintainence_constraint\",name =  \"Light_dark_maintainence_constraint\", compartment = \"c1\")\n",
    "    cobra_model.reactions.get_by_id(\"ATPase_tx1\").add_metabolites({Maintenance_constraint:1,Maintenance_constraint3:1})\n",
    "    cobra_model.reactions.get_by_id(\"ATPase_tx2\").add_metabolites({Maintenance_constraint2:1,Maintenance_constraint3:-1})\n",
    "    cobra_model.reactions.get_by_id(\"NADPHoxc_tx1\").add_metabolites({Maintenance_constraint:-3})\n",
    "    cobra_model.reactions.get_by_id(\"NADPHoxc_tx2\").add_metabolites({Maintenance_constraint2:-3})\n",
    "    cobra_model.reactions.get_by_id(\"NADPHoxm_tx1\").add_metabolites({Maintenance_constraint:-3})\n",
    "    cobra_model.reactions.get_by_id(\"NADPHoxm_tx2\").add_metabolites({Maintenance_constraint2:-3})\n",
    "    cobra_model.reactions.get_by_id(\"NADPHoxp_tx1\").add_metabolites({Maintenance_constraint:-3})\n",
    "    cobra_model.reactions.get_by_id(\"NADPHoxp_tx2\").add_metabolites({Maintenance_constraint2:-3})\n",
    "\n",
    "    ##constrain sucrose and starch storage\n",
    "    Sucorse_starch_balance = Metabolite(\"sucrose_starch_bal_c\", name = \"Weights to balance sucrose-starch uptake\", compartment = \"c1\")\n",
    "    cobra_model.reactions.get_by_id(\"SUCROSE_v_dielTransfer\").add_metabolites({Sucorse_starch_balance:-1*starch_sucrose_ratio})\n",
    "    cobra_model.reactions.get_by_id(\"STARCH_p_dielTransfer\").add_metabolites({Sucorse_starch_balance:1})\n",
    "\n",
    "    #Plastid enolase was not detected in Arabidopsis mesophyll tissue\n",
    "    cobra_model.reactions.get_by_id(\"2PGADEHYDRAT_RXN_p1\").lower_bound=0\n",
    "    cobra_model.reactions.get_by_id(\"2PGADEHYDRAT_RXN_p1\").upper_bound=0\n",
    "    cobra_model.reactions.get_by_id(\"2PGADEHYDRAT_RXN_p2\").lower_bound=0\n",
    "    cobra_model.reactions.get_by_id(\"2PGADEHYDRAT_RXN_p2\").upper_bound=0\n",
    "\n",
    "    #Setting chloroplastic NADPH dehydrogenase to 0  ((Yamamoto et al., 2011)\n",
    "    cobra_model.reactions.get_by_id(\"NADPH_Dehydrogenase_p1\").lower_bound=0\n",
    "    cobra_model.reactions.get_by_id(\"NADPH_Dehydrogenase_p1\").upper_bound=0\n",
    "    cobra_model.reactions.get_by_id(\"NADPH_Dehydrogenase_p2\").lower_bound=0\n",
    "    cobra_model.reactions.get_by_id(\"NADPH_Dehydrogenase_p2\").upper_bound=0\n",
    "\n",
    "    #ATP_ADP_Pi constrained to 0 because while there is evidence for its existance, it does not carry high flux\n",
    "    cobra_model.reactions.get_by_id(\"ATP_ADP_Pi_pc1\").lower_bound = 0\n",
    "    cobra_model.reactions.get_by_id(\"ATP_ADP_Pi_pc1\").upper_bound = 0\n",
    "    cobra_model.reactions.get_by_id(\"ATP_ADP_Pi_pc2\").lower_bound = 0\n",
    "    cobra_model.reactions.get_by_id(\"ATP_ADP_Pi_pc2\").upper_bound = 0\n",
    "\n",
    "    return cobra_model\n"
   ]
  },
  {
   "cell_type": "code",
   "execution_count": 10,
   "metadata": {},
   "outputs": [
    {
     "name": "stdout",
     "output_type": "stream",
     "text": [
      "0.5 CIT_v1 + 0.5 aCIT_v1 <=> 0.5 CIT_v2 + 0.5 aCIT_v2\n",
      "bHIS_v1 --> bHIS_v2\n",
      "0.7 MAL_v1 + 0.3 aMAL_v1 <=> 0.7 MAL_v2 + 0.3 aMAL_v2\n",
      "Phloem output = \n",
      "1.77378971595\n"
     ]
    }
   ],
   "source": [
    "leaf_model = model.copy()\n",
    "\n",
    "leaf_model = setupC3DielModel(leaf_model,\"MetabolitesToTransfer.txt\",starch_sucrose_ratio=0.6)\n",
    "\n",
    "leaf_model.reactions.diel_biomass.objective_coefficient=1\n",
    "flux_analysis.parsimonious.pfba(leaf_model)\n",
    "print(\"Phloem output = \")\n",
    "print(leaf_model.reactions.diel_biomass.flux)"
   ]
  },
  {
   "cell_type": "code",
   "execution_count": 13,
   "metadata": {},
   "outputs": [
    {
     "name": "stdout",
     "output_type": "stream",
     "text": [
      "0.5 CIT_v1 + 0.5 aCIT_v1 <=> 0.5 CIT_v2 + 0.5 aCIT_v2\n",
      "bHIS_v1 --> bHIS_v2\n",
      "0.7 MAL_v1 + 0.3 aMAL_v1 <=> 0.7 MAL_v2 + 0.3 aMAL_v2\n",
      "Biomass accumulation = \n",
      "14.9543771986\n"
     ]
    }
   ],
   "source": [
    "leaf_model_sink = model.copy()\n",
    "\n",
    "leaf_model_sink = setupC3DielModel(leaf_model_sink,\"MetabolitesToTransfer.txt\",starch_sucrose_ratio=0.6)\n",
    "\n",
    "met = Metabolite(\"X_Biomass_contribution_t1\")\n",
    "leaf_model_sink.reactions.Biomass_leaf_tx1.add_metabolites({met:1})\n",
    "leaf_model_sink.metabolites.X_Phloem_contribution_t1.remove_from_model()\n",
    "leaf_model_sink.reactions.diel_biomass.add_metabolites({met:-3})\n",
    "\n",
    "met = Metabolite(\"X_Biomass_contribution_t2\")\n",
    "leaf_model_sink.reactions.Biomass_leaf_tx2.add_metabolites({met:1})\n",
    "leaf_model_sink.metabolites.X_Phloem_contribution_t2.remove_from_model()\n",
    "leaf_model_sink.reactions.diel_biomass.add_metabolites({met:-1})\n",
    "\n",
    "leaf_model_sink.reactions.diel_biomass.objective_coefficient=1\n",
    "flux_analysis.parsimonious.pfba(leaf_model_sink)\n",
    "print(\"Biomass accumulation = \")\n",
    "print(leaf_model_sink.reactions.diel_biomass.flux)"
   ]
  },
  {
   "cell_type": "code",
   "execution_count": null,
   "metadata": {},
   "outputs": [],
   "source": []
  }
 ],
 "metadata": {
  "kernelspec": {
   "display_name": "Python 2",
   "language": "python",
   "name": "python2"
  },
  "language_info": {
   "codemirror_mode": {
    "name": "ipython",
    "version": 2
   },
   "file_extension": ".py",
   "mimetype": "text/x-python",
   "name": "python",
   "nbconvert_exporter": "python",
   "pygments_lexer": "ipython2",
   "version": "2.7.15rc1"
  }
 },
 "nbformat": 4,
 "nbformat_minor": 2
}
