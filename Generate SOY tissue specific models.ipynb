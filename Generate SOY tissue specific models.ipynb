{
 "cells": [
  {
   "cell_type": "code",
   "execution_count": 1,
   "metadata": {},
   "outputs": [],
   "source": [
    "import pandas as pd\n",
    "from cobra import io\n",
    "from cobra.core import Metabolite, Reaction\n",
    "import pythoncyc\n",
    "from Functions import *\n",
    "\n",
    "import logging\n",
    "logging.basicConfig()\n",
    "logger = logging.getLogger('logger')\n",
    "\n",
    "\n",
    "fname = \"Data/Soy_core_model_GA.sbml\"\n",
    "model = io.sbml.read_sbml_model(fname,use_fbc_package=True)"
   ]
  },
  {
   "cell_type": "markdown",
   "metadata": {},
   "source": [
    "## Generate leaf model"
   ]
  },
  {
   "cell_type": "code",
   "execution_count": 2,
   "metadata": {},
   "outputs": [],
   "source": [
    "leaf_model = model.copy()\n",
    "\n"
   ]
  },
  {
   "cell_type": "markdown",
   "metadata": {},
   "source": [
    "Extract diurnal starch, sucrose, hemicellulose and simple sugar content from Clements 1930, Figure 6, 9, 13 and 14. Based on Figure 1 and 2, dawn = 8am and dusk = 8pm\n",
    "\n",
    "<img src=\"references/Screenshot_20190717_161155.png\" height=50% width=50%>\n",
    "\n",
    "<img src=\"references/Screenshot_20190717_160304.png\" height=50% width=50%>\n",
    "\n",
    "<img src=\"references/Screenshot_20190717_161259.png\" height=50% width=50%>\n",
    "\n",
    "<img src=\"references/Screenshot_20190717_160242.png\" height=50% width=50%>"
   ]
  },
  {
   "cell_type": "code",
   "execution_count": 3,
   "metadata": {},
   "outputs": [
    {
     "data": {
      "text/html": [
       "<div>\n",
       "<style scoped>\n",
       "    .dataframe tbody tr th:only-of-type {\n",
       "        vertical-align: middle;\n",
       "    }\n",
       "\n",
       "    .dataframe tbody tr th {\n",
       "        vertical-align: top;\n",
       "    }\n",
       "\n",
       "    .dataframe thead th {\n",
       "        text-align: right;\n",
       "    }\n",
       "</style>\n",
       "<table border=\"1\" class=\"dataframe\">\n",
       "  <thead>\n",
       "    <tr style=\"text-align: right;\">\n",
       "      <th></th>\n",
       "      <th>starch_dawn (g/100gFW)</th>\n",
       "      <th>hemicellulose_dawn (g/100gFW)</th>\n",
       "      <th>simple sugars_dawn (g/100gFW)</th>\n",
       "      <th>sucrose_dawn (g/100gFW)</th>\n",
       "      <th>starch_dusk (g/100gFW)</th>\n",
       "      <th>hemicellulose_dusk (g/100gFW)</th>\n",
       "      <th>simple sugars_dusk (g/100gFW)</th>\n",
       "      <th>sucrose_dusk (g/100gFW)</th>\n",
       "      <th>Δstarch</th>\n",
       "      <th>Δhemicellulose</th>\n",
       "      <th>Δsimple sugars</th>\n",
       "      <th>Δsucrose</th>\n",
       "    </tr>\n",
       "    <tr>\n",
       "      <th>Series</th>\n",
       "      <th></th>\n",
       "      <th></th>\n",
       "      <th></th>\n",
       "      <th></th>\n",
       "      <th></th>\n",
       "      <th></th>\n",
       "      <th></th>\n",
       "      <th></th>\n",
       "      <th></th>\n",
       "      <th></th>\n",
       "      <th></th>\n",
       "      <th></th>\n",
       "    </tr>\n",
       "  </thead>\n",
       "  <tbody>\n",
       "    <tr>\n",
       "      <th>1</th>\n",
       "      <td>0.424568</td>\n",
       "      <td>1.089463</td>\n",
       "      <td>0.271941</td>\n",
       "      <td>0.271941</td>\n",
       "      <td>1.328468</td>\n",
       "      <td>1.089463</td>\n",
       "      <td>0.032023</td>\n",
       "      <td>0.460078</td>\n",
       "      <td>0.903900</td>\n",
       "      <td>0.000000</td>\n",
       "      <td>-0.239919</td>\n",
       "      <td>0.188136</td>\n",
       "    </tr>\n",
       "    <tr>\n",
       "      <th>2</th>\n",
       "      <td>0.497429</td>\n",
       "      <td>1.892274</td>\n",
       "      <td>0.650125</td>\n",
       "      <td>0.454127</td>\n",
       "      <td>1.600012</td>\n",
       "      <td>0.663310</td>\n",
       "      <td>0.353374</td>\n",
       "      <td>0.187004</td>\n",
       "      <td>1.102582</td>\n",
       "      <td>-1.228963</td>\n",
       "      <td>-0.296751</td>\n",
       "      <td>-0.267123</td>\n",
       "    </tr>\n",
       "    <tr>\n",
       "      <th>3</th>\n",
       "      <td>0.889538</td>\n",
       "      <td>0.861645</td>\n",
       "      <td>0.568619</td>\n",
       "      <td>0.097705</td>\n",
       "      <td>2.625428</td>\n",
       "      <td>0.951069</td>\n",
       "      <td>0.413878</td>\n",
       "      <td>0.396437</td>\n",
       "      <td>1.735890</td>\n",
       "      <td>0.089424</td>\n",
       "      <td>-0.154741</td>\n",
       "      <td>0.298732</td>\n",
       "    </tr>\n",
       "    <tr>\n",
       "      <th>4</th>\n",
       "      <td>1.252666</td>\n",
       "      <td>1.122133</td>\n",
       "      <td>0.553381</td>\n",
       "      <td>0.000000</td>\n",
       "      <td>1.097803</td>\n",
       "      <td>1.072162</td>\n",
       "      <td>0.389194</td>\n",
       "      <td>0.142069</td>\n",
       "      <td>-0.154863</td>\n",
       "      <td>-0.049971</td>\n",
       "      <td>-0.164187</td>\n",
       "      <td>0.142069</td>\n",
       "    </tr>\n",
       "  </tbody>\n",
       "</table>\n",
       "</div>"
      ],
      "text/plain": [
       "        starch_dawn (g/100gFW)  hemicellulose_dawn (g/100gFW)  \\\n",
       "Series                                                          \n",
       "1                     0.424568                       1.089463   \n",
       "2                     0.497429                       1.892274   \n",
       "3                     0.889538                       0.861645   \n",
       "4                     1.252666                       1.122133   \n",
       "\n",
       "        simple sugars_dawn (g/100gFW)  sucrose_dawn (g/100gFW)  \\\n",
       "Series                                                           \n",
       "1                            0.271941                 0.271941   \n",
       "2                            0.650125                 0.454127   \n",
       "3                            0.568619                 0.097705   \n",
       "4                            0.553381                 0.000000   \n",
       "\n",
       "        starch_dusk (g/100gFW)  hemicellulose_dusk (g/100gFW)  \\\n",
       "Series                                                          \n",
       "1                     1.328468                       1.089463   \n",
       "2                     1.600012                       0.663310   \n",
       "3                     2.625428                       0.951069   \n",
       "4                     1.097803                       1.072162   \n",
       "\n",
       "        simple sugars_dusk (g/100gFW)  sucrose_dusk (g/100gFW)   Δstarch  \\\n",
       "Series                                                                     \n",
       "1                            0.032023                 0.460078  0.903900   \n",
       "2                            0.353374                 0.187004  1.102582   \n",
       "3                            0.413878                 0.396437  1.735890   \n",
       "4                            0.389194                 0.142069 -0.154863   \n",
       "\n",
       "        Δhemicellulose  Δsimple sugars  Δsucrose  \n",
       "Series                                            \n",
       "1             0.000000       -0.239919  0.188136  \n",
       "2            -1.228963       -0.296751 -0.267123  \n",
       "3             0.089424       -0.154741  0.298732  \n",
       "4            -0.049971       -0.164187  0.142069  "
      ]
     },
     "execution_count": 3,
     "metadata": {},
     "output_type": "execute_result"
    }
   ],
   "source": [
    "df_matureleaf_content_1 = pd.DataFrame(data={\"Series\":[1,2,3,4],\n",
    "                                           \"starch_dawn (g/100gFW)\":[0.4245676464308603,0.4974291547005305,\n",
    "                                                                     0.8895379007845832,1.2526663271935523],\n",
    "                                           \"hemicellulose_dawn (g/100gFW)\":[1.089463383389083,\n",
    "                                                                            1.8922736237500428,\n",
    "                                                                            0.8616451473404596,\n",
    "                                                                            1.1221330617548415],\n",
    "                                           \"simple sugars_dawn (g/100gFW)\":[0.2719414988257076,\n",
    "                                                                            0.6501251398452184,\n",
    "                                                                            0.5686189976083096,\n",
    "                                                                            0.5533809766290336],\n",
    "                                           \"sucrose_dawn (g/100gFW)\":[0.2719414988257076,0.454127308166961,\n",
    "                                                                      0.09770538968660913,0],\n",
    "                                           \"starch_dusk (g/100gFW)\":[1.3284677247171013,1.600011533626287,\n",
    "                                                                     2.6254282537133005,1.0978029358571406],\n",
    "                                           \"hemicellulose_dusk (g/100gFW)\":[1.089463383389083,\n",
    "                                                                            0.6633103814170216,\n",
    "                                                                            0.9510687588805857,\n",
    "                                                                            1.0721624730031074],\n",
    "                                           \"simple sugars_dusk (g/100gFW)\":[0.03202263184115184,\n",
    "                                                                            0.35337416237039254,\n",
    "                                                                            0.4138784209550903,\n",
    "                                                                            0.3891937806184267],\n",
    "                                           \"sucrose_dusk (g/100gFW)\":[0.46007757454985465,0.18700390989930638,\n",
    "                                                                      0.3964371762172485,0.14206905936682546]})\n",
    "df_matureleaf_content_1.set_index(\"Series\",drop=True,inplace=True)\n",
    "df_matureleaf_content_1[\"Δstarch\"] = df_matureleaf_content_1[\"starch_dusk (g/100gFW)\"]- \\\n",
    "                                                        df_matureleaf_content_1[\"starch_dawn (g/100gFW)\"]\n",
    "df_matureleaf_content_1[\"Δhemicellulose\"] = df_matureleaf_content_1[\"hemicellulose_dusk (g/100gFW)\"]- \\\n",
    "                                                        df_matureleaf_content_1[\"hemicellulose_dawn (g/100gFW)\"]\n",
    "df_matureleaf_content_1[\"Δsimple sugars\"] = df_matureleaf_content_1[\"simple sugars_dusk (g/100gFW)\"]- \\\n",
    "                                                        df_matureleaf_content_1[\"simple sugars_dawn (g/100gFW)\"]\n",
    "df_matureleaf_content_1[\"Δsucrose\"] = df_matureleaf_content_1[\"sucrose_dusk (g/100gFW)\"]- \\\n",
    "                                                        df_matureleaf_content_1[\"sucrose_dawn (g/100gFW)\"]\n",
    "df_matureleaf_content_1"
   ]
  },
  {
   "cell_type": "markdown",
   "metadata": {},
   "source": [
    "Using Clements 1930 data on starch accumulated in 12h to estimate starch, hexose and sucrose content when diel fluctuations are ignored."
   ]
  },
  {
   "cell_type": "code",
   "execution_count": 4,
   "metadata": {},
   "outputs": [
    {
     "data": {
      "text/html": [
       "<div>\n",
       "<style scoped>\n",
       "    .dataframe tbody tr th:only-of-type {\n",
       "        vertical-align: middle;\n",
       "    }\n",
       "\n",
       "    .dataframe tbody tr th {\n",
       "        vertical-align: top;\n",
       "    }\n",
       "\n",
       "    .dataframe thead th {\n",
       "        text-align: right;\n",
       "    }\n",
       "</style>\n",
       "<table border=\"1\" class=\"dataframe\">\n",
       "  <thead>\n",
       "    <tr style=\"text-align: right;\">\n",
       "      <th></th>\n",
       "      <th>baseline starch (g/100gFW)</th>\n",
       "      <th>baseline hemicellulose (g/100gFW)</th>\n",
       "      <th>baseline sucrose (g/100gFW)</th>\n",
       "      <th>baseline simple sugars (g/100gFW)</th>\n",
       "    </tr>\n",
       "    <tr>\n",
       "      <th>Series</th>\n",
       "      <th></th>\n",
       "      <th></th>\n",
       "      <th></th>\n",
       "      <th></th>\n",
       "    </tr>\n",
       "  </thead>\n",
       "  <tbody>\n",
       "    <tr>\n",
       "      <th>1</th>\n",
       "      <td>0.424568</td>\n",
       "      <td>1.089463</td>\n",
       "      <td>0.271941</td>\n",
       "      <td>0.032023</td>\n",
       "    </tr>\n",
       "    <tr>\n",
       "      <th>2</th>\n",
       "      <td>0.497429</td>\n",
       "      <td>0.663310</td>\n",
       "      <td>0.187004</td>\n",
       "      <td>0.353374</td>\n",
       "    </tr>\n",
       "    <tr>\n",
       "      <th>3</th>\n",
       "      <td>0.889538</td>\n",
       "      <td>0.861645</td>\n",
       "      <td>0.097705</td>\n",
       "      <td>0.413878</td>\n",
       "    </tr>\n",
       "  </tbody>\n",
       "</table>\n",
       "</div>"
      ],
      "text/plain": [
       "        baseline starch (g/100gFW)  baseline hemicellulose (g/100gFW)  \\\n",
       "Series                                                                  \n",
       "1                         0.424568                           1.089463   \n",
       "2                         0.497429                           0.663310   \n",
       "3                         0.889538                           0.861645   \n",
       "\n",
       "        baseline sucrose (g/100gFW)  baseline simple sugars (g/100gFW)  \n",
       "Series                                                                  \n",
       "1                          0.271941                           0.032023  \n",
       "2                          0.187004                           0.353374  \n",
       "3                          0.097705                           0.413878  "
      ]
     },
     "execution_count": 4,
     "metadata": {},
     "output_type": "execute_result"
    }
   ],
   "source": [
    "xlist = list()\n",
    "ylist = list()\n",
    "ylist2 = list()\n",
    "ylist3 = list()\n",
    "ylist4 = list()\n",
    "for i in df_matureleaf_content_1.index:\n",
    "    if i == 4:\n",
    "        continue\n",
    "    xlist.append(i)\n",
    "    ylist.append(min(df_matureleaf_content_1[\"simple sugars_dawn (g/100gFW)\"][i],\n",
    "                     df_matureleaf_content_1[\"simple sugars_dusk (g/100gFW)\"][i]))\n",
    "    ylist2.append(min(df_matureleaf_content_1[\"sucrose_dawn (g/100gFW)\"][i],\n",
    "                      df_matureleaf_content_1[\"sucrose_dusk (g/100gFW)\"][i]))\n",
    "    ylist3.append(min(df_matureleaf_content_1[\"hemicellulose_dawn (g/100gFW)\"][i],\n",
    "                      df_matureleaf_content_1[\"hemicellulose_dusk (g/100gFW)\"][i]))\n",
    "    ylist4.append(min(df_matureleaf_content_1[\"starch_dawn (g/100gFW)\"][i],\n",
    "                      df_matureleaf_content_1[\"starch_dusk (g/100gFW)\"][i]))\n",
    "df_leaf_content_4 = pd.DataFrame(data={\"Series\":xlist,\n",
    "                                       \"baseline starch (g/100gFW)\":ylist4,\n",
    "                                       \"baseline hemicellulose (g/100gFW)\":ylist3,\n",
    "                                       \"baseline sucrose (g/100gFW)\":ylist2,\n",
    "                                       \"baseline simple sugars (g/100gFW)\":ylist})\n",
    "df_leaf_content_4.set_index(\"Series\",drop=True,inplace=True)\n",
    "df_leaf_content_4"
   ]
  },
  {
   "cell_type": "markdown",
   "metadata": {},
   "source": [
    "Extract amino acid content from Chiozza et al 2010, Figure 2\n",
    "\n",
    "<img src=\"references/Screenshot_20190717_143619.png\" height=50% width=50%>"
   ]
  },
  {
   "cell_type": "code",
   "execution_count": 5,
   "metadata": {},
   "outputs": [
    {
     "data": {
      "text/html": [
       "<div>\n",
       "<style scoped>\n",
       "    .dataframe tbody tr th:only-of-type {\n",
       "        vertical-align: middle;\n",
       "    }\n",
       "\n",
       "    .dataframe tbody tr th {\n",
       "        vertical-align: top;\n",
       "    }\n",
       "\n",
       "    .dataframe thead th {\n",
       "        text-align: right;\n",
       "    }\n",
       "</style>\n",
       "<table border=\"1\" class=\"dataframe\">\n",
       "  <thead>\n",
       "    <tr style=\"text-align: right;\">\n",
       "      <th></th>\n",
       "      <th>GABA (nmol/50mgFW)</th>\n",
       "      <th>Asn (nmol/50mgFW)</th>\n",
       "      <th>Gln (nmol/50mgFW)</th>\n",
       "      <th>Glt (nmol/50mgFW)</th>\n",
       "      <th>His (nmol/50mgFW)</th>\n",
       "      <th>Pro (nmol/50mgFW)</th>\n",
       "      <th>Ser (nmol/50mgFW)</th>\n",
       "    </tr>\n",
       "    <tr>\n",
       "      <th>Variety</th>\n",
       "      <th></th>\n",
       "      <th></th>\n",
       "      <th></th>\n",
       "      <th></th>\n",
       "      <th></th>\n",
       "      <th></th>\n",
       "      <th></th>\n",
       "    </tr>\n",
       "  </thead>\n",
       "  <tbody>\n",
       "    <tr>\n",
       "      <th>aphid resitant</th>\n",
       "      <td>0.828767</td>\n",
       "      <td>67.260274</td>\n",
       "      <td>82.876712</td>\n",
       "      <td>184.589041</td>\n",
       "      <td>11.778523</td>\n",
       "      <td>19.062500</td>\n",
       "      <td>87.282051</td>\n",
       "    </tr>\n",
       "    <tr>\n",
       "      <th>aphid sensitive</th>\n",
       "      <td>1.013699</td>\n",
       "      <td>86.164384</td>\n",
       "      <td>99.315068</td>\n",
       "      <td>234.931507</td>\n",
       "      <td>13.657718</td>\n",
       "      <td>20.681818</td>\n",
       "      <td>100.410256</td>\n",
       "    </tr>\n",
       "  </tbody>\n",
       "</table>\n",
       "</div>"
      ],
      "text/plain": [
       "                 GABA (nmol/50mgFW)  Asn (nmol/50mgFW)  Gln (nmol/50mgFW)  \\\n",
       "Variety                                                                     \n",
       "aphid resitant             0.828767          67.260274          82.876712   \n",
       "aphid sensitive            1.013699          86.164384          99.315068   \n",
       "\n",
       "                 Glt (nmol/50mgFW)  His (nmol/50mgFW)  Pro (nmol/50mgFW)  \\\n",
       "Variety                                                                    \n",
       "aphid resitant          184.589041          11.778523          19.062500   \n",
       "aphid sensitive         234.931507          13.657718          20.681818   \n",
       "\n",
       "                 Ser (nmol/50mgFW)  \n",
       "Variety                             \n",
       "aphid resitant           87.282051  \n",
       "aphid sensitive         100.410256  "
      ]
     },
     "execution_count": 5,
     "metadata": {},
     "output_type": "execute_result"
    }
   ],
   "source": [
    "df_leaf_content_3 = pd.DataFrame(data={\"Variety\":[\"aphid resitant\",\"aphid sensitive\"],\n",
    "                                       \"GABA (nmol/50mgFW)\":[0.8287671232876719,1.0136986301369868],\n",
    "                                       \"Asn (nmol/50mgFW)\":[67.26027397260277,86.1643835616437],\n",
    "                                       \"Gln (nmol/50mgFW)\":[82.87671232876716,99.31506849315056],\n",
    "                                       \"Glt (nmol/50mgFW)\":[184.58904109589022,234.93150684931462],\n",
    "                                       \"His (nmol/50mgFW)\":[11.778523489932848,13.657718120805297],\n",
    "                                       \"Pro (nmol/50mgFW)\":[19.062499999999943,20.68181818181808],\n",
    "                                       \"Ser (nmol/50mgFW)\":[87.28205128205093,100.4102564102559]})\n",
    "df_leaf_content_3.set_index(\"Variety\",drop=True,inplace=True)\n",
    "df_leaf_content_3"
   ]
  },
  {
   "cell_type": "code",
   "execution_count": 6,
   "metadata": {},
   "outputs": [],
   "source": [
    "biomassMets = {\"sSUCROSE_b\":1000*find_average(df_leaf_content_4[\"baseline sucrose (g/100gFW)\"])/ \\\n",
    "                                                model.metabolites.get_by_id(\"SUCROSE_c\").formula_weight,\n",
    "               \"Starch_b\":1000*find_average(df_leaf_content_4[\"baseline starch (g/100gFW)\"])/ \\\n",
    "                                                model.metabolites.get_by_id(\"SUCROSE_c\").formula_weight,\n",
    "               \"GLC_c\":1000*find_average(df_leaf_content_4[\"baseline simple sugars (g/100gFW)\"])/ \\\n",
    "                                                model.metabolites.get_by_id(\"SUCROSE_c\").formula_weight,\n",
    "               \"ASN_c\":100*0.001*find_average(df_leaf_content_3[\"Asn (nmol/50mgFW)\"])/50,\n",
    "               \"sGABA_b\":100*0.001*find_average(df_leaf_content_3[\"GABA (nmol/50mgFW)\"])/50,\n",
    "               \"sGLN_b\":100*0.001*find_average(df_leaf_content_3[\"Gln (nmol/50mgFW)\"])/50,\n",
    "               \"sGLU_b\":100*0.001*find_average(df_leaf_content_3[\"Glt (nmol/50mgFW)\"])/50,\n",
    "               \"HIS_c\":100*0.001*find_average(df_leaf_content_3[\"His (nmol/50mgFW)\"])/50,\n",
    "               \"PRO_c\":100*0.001*find_average(df_leaf_content_3[\"Pro (nmol/50mgFW)\"])/50,\n",
    "               \"sSER_b\":100*0.001*find_average(df_leaf_content_3[\"Ser (nmol/50mgFW)\"])/50\n",
    "              }\n",
    "\n",
    "\n",
    "rxn = Reaction(\"Biomass_leaf_tx\")\n",
    "for met in biomassMets:\n",
    "    rxn.add_metabolites({leaf_model.metabolites.get_by_id(met):-1*biomassMets[met]})\n",
    "rxn.upper_bound = 1000\n",
    "rxn.lower_bound = 0\n",
    "\n",
    "leaf_model.add_reaction(rxn)\n",
    "\n"
   ]
  },
  {
   "cell_type": "code",
   "execution_count": 7,
   "metadata": {},
   "outputs": [
    {
     "name": "stdout",
     "output_type": "stream",
     "text": [
      "0.5 CIT_v1 + 0.5 aCIT_v1 <=> 0.5 CIT_v2 + 0.5 aCIT_v2\n",
      "bHIS_v1 --> bHIS_v2\n",
      "0.7 MAL_v1 + 0.3 aMAL_v1 <=> 0.7 MAL_v2 + 0.3 aMAL_v2\n"
     ]
    }
   ],
   "source": [
    "from sweetlovegroup.transform import setupC3DielModel\n",
    "leaf_model = setupC3DielModel(leaf_model)"
   ]
  },
  {
   "cell_type": "code",
   "execution_count": 9,
   "metadata": {},
   "outputs": [],
   "source": [
    "leaf_model.reactions.Phloem_output_tx1.objective_coefficient = 0\n",
    "leaf_model.reactions.Phloem_output_tx2.objective_coefficient = 0\n",
    "\n",
    "leaf_model.reactions.Photon_tx1.upper_bound = 500\n",
    "leaf_model.reactions.Photon_tx1.lower_bound = 500\n",
    "\n",
    "from cobra.flux_analysis import pfba\n",
    "sol = pfba(leaf_model)"
   ]
  },
  {
   "cell_type": "code",
   "execution_count": 10,
   "metadata": {},
   "outputs": [],
   "source": [
    "io.write_sbml_model(leaf_model,\"Data/Soy_leaf_model_GA.sbml\")"
   ]
  },
  {
   "cell_type": "markdown",
   "metadata": {},
   "source": [
    "### Summary\n",
    "\n",
    "- Since amino acid content was only available in g/gFW and FW/DW data was not available, diel starch and sucrose levels (in g/gFW) were used to predict baseline starch and sucrose levels in leaf; instead of other available data\n"
   ]
  },
  {
   "cell_type": "markdown",
   "metadata": {},
   "source": [
    "## Generate stem model"
   ]
  },
  {
   "cell_type": "code",
   "execution_count": 11,
   "metadata": {},
   "outputs": [],
   "source": [
    "stem_model = model.copy()"
   ]
  },
  {
   "cell_type": "markdown",
   "metadata": {},
   "source": [
    "Extract diurnal starch, sucrose, hemicellulose and simple sugar content from Clements 1930, Figure 6, 9, 13 and 14. Based on Figure 1 and 2, dawn = 8am and dusk = 8pm\n",
    "\n",
    "<img src=\"references/Screenshot_20190717_161155.png\" height=50% width=50%>\n",
    "\n",
    "<img src=\"references/Screenshot_20190717_160304.png\" height=50% width=50%>\n",
    "\n",
    "<img src=\"references/Screenshot_20190717_161259.png\" height=50% width=50%>\n",
    "\n",
    "<img src=\"references/Screenshot_20190717_160242.png\" height=50% width=50%>"
   ]
  },
  {
   "cell_type": "code",
   "execution_count": 12,
   "metadata": {},
   "outputs": [
    {
     "data": {
      "text/html": [
       "<div>\n",
       "<style scoped>\n",
       "    .dataframe tbody tr th:only-of-type {\n",
       "        vertical-align: middle;\n",
       "    }\n",
       "\n",
       "    .dataframe tbody tr th {\n",
       "        vertical-align: top;\n",
       "    }\n",
       "\n",
       "    .dataframe thead th {\n",
       "        text-align: right;\n",
       "    }\n",
       "</style>\n",
       "<table border=\"1\" class=\"dataframe\">\n",
       "  <thead>\n",
       "    <tr style=\"text-align: right;\">\n",
       "      <th></th>\n",
       "      <th>baseline sucrose (g/100gFW)</th>\n",
       "      <th>baseline simple sugars (g/100gFW)</th>\n",
       "    </tr>\n",
       "    <tr>\n",
       "      <th>Series</th>\n",
       "      <th></th>\n",
       "      <th></th>\n",
       "    </tr>\n",
       "  </thead>\n",
       "  <tbody>\n",
       "    <tr>\n",
       "      <th>1</th>\n",
       "      <td>0.000000</td>\n",
       "      <td>0.089283</td>\n",
       "    </tr>\n",
       "    <tr>\n",
       "      <th>2</th>\n",
       "      <td>0.086064</td>\n",
       "      <td>0.993034</td>\n",
       "    </tr>\n",
       "    <tr>\n",
       "      <th>3</th>\n",
       "      <td>0.141176</td>\n",
       "      <td>0.229412</td>\n",
       "    </tr>\n",
       "    <tr>\n",
       "      <th>4</th>\n",
       "      <td>0.255357</td>\n",
       "      <td>0.755800</td>\n",
       "    </tr>\n",
       "  </tbody>\n",
       "</table>\n",
       "</div>"
      ],
      "text/plain": [
       "        baseline sucrose (g/100gFW)  baseline simple sugars (g/100gFW)\n",
       "Series                                                                \n",
       "1                          0.000000                           0.089283\n",
       "2                          0.086064                           0.993034\n",
       "3                          0.141176                           0.229412\n",
       "4                          0.255357                           0.755800"
      ]
     },
     "execution_count": 12,
     "metadata": {},
     "output_type": "execute_result"
    }
   ],
   "source": [
    "df_stem_content = pd.DataFrame(data={\"Series\":[1,2,3,4],\n",
    "                                     \"simple sugars_dawn (g/100gFW)\":[0.08928305478569998,1.0069230769230781,\n",
    "                                                                      0.22941176470588265,0.755800478743633],\n",
    "                                     \"sucrose_dawn (g/100gFW)\":[0.24999412110523256,0.10918376068376556,\n",
    "                                                                0.14117647058823524,0.36680114242250283],\n",
    "                                     \"simple sugars_dusk (g/100gFW)\":[0.27423868312757205,0.9930341880341897,\n",
    "                                                                      0.23368616214394122,0.8292719666520014],\n",
    "                                     \"sucrose_dusk (g/100gFW)\":[0,0.08606410256411046,\n",
    "                                                                0.1748626327321765,0.2553567833200341]})\n",
    "df_stem_content.set_index(\"Series\",drop=True,inplace=True)\n",
    "df_stem_content[\"avg. Δsimple sugars (g/100gFW)\"] = df_stem_content[\"simple sugars_dusk (g/100gFW)\"]- \\\n",
    "                                                        df_stem_content[\"simple sugars_dawn (g/100gFW)\"]\n",
    "df_stem_content[\"avg. Δsucrose (g/100gFW)\"] = df_stem_content[\"sucrose_dusk (g/100gFW)\"]- \\\n",
    "                                                        df_stem_content[\"sucrose_dawn (g/100gFW)\"]\n",
    "\n",
    "xlist = list()\n",
    "ylist = list()\n",
    "ylist2 = list()\n",
    "for i in df_stem_content.index:\n",
    "    xlist.append(i)\n",
    "    ylist.append(min(df_stem_content[\"simple sugars_dawn (g/100gFW)\"][i],\n",
    "                     df_stem_content[\"simple sugars_dusk (g/100gFW)\"][i]))\n",
    "    ylist2.append(min(df_stem_content[\"sucrose_dawn (g/100gFW)\"][i],\n",
    "                      df_stem_content[\"sucrose_dusk (g/100gFW)\"][i]))\n",
    "df_stem_content_std = pd.DataFrame(data={\"Series\":xlist,\n",
    "                                       \"baseline sucrose (g/100gFW)\":ylist2,\n",
    "                                       \"baseline simple sugars (g/100gFW)\":ylist})\n",
    "df_stem_content_std.set_index(\"Series\",drop=True,inplace=True)\n",
    "df_stem_content_std"
   ]
  },
  {
   "cell_type": "markdown",
   "metadata": {},
   "source": [
    "### Summary\n",
    "\n",
    "- Sucrose, hexose content data is per FW and conversion to DW is not available"
   ]
  },
  {
   "cell_type": "code",
   "execution_count": 13,
   "metadata": {},
   "outputs": [],
   "source": [
    "biomassMets = {\"sSUCROSE_b\":1000*find_average(df_stem_content_std[\"baseline sucrose (g/100gFW)\"])/ \\\n",
    "                                        stem_model.metabolites.get_by_id(\"SUCROSE_c\").formula_weight,\n",
    "               \"GLC_c\":1000*find_average(df_stem_content_std[\"baseline simple sugars (g/100gFW)\"])/ \\\n",
    "                                        stem_model.metabolites.get_by_id(\"GLC_c\").formula_weight\n",
    "              }\n",
    "\n",
    "rxn = Reaction(\"Biomass_stem_tx\")\n",
    "for met in biomassMets:\n",
    "    rxn.add_metabolites({stem_model.metabolites.get_by_id(met):-1*biomassMets[met]})\n",
    "rxn.lower_bound = 0\n",
    "rxn.upper_bound = 1000\n",
    "\n",
    "stem_model.add_reaction(rxn)"
   ]
  },
  {
   "cell_type": "code",
   "execution_count": 36,
   "metadata": {},
   "outputs": [
    {
     "name": "stdout",
     "output_type": "stream",
     "text": [
      "0.5415495157940694\n"
     ]
    }
   ],
   "source": [
    "stem_model.reactions.GLC_tx.upper_bound = 0\n",
    "stem_model.reactions.GLC_tx.lower_bound = 0\n",
    "stem_model.reactions.Sucrose_tx.upper_bound = 1\n",
    "stem_model.reactions.Sucrose_tx.lower_bound = 1\n",
    "stem_model.reactions.Photon_tx.upper_bound = 0\n",
    "stem_model.reactions.Photon_tx.lower_bound = 0\n",
    "stem_model.reactions.Phloem_output_tx.objective_coefficient=0\n",
    "stem_model.reactions.Biomass_stem_tx.objective_coefficient=1\n",
    "\n",
    "from cobra.flux_analysis import pfba\n",
    "sol = pfba(stem_model)\n",
    "print(stem_model.reactions.Biomass_stem_tx.flux)"
   ]
  },
  {
   "cell_type": "code",
   "execution_count": 14,
   "metadata": {},
   "outputs": [],
   "source": [
    "io.write_sbml_model(stem_model,\"Data/Soy_stem_model_GA.sbml\")"
   ]
  },
  {
   "cell_type": "markdown",
   "metadata": {},
   "source": [
    "## Generate root model"
   ]
  },
  {
   "cell_type": "code",
   "execution_count": 15,
   "metadata": {},
   "outputs": [],
   "source": [
    "root_model = model.copy()"
   ]
  },
  {
   "cell_type": "markdown",
   "metadata": {},
   "source": [
    "#### Gathering root fatty-acid content from Thomas et al 2007 Table I"
   ]
  },
  {
   "cell_type": "code",
   "execution_count": 16,
   "metadata": {},
   "outputs": [
    {
     "data": {
      "text/html": [
       "<div>\n",
       "<style scoped>\n",
       "    .dataframe tbody tr th:only-of-type {\n",
       "        vertical-align: middle;\n",
       "    }\n",
       "\n",
       "    .dataframe tbody tr th {\n",
       "        vertical-align: top;\n",
       "    }\n",
       "\n",
       "    .dataframe thead th {\n",
       "        text-align: right;\n",
       "    }\n",
       "</style>\n",
       "<table border=\"1\" class=\"dataframe\">\n",
       "  <thead>\n",
       "    <tr style=\"text-align: right;\">\n",
       "      <th></th>\n",
       "      <th>Fatty acid 16:1</th>\n",
       "      <th>Fatty acid 16:0</th>\n",
       "      <th>Fatty acid 18:1</th>\n",
       "      <th>Fatty acid 18:0</th>\n",
       "      <th>Fatty acid 20:0</th>\n",
       "      <th>Fatty acid 22:0</th>\n",
       "      <th>Total (ug/cm2)</th>\n",
       "    </tr>\n",
       "    <tr>\n",
       "      <th>Tissue type</th>\n",
       "      <th></th>\n",
       "      <th></th>\n",
       "      <th></th>\n",
       "      <th></th>\n",
       "      <th></th>\n",
       "      <th></th>\n",
       "      <th></th>\n",
       "    </tr>\n",
       "  </thead>\n",
       "  <tbody>\n",
       "    <tr>\n",
       "      <th>Conrad - Epidermis</th>\n",
       "      <td>0.21</td>\n",
       "      <td>0.39</td>\n",
       "      <td>0.71</td>\n",
       "      <td>0.32</td>\n",
       "      <td>0.05</td>\n",
       "      <td>0.09</td>\n",
       "      <td>1.77</td>\n",
       "    </tr>\n",
       "    <tr>\n",
       "      <th>OX760-6 - Epidermis</th>\n",
       "      <td>0.05</td>\n",
       "      <td>0.25</td>\n",
       "      <td>0.18</td>\n",
       "      <td>0.04</td>\n",
       "      <td>0.03</td>\n",
       "      <td>0.04</td>\n",
       "      <td>0.59</td>\n",
       "    </tr>\n",
       "    <tr>\n",
       "      <th>Conrad - Endodermis</th>\n",
       "      <td>0.82</td>\n",
       "      <td>1.50</td>\n",
       "      <td>7.46</td>\n",
       "      <td>0.83</td>\n",
       "      <td>0.28</td>\n",
       "      <td>0.31</td>\n",
       "      <td>11.20</td>\n",
       "    </tr>\n",
       "    <tr>\n",
       "      <th>OX760-6 - Endodermis</th>\n",
       "      <td>0.39</td>\n",
       "      <td>0.72</td>\n",
       "      <td>1.46</td>\n",
       "      <td>0.30</td>\n",
       "      <td>0.49</td>\n",
       "      <td>0.31</td>\n",
       "      <td>3.67</td>\n",
       "    </tr>\n",
       "  </tbody>\n",
       "</table>\n",
       "</div>"
      ],
      "text/plain": [
       "                      Fatty acid 16:1  Fatty acid 16:0  Fatty acid 18:1  \\\n",
       "Tissue type                                                               \n",
       "Conrad - Epidermis               0.21             0.39             0.71   \n",
       "OX760-6 - Epidermis              0.05             0.25             0.18   \n",
       "Conrad - Endodermis              0.82             1.50             7.46   \n",
       "OX760-6 - Endodermis             0.39             0.72             1.46   \n",
       "\n",
       "                      Fatty acid 18:0  Fatty acid 20:0  Fatty acid 22:0  \\\n",
       "Tissue type                                                               \n",
       "Conrad - Epidermis               0.32             0.05             0.09   \n",
       "OX760-6 - Epidermis              0.04             0.03             0.04   \n",
       "Conrad - Endodermis              0.83             0.28             0.31   \n",
       "OX760-6 - Endodermis             0.30             0.49             0.31   \n",
       "\n",
       "                      Total (ug/cm2)  \n",
       "Tissue type                           \n",
       "Conrad - Epidermis              1.77  \n",
       "OX760-6 - Epidermis             0.59  \n",
       "Conrad - Endodermis            11.20  \n",
       "OX760-6 - Endodermis            3.67  "
      ]
     },
     "execution_count": 16,
     "metadata": {},
     "output_type": "execute_result"
    }
   ],
   "source": [
    "df_root_content_1 = pd.DataFrame(data={\"Tissue type\":[\"Conrad - Epidermis\",\"OX760-6 - Epidermis\",\n",
    "                                                      \"Conrad - Endodermis\",\"OX760-6 - Endodermis\"],\n",
    "                                       \"Fatty acid 16:1\":[0.21,0.05,0.82,0.39],\n",
    "                                       \"Fatty acid 16:0\":[0.39,0.25,1.50,0.72],\n",
    "                                       \"Fatty acid 18:1\":[0.71,0.18,7.46,1.46],\n",
    "                                       \"Fatty acid 18:0\":[0.32,0.04,0.83,0.30],\n",
    "                                       \"Fatty acid 20:0\":[0.05,0.03,0.28,0.49],\n",
    "                                       \"Fatty acid 22:0\":[0.09,0.04,0.31,0.31],\n",
    "                                       \"Total (ug/cm2)\":[1.77,0.59,11.20,3.67]})\n",
    "df_root_content_1.set_index(\"Tissue type\",inplace=True,drop=True)\n",
    "df_root_content_1"
   ]
  },
  {
   "cell_type": "code",
   "execution_count": 17,
   "metadata": {},
   "outputs": [],
   "source": [
    "df_root_content_1_std = pd.DataFrame(data={\"Fatty acids\":[\"16:0\",\"16:1\",\"18:0\",\"18:1\",\"20:0\",\"22:0\"],\n",
    "                                           \"fraction\":[find_average(df_root_content_1[\"Fatty acid 16:0\"])/ \\\n",
    "                                                                find_average(df_root_content_1[\"Total (ug/cm2)\"]),\n",
    "                                                     find_average(df_root_content_1[\"Fatty acid 16:1\"])/ \\\n",
    "                                                                find_average(df_root_content_1[\"Total (ug/cm2)\"]),\n",
    "                                                     find_average(df_root_content_1[\"Fatty acid 18:0\"])/ \\\n",
    "                                                                find_average(df_root_content_1[\"Total (ug/cm2)\"]),\n",
    "                                                     find_average(df_root_content_1[\"Fatty acid 18:1\"])/ \\\n",
    "                                                                find_average(df_root_content_1[\"Total (ug/cm2)\"]),\n",
    "                                                     find_average(df_root_content_1[\"Fatty acid 20:0\"])/ \\\n",
    "                                                                find_average(df_root_content_1[\"Total (ug/cm2)\"]),\n",
    "                                                     find_average(df_root_content_1[\"Fatty acid 22:0\"])/ \\\n",
    "                                                                find_average(df_root_content_1[\"Total (ug/cm2)\"])]})\n",
    "df_root_content_1_std.set_index(\"Fatty acids\",drop=True,inplace=True)"
   ]
  },
  {
   "cell_type": "code",
   "execution_count": 18,
   "metadata": {},
   "outputs": [],
   "source": [
    "rxn = Reaction(\"Root_fatty_acid_composition\")\n",
    "rxn.add_metabolites({root_model.metabolites.get_by_id(\"PALMITATE_c\"):-1*df_root_content_1_std[\"fraction\"][\"16:0\"],\n",
    "                     root_model.metabolites.get_by_id(\"CPD_9245_p\"):-1*df_root_content_1_std[\"fraction\"][\"16:1\"],\n",
    "                     root_model.metabolites.get_by_id(\"STEARIC_ACID_p\"):-1*df_root_content_1_std[\"fraction\"][\"18:0\"],\n",
    "                     root_model.metabolites.get_by_id(\"OLEATE_CPD_p\"):-1*df_root_content_1_std[\"fraction\"][\"18:1\"],\n",
    "                     root_model.metabolites.get_by_id(\"ARACHIDIC_ACID_p\"):-1*df_root_content_1_std[\"fraction\"][\"20:0\"],\n",
    "                     root_model.metabolites.get_by_id(\"DOCOSANOATE_p\"):-1*df_root_content_1_std[\"fraction\"][\"22:0\"],\n",
    "                     root_model.metabolites.get_by_id(\"Fatty_Acids_p\"):1})\n",
    "rxn.lower_bound = 0\n",
    "rxn.upper_bound = 1000\n",
    "root_model.add_reaction(rxn)\n"
   ]
  },
  {
   "cell_type": "code",
   "execution_count": 19,
   "metadata": {},
   "outputs": [
    {
     "name": "stdout",
     "output_type": "stream",
     "text": [
      "Fatty_Acids_p\n",
      "C17.77016831108532H33.23099245502032O2.0000000000000004\n"
     ]
    }
   ],
   "source": [
    "generateMetaboliteFormula(rxn)"
   ]
  },
  {
   "cell_type": "code",
   "execution_count": 37,
   "metadata": {},
   "outputs": [],
   "source": [
    "#No biomass cannot optimmize"
   ]
  },
  {
   "cell_type": "code",
   "execution_count": 20,
   "metadata": {},
   "outputs": [],
   "source": [
    "io.write_sbml_model(root_model,\"Data/Soy_root_model_GA.sbml\")"
   ]
  },
  {
   "cell_type": "markdown",
   "metadata": {},
   "source": [
    "## Generate seed model"
   ]
  },
  {
   "cell_type": "code",
   "execution_count": 83,
   "metadata": {},
   "outputs": [],
   "source": [
    "seed_model = model.copy()"
   ]
  },
  {
   "cell_type": "markdown",
   "metadata": {},
   "source": [
    "#### Gathering seed fatty-acid content from Guleria et al 2008 Table I"
   ]
  },
  {
   "cell_type": "code",
   "execution_count": 84,
   "metadata": {},
   "outputs": [
    {
     "data": {
      "text/html": [
       "<div>\n",
       "<style scoped>\n",
       "    .dataframe tbody tr th:only-of-type {\n",
       "        vertical-align: middle;\n",
       "    }\n",
       "\n",
       "    .dataframe tbody tr th {\n",
       "        vertical-align: top;\n",
       "    }\n",
       "\n",
       "    .dataframe thead th {\n",
       "        text-align: right;\n",
       "    }\n",
       "</style>\n",
       "<table border=\"1\" class=\"dataframe\">\n",
       "  <thead>\n",
       "    <tr style=\"text-align: right;\">\n",
       "      <th></th>\n",
       "      <th>16:0 (mg/gDW fatty acds)</th>\n",
       "      <th>18:0 (mg/gDW fatty acds)</th>\n",
       "      <th>18:1 (mg/gDW fatty acds)</th>\n",
       "      <th>18:2 (mg/gDW fatty acds)</th>\n",
       "      <th>18:3 (mg/gDW fatty acds)</th>\n",
       "    </tr>\n",
       "    <tr>\n",
       "      <th>seed type</th>\n",
       "      <th></th>\n",
       "      <th></th>\n",
       "      <th></th>\n",
       "      <th></th>\n",
       "      <th></th>\n",
       "    </tr>\n",
       "  </thead>\n",
       "  <tbody>\n",
       "    <tr>\n",
       "      <th>large</th>\n",
       "      <td>132</td>\n",
       "      <td>29</td>\n",
       "      <td>269</td>\n",
       "      <td>513</td>\n",
       "      <td>56</td>\n",
       "    </tr>\n",
       "    <tr>\n",
       "      <th>small</th>\n",
       "      <td>122</td>\n",
       "      <td>38</td>\n",
       "      <td>245</td>\n",
       "      <td>518</td>\n",
       "      <td>76</td>\n",
       "    </tr>\n",
       "  </tbody>\n",
       "</table>\n",
       "</div>"
      ],
      "text/plain": [
       "           16:0 (mg/gDW fatty acds)  18:0 (mg/gDW fatty acds)  \\\n",
       "seed type                                                       \n",
       "large                           132                        29   \n",
       "small                           122                        38   \n",
       "\n",
       "           18:1 (mg/gDW fatty acds)  18:2 (mg/gDW fatty acds)  \\\n",
       "seed type                                                       \n",
       "large                           269                       513   \n",
       "small                           245                       518   \n",
       "\n",
       "           18:3 (mg/gDW fatty acds)  \n",
       "seed type                            \n",
       "large                            56  \n",
       "small                            76  "
      ]
     },
     "execution_count": 84,
     "metadata": {},
     "output_type": "execute_result"
    }
   ],
   "source": [
    "df_seed_content = pd.DataFrame(data={\"seed type\":[\"large\",\"small\"],\n",
    "                               \"16:0 (mg/gDW fatty acds)\":[132,122],\n",
    "                               \"18:0 (mg/gDW fatty acds)\":[29,38],\n",
    "                               \"18:1 (mg/gDW fatty acds)\":[269,245],\n",
    "                               \"18:2 (mg/gDW fatty acds)\":[513,518],\n",
    "                               \"18:3 (mg/gDW fatty acds)\":[56,76]})\n",
    "df_seed_content.set_index(\"seed type\",inplace=True,drop=True)\n",
    "df_seed_content"
   ]
  },
  {
   "cell_type": "code",
   "execution_count": 85,
   "metadata": {},
   "outputs": [
    {
     "data": {
      "text/html": [
       "<div>\n",
       "<style scoped>\n",
       "    .dataframe tbody tr th:only-of-type {\n",
       "        vertical-align: middle;\n",
       "    }\n",
       "\n",
       "    .dataframe tbody tr th {\n",
       "        vertical-align: top;\n",
       "    }\n",
       "\n",
       "    .dataframe thead th {\n",
       "        text-align: right;\n",
       "    }\n",
       "</style>\n",
       "<table border=\"1\" class=\"dataframe\">\n",
       "  <thead>\n",
       "    <tr style=\"text-align: right;\">\n",
       "      <th></th>\n",
       "      <th>fraction</th>\n",
       "    </tr>\n",
       "    <tr>\n",
       "      <th>Fatty acids</th>\n",
       "      <th></th>\n",
       "    </tr>\n",
       "  </thead>\n",
       "  <tbody>\n",
       "    <tr>\n",
       "      <th>16:0</th>\n",
       "      <td>0.127127</td>\n",
       "    </tr>\n",
       "    <tr>\n",
       "      <th>18:0</th>\n",
       "      <td>0.033534</td>\n",
       "    </tr>\n",
       "    <tr>\n",
       "      <th>18:1</th>\n",
       "      <td>0.257257</td>\n",
       "    </tr>\n",
       "    <tr>\n",
       "      <th>18:2</th>\n",
       "      <td>0.516016</td>\n",
       "    </tr>\n",
       "    <tr>\n",
       "      <th>18:3</th>\n",
       "      <td>0.066066</td>\n",
       "    </tr>\n",
       "  </tbody>\n",
       "</table>\n",
       "</div>"
      ],
      "text/plain": [
       "             fraction\n",
       "Fatty acids          \n",
       "16:0         0.127127\n",
       "18:0         0.033534\n",
       "18:1         0.257257\n",
       "18:2         0.516016\n",
       "18:3         0.066066"
      ]
     },
     "execution_count": 85,
     "metadata": {},
     "output_type": "execute_result"
    }
   ],
   "source": [
    "df_seed_content_std = pd.DataFrame(data={\"Fatty acids\":[\"16:0\",\"18:0\",\"18:1\",\"18:2\",\"18:3\"],\n",
    "                               \"fraction\":[float(find_average(df_seed_content[\"16:0 (mg/gDW fatty acds)\"]))/999,\n",
    "                                           float(find_average(df_seed_content[\"18:0 (mg/gDW fatty acds)\"]))/999,\n",
    "                                           float(find_average(df_seed_content[\"18:1 (mg/gDW fatty acds)\"]))/999,\n",
    "                                           float(find_average(df_seed_content[\"18:2 (mg/gDW fatty acds)\"]))/999,\n",
    "                                           float(find_average(df_seed_content[\"18:3 (mg/gDW fatty acds)\"]))/999]})\n",
    "df_seed_content_std.set_index(\"Fatty acids\",inplace=True,drop=True)\n",
    "df_seed_content_std"
   ]
  },
  {
   "cell_type": "code",
   "execution_count": 86,
   "metadata": {},
   "outputs": [],
   "source": [
    "rxn = Reaction(\"Seed_fatty_acid_composition\")\n",
    "rxn.add_metabolites({seed_model.metabolites.get_by_id(\"PALMITATE_c\"):-1*df_seed_content_std[\"fraction\"][\"16:0\"],\n",
    "                     seed_model.metabolites.get_by_id(\"STEARIC_ACID_p\"):-1*df_seed_content_std[\"fraction\"][\"18:0\"],\n",
    "                     seed_model.metabolites.get_by_id(\"OLEATE_CPD_p\"):-1*df_seed_content_std[\"fraction\"][\"18:1\"],\n",
    "                     seed_model.metabolites.get_by_id(\"Octadecadienoate_p\"):-1*df_seed_content_std[\"fraction\"][\"18:2\"],\n",
    "                     seed_model.metabolites.get_by_id(\"LINOLENIC_ACID_p\"):-1*df_seed_content_std[\"fraction\"][\"18:3\"],\n",
    "                     seed_model.metabolites.get_by_id(\"Fatty_Acids_p\"):1})\n",
    "rxn.lower_bound = 0\n",
    "rxn.upper_bound = 1000\n",
    "seed_model.add_reaction(rxn)"
   ]
  },
  {
   "cell_type": "code",
   "execution_count": 87,
   "metadata": {},
   "outputs": [
    {
     "data": {
      "text/plain": [
       "'0.06606606606606606 LINOLENIC_ACID_p + 0.25725725725725723 OLEATE_CPD_p + 0.516016016016016 Octadecadienoate_p + 0.12712712712712712 PALMITATE_c + 0.033533533533533534 STEARIC_ACID_p --> Fatty_Acids_p'"
      ]
     },
     "execution_count": 87,
     "metadata": {},
     "output_type": "execute_result"
    }
   ],
   "source": [
    "rxn.reaction"
   ]
  },
  {
   "cell_type": "code",
   "execution_count": 88,
   "metadata": {},
   "outputs": [
    {
     "name": "stdout",
     "output_type": "stream",
     "text": [
      "Fatty_Acids_p\n",
      "C17.745745745745744H31.516516516516518O1.9999999999999998\n"
     ]
    }
   ],
   "source": [
    "generateMetaboliteFormula(rxn)"
   ]
  },
  {
   "cell_type": "code",
   "execution_count": 89,
   "metadata": {},
   "outputs": [],
   "source": [
    "rxn = Reaction(\"Seed_fatty_acid_ACP_composition\")\n",
    "rxn.add_metabolites({seed_model.metabolites.get_by_id(\"PALMITATE_c\"):-1*df_seed_content_std[\"fraction\"][\"16:0\"],\n",
    "                     seed_model.metabolites.get_by_id(\"STEARIC_ACID_p\"):-1*df_seed_content_std[\"fraction\"][\"18:0\"],\n",
    "                     seed_model.metabolites.get_by_id(\"OLEATE_CPD_p\"):-1*df_seed_content_std[\"fraction\"][\"18:1\"],\n",
    "                     seed_model.metabolites.get_by_id(\"Octadecadienoate_p\"):-1*df_seed_content_std[\"fraction\"][\"18:2\"],\n",
    "                     seed_model.metabolites.get_by_id(\"LINOLENIC_ACID_p\"):-1*df_seed_content_std[\"fraction\"][\"18:3\"],\n",
    "                     seed_model.metabolites.get_by_id(\"Fatty_Acids_p\"):1})\n",
    "rxn.lower_bound = 0\n",
    "rxn.upper_bound = 1000\n",
    "seed_model.add_reaction(rxn)"
   ]
  },
  {
   "cell_type": "markdown",
   "metadata": {},
   "source": [
    "#### Gather phospholipids, glycolipids, sterols and free fatty acid content from Guleria et al 2008, Table 1"
   ]
  },
  {
   "cell_type": "code",
   "execution_count": 90,
   "metadata": {},
   "outputs": [
    {
     "name": "stdout",
     "output_type": "stream",
     "text": [
      "L_PHOSPHATIDATE_p --> Phospholipids_p\n",
      "Phospholipids_p\n",
      "C35.0H67.0O8.0P1.0\n"
     ]
    }
   ],
   "source": [
    "met = Metabolite(\"Phospholipids_p\",name=\"Phospholipids\",compartment=\"p\")\n",
    "\n",
    "rxn = Reaction(\"Phospholipid_composition\")\n",
    "rxn.add_metabolites({seed_model.metabolites.get_by_id(\"L_PHOSPHATIDATE_p\"):-1,met:1})\n",
    "rxn.lower_bound = 0\n",
    "rxn.upper_bound = 1000\n",
    "seed_model.add_reaction(rxn)\n",
    "\n",
    "print(rxn.reaction)\n",
    "\n",
    "generateMetaboliteFormula(rxn)"
   ]
  },
  {
   "cell_type": "code",
   "execution_count": 91,
   "metadata": {},
   "outputs": [
    {
     "data": {
      "text/html": [
       "<div>\n",
       "<style scoped>\n",
       "    .dataframe tbody tr th:only-of-type {\n",
       "        vertical-align: middle;\n",
       "    }\n",
       "\n",
       "    .dataframe tbody tr th {\n",
       "        vertical-align: top;\n",
       "    }\n",
       "\n",
       "    .dataframe thead th {\n",
       "        text-align: right;\n",
       "    }\n",
       "</style>\n",
       "<table border=\"1\" class=\"dataframe\">\n",
       "  <thead>\n",
       "    <tr style=\"text-align: right;\">\n",
       "      <th></th>\n",
       "      <th>lipid content (mg/gDW)</th>\n",
       "      <th>phospholipids (mg/gDW lipid)</th>\n",
       "      <th>glycolipids (mg/gDW lipid)</th>\n",
       "      <th>sterols (mg/gDW lipid)</th>\n",
       "      <th>free fatty acids (mg/gDW lipid)</th>\n",
       "    </tr>\n",
       "    <tr>\n",
       "      <th>seed type</th>\n",
       "      <th></th>\n",
       "      <th></th>\n",
       "      <th></th>\n",
       "      <th></th>\n",
       "      <th></th>\n",
       "    </tr>\n",
       "  </thead>\n",
       "  <tbody>\n",
       "    <tr>\n",
       "      <th>large</th>\n",
       "      <td>241</td>\n",
       "      <td>57.1</td>\n",
       "      <td>10.6</td>\n",
       "      <td>26.8</td>\n",
       "      <td>0.1</td>\n",
       "    </tr>\n",
       "    <tr>\n",
       "      <th>small</th>\n",
       "      <td>224</td>\n",
       "      <td>58.7</td>\n",
       "      <td>10.3</td>\n",
       "      <td>26.4</td>\n",
       "      <td>0.1</td>\n",
       "    </tr>\n",
       "  </tbody>\n",
       "</table>\n",
       "</div>"
      ],
      "text/plain": [
       "           lipid content (mg/gDW)  phospholipids (mg/gDW lipid)  \\\n",
       "seed type                                                         \n",
       "large                         241                          57.1   \n",
       "small                         224                          58.7   \n",
       "\n",
       "           glycolipids (mg/gDW lipid)  sterols (mg/gDW lipid)  \\\n",
       "seed type                                                       \n",
       "large                            10.6                    26.8   \n",
       "small                            10.3                    26.4   \n",
       "\n",
       "           free fatty acids (mg/gDW lipid)  \n",
       "seed type                                   \n",
       "large                                  0.1  \n",
       "small                                  0.1  "
      ]
     },
     "execution_count": 91,
     "metadata": {},
     "output_type": "execute_result"
    }
   ],
   "source": [
    "df_seed_content_1 = pd.DataFrame(data={\"seed type\":[\"large\",\"small\"],\n",
    "                               \"lipid content (mg/gDW)\":[241,224],\n",
    "                               \"phospholipids (mg/gDW lipid)\":[57.1,58.7],\n",
    "                               \"glycolipids (mg/gDW lipid)\":[10.6,10.3],\n",
    "                               \"sterols (mg/gDW lipid)\":[26.8,26.4],\n",
    "                               \"free fatty acids (mg/gDW lipid)\":[0.1,0.1]})\n",
    "\n",
    "df_seed_content_1.set_index(\"seed type\",inplace=True,drop=True)\n",
    "df_seed_content_1"
   ]
  },
  {
   "cell_type": "code",
   "execution_count": 92,
   "metadata": {},
   "outputs": [
    {
     "data": {
      "text/html": [
       "<div>\n",
       "<style scoped>\n",
       "    .dataframe tbody tr th:only-of-type {\n",
       "        vertical-align: middle;\n",
       "    }\n",
       "\n",
       "    .dataframe tbody tr th {\n",
       "        vertical-align: top;\n",
       "    }\n",
       "\n",
       "    .dataframe thead th {\n",
       "        text-align: right;\n",
       "    }\n",
       "</style>\n",
       "<table border=\"1\" class=\"dataframe\">\n",
       "  <thead>\n",
       "    <tr style=\"text-align: right;\">\n",
       "      <th></th>\n",
       "      <th>fraction</th>\n",
       "    </tr>\n",
       "    <tr>\n",
       "      <th>lipid entities</th>\n",
       "      <th></th>\n",
       "    </tr>\n",
       "  </thead>\n",
       "  <tbody>\n",
       "    <tr>\n",
       "      <th>free fatty acids</th>\n",
       "      <td>0.000430</td>\n",
       "    </tr>\n",
       "    <tr>\n",
       "      <th>glycolipids</th>\n",
       "      <td>0.044946</td>\n",
       "    </tr>\n",
       "    <tr>\n",
       "      <th>phospholipids</th>\n",
       "      <td>0.249032</td>\n",
       "    </tr>\n",
       "    <tr>\n",
       "      <th>sterols</th>\n",
       "      <td>0.114409</td>\n",
       "    </tr>\n",
       "  </tbody>\n",
       "</table>\n",
       "</div>"
      ],
      "text/plain": [
       "                  fraction\n",
       "lipid entities            \n",
       "free fatty acids  0.000430\n",
       "glycolipids       0.044946\n",
       "phospholipids     0.249032\n",
       "sterols           0.114409"
      ]
     },
     "execution_count": 92,
     "metadata": {},
     "output_type": "execute_result"
    }
   ],
   "source": [
    "df_seed_content_1std = pd.DataFrame(data={\"lipid entities\":[\"free fatty acids\",\"glycolipids\",\"phospholipids\",\"sterols\"],\n",
    "                               \"fraction\":[float(find_average(df_seed_content_1[\"free fatty acids (mg/gDW lipid)\"]))/find_average(df_seed_content_1[\"lipid content (mg/gDW)\"]),\n",
    "                                           float(find_average(df_seed_content_1[\"glycolipids (mg/gDW lipid)\"]))/find_average(df_seed_content_1[\"lipid content (mg/gDW)\"]),\n",
    "                                           float(find_average(df_seed_content_1[\"phospholipids (mg/gDW lipid)\"]))/find_average(df_seed_content_1[\"lipid content (mg/gDW)\"]),\n",
    "                                           float(find_average(df_seed_content_1[\"sterols (mg/gDW lipid)\"]))/find_average(df_seed_content_1[\"lipid content (mg/gDW)\"])\n",
    "                                          ]})\n",
    "df_seed_content_1std.set_index(\"lipid entities\",inplace=True,drop=True)\n",
    "df_seed_content_1std"
   ]
  },
  {
   "cell_type": "code",
   "execution_count": 93,
   "metadata": {},
   "outputs": [
    {
     "name": "stdout",
     "output_type": "stream",
     "text": [
      "1.5532709068320986e-06 Fatty_Acids_p + 0.0003849771413172512 Phospholipids_p --> 0.00038653041222408327 Lipids_p\n"
     ]
    },
    {
     "name": "stderr",
     "output_type": "stream",
     "text": [
      "cobra/core/metabolite.py:104 \u001b[1;31mUserWarning\u001b[0m: 17.745745745745744 is not an integer (in formula C17.745745745745744H31.516516516516518O1.9999999999999998)\n",
      "cobra/core/metabolite.py:104 \u001b[1;31mUserWarning\u001b[0m: 31.516516516516518 is not an integer (in formula C17.745745745745744H31.516516516516518O1.9999999999999998)\n",
      "cobra/core/metabolite.py:104 \u001b[1;31mUserWarning\u001b[0m: 1.9999999999999998 is not an integer (in formula C17.745745745745744H31.516516516516518O1.9999999999999998)\n"
     ]
    }
   ],
   "source": [
    "met = Metabolite(\"Lipids_p\",name=\"Lipids\",compartment=\"p\")\n",
    "\n",
    "rxn = Reaction(\"Seed_lipid_composition\")\n",
    "rxn.add_metabolites({seed_model.metabolites.get_by_id(\"Fatty_Acids_p\"):-1*df_seed_content_1std[\"fraction\"][\"free fatty acids\"]/ \\\n",
    "                                                                seed_model.metabolites.get_by_id(\"Fatty_Acids_p\").formula_weight,\n",
    "                     seed_model.metabolites.get_by_id(\"Phospholipids_p\"):-1*df_seed_content_1std[\"fraction\"][\"phospholipids\"]/ \\\n",
    "                                                                seed_model.metabolites.get_by_id(\"Phospholipids_p\").formula_weight,\n",
    "                     met:(df_seed_content_1std[\"fraction\"][\"free fatty acids\"]/ \\\n",
    "                          seed_model.metabolites.get_by_id(\"Fatty_Acids_p\").formula_weight) + \\\n",
    "                         (df_seed_content_1std[\"fraction\"][\"phospholipids\"]/ \\\n",
    "                          seed_model.metabolites.get_by_id(\"Phospholipids_p\").formula_weight)\n",
    "                    })\n",
    "rxn.lower_bound = 0\n",
    "rxn.upper_bound = 1000\n",
    "seed_model.add_reaction(rxn)\n",
    "\n",
    "\n",
    "print(rxn.reaction)"
   ]
  },
  {
   "cell_type": "code",
   "execution_count": 98,
   "metadata": {},
   "outputs": [
    {
     "data": {
      "text/plain": [
       "0.9959815040221683"
      ]
     },
     "execution_count": 98,
     "metadata": {},
     "output_type": "execute_result"
    }
   ],
   "source": [
    "0.0003849771413172512/0.00038653041222408327"
   ]
  },
  {
   "cell_type": "code",
   "execution_count": 99,
   "metadata": {},
   "outputs": [
    {
     "data": {
      "text/plain": [
       "frozenset({<Gene Glyma.05G110500 at 0x7f5fbde1ac50>,\n",
       "           <Gene Glyma.17G156200 at 0x7f5fbde1aeb8>})"
      ]
     },
     "execution_count": 99,
     "metadata": {},
     "output_type": "execute_result"
    }
   ],
   "source": [
    "leaf_model.reactions.GLUCOKIN_RXN_c1.genes"
   ]
  },
  {
   "cell_type": "code",
   "execution_count": 94,
   "metadata": {},
   "outputs": [
    {
     "name": "stdout",
     "output_type": "stream",
     "text": [
      "Lipids_p\n",
      "C34.9306638486788H66.85740976434217O7.975889024133011P0.9959815040221683\n"
     ]
    }
   ],
   "source": [
    "generateMetaboliteFormula(rxn)"
   ]
  },
  {
   "cell_type": "markdown",
   "metadata": {},
   "source": [
    "#### Generating Biomass equation for seed  \n",
    "Gather non-reducing sugars, reducing sugars, starch, protein and lipid content from Guleria et al 2008, Table 1"
   ]
  },
  {
   "cell_type": "code",
   "execution_count": 95,
   "metadata": {},
   "outputs": [
    {
     "data": {
      "text/html": [
       "<div>\n",
       "<style scoped>\n",
       "    .dataframe tbody tr th:only-of-type {\n",
       "        vertical-align: middle;\n",
       "    }\n",
       "\n",
       "    .dataframe tbody tr th {\n",
       "        vertical-align: top;\n",
       "    }\n",
       "\n",
       "    .dataframe thead th {\n",
       "        text-align: right;\n",
       "    }\n",
       "</style>\n",
       "<table border=\"1\" class=\"dataframe\">\n",
       "  <thead>\n",
       "    <tr style=\"text-align: right;\">\n",
       "      <th></th>\n",
       "      <th>starch (mg/gDW)</th>\n",
       "      <th>reducing sugars (mg/gDW)</th>\n",
       "      <th>total soluble sugars (mg/gDW)</th>\n",
       "      <th>proteins (mg/gDW)</th>\n",
       "      <th>lipid content (mg/gDW)</th>\n",
       "    </tr>\n",
       "    <tr>\n",
       "      <th>seed type</th>\n",
       "      <th></th>\n",
       "      <th></th>\n",
       "      <th></th>\n",
       "      <th></th>\n",
       "      <th></th>\n",
       "    </tr>\n",
       "  </thead>\n",
       "  <tbody>\n",
       "    <tr>\n",
       "      <th>large</th>\n",
       "      <td>49.7</td>\n",
       "      <td>24.9</td>\n",
       "      <td>125</td>\n",
       "      <td>377</td>\n",
       "      <td>241</td>\n",
       "    </tr>\n",
       "    <tr>\n",
       "      <th>small</th>\n",
       "      <td>42.3</td>\n",
       "      <td>27.7</td>\n",
       "      <td>101</td>\n",
       "      <td>264</td>\n",
       "      <td>224</td>\n",
       "    </tr>\n",
       "  </tbody>\n",
       "</table>\n",
       "</div>"
      ],
      "text/plain": [
       "           starch (mg/gDW)  reducing sugars (mg/gDW)  \\\n",
       "seed type                                              \n",
       "large                 49.7                      24.9   \n",
       "small                 42.3                      27.7   \n",
       "\n",
       "           total soluble sugars (mg/gDW)  proteins (mg/gDW)  \\\n",
       "seed type                                                     \n",
       "large                                125                377   \n",
       "small                                101                264   \n",
       "\n",
       "           lipid content (mg/gDW)  \n",
       "seed type                          \n",
       "large                         241  \n",
       "small                         224  "
      ]
     },
     "execution_count": 95,
     "metadata": {},
     "output_type": "execute_result"
    }
   ],
   "source": [
    "df_seed_content_3 = pd.DataFrame(data={\"seed type\":[\"large\",\"small\"],\n",
    "                               \"starch (mg/gDW)\":[49.7,42.3],\n",
    "                               \"reducing sugars (mg/gDW)\":[24.9,27.7],\n",
    "                               \"total soluble sugars (mg/gDW)\":[125,101],\n",
    "                               \"proteins (mg/gDW)\":[377,264],\n",
    "                               \"lipid content (mg/gDW)\":[241,224]})\n",
    "\n",
    "df_seed_content_3.set_index(\"seed type\",inplace=True,drop=True)\n",
    "df_seed_content_3"
   ]
  },
  {
   "cell_type": "code",
   "execution_count": 96,
   "metadata": {},
   "outputs": [
    {
     "name": "stdout",
     "output_type": "stream",
     "text": [
      "0.4812499042495865 GLC_c + 0.3602480102722086 Lipids_p + 0.8038744537410865 Protein_b + 0.2837043898937095 Starch_b + 0.07683397737540275 sSUCROSE_b --> \n"
     ]
    },
    {
     "name": "stderr",
     "output_type": "stream",
     "text": [
      "cobra/core/metabolite.py:104 \u001b[1;31mUserWarning\u001b[0m: 17.2020450391 is not an integer (in formula C17.2020450391H25.9492553613O5.7497158698N4.9536245179S0.1420323181)\n",
      "cobra/core/metabolite.py:104 \u001b[1;31mUserWarning\u001b[0m: 25.9492553613 is not an integer (in formula C17.2020450391H25.9492553613O5.7497158698N4.9536245179S0.1420323181)\n",
      "cobra/core/metabolite.py:104 \u001b[1;31mUserWarning\u001b[0m: 5.7497158698 is not an integer (in formula C17.2020450391H25.9492553613O5.7497158698N4.9536245179S0.1420323181)\n",
      "cobra/core/metabolite.py:104 \u001b[1;31mUserWarning\u001b[0m: 4.9536245179 is not an integer (in formula C17.2020450391H25.9492553613O5.7497158698N4.9536245179S0.1420323181)\n",
      "cobra/core/metabolite.py:104 \u001b[1;31mUserWarning\u001b[0m: 0.1420323181 is not an integer (in formula C17.2020450391H25.9492553613O5.7497158698N4.9536245179S0.1420323181)\n",
      "cobra/core/metabolite.py:104 \u001b[1;31mUserWarning\u001b[0m: 34.9306638486788 is not an integer (in formula C34.9306638486788H66.85740976434217O7.975889024133011P0.9959815040221683)\n",
      "cobra/core/metabolite.py:104 \u001b[1;31mUserWarning\u001b[0m: 66.85740976434217 is not an integer (in formula C34.9306638486788H66.85740976434217O7.975889024133011P0.9959815040221683)\n",
      "cobra/core/metabolite.py:104 \u001b[1;31mUserWarning\u001b[0m: 7.975889024133011 is not an integer (in formula C34.9306638486788H66.85740976434217O7.975889024133011P0.9959815040221683)\n",
      "cobra/core/metabolite.py:104 \u001b[1;31mUserWarning\u001b[0m: 0.9959815040221683 is not an integer (in formula C34.9306638486788H66.85740976434217O7.975889024133011P0.9959815040221683)\n"
     ]
    }
   ],
   "source": [
    "rxn = Reaction(\"Biomass_seed_tx\")\n",
    "rxn.add_metabolites({seed_model.metabolites.get_by_id(\"Starch_b\"):-1*find_average(df_seed_content_3[\"starch (mg/gDW)\"])/ \\\n",
    "                                                                 seed_model.metabolites.get_by_id(\"Starch_b\").formula_weight,\n",
    "                     seed_model.metabolites.get_by_id(\"sSUCROSE_b\"):-1*find_average(df_seed_content_3[\"reducing sugars (mg/gDW)\"])/ \\\n",
    "                                                                 seed_model.metabolites.get_by_id(\"sSUCROSE_b\").formula_weight,\n",
    "                     seed_model.metabolites.get_by_id(\"GLC_c\"):-1*(find_average(df_seed_content_3[\"total soluble sugars (mg/gDW)\"])-find_average(df_seed_content_3[\"reducing sugars (mg/gDW)\"]))/ \\\n",
    "                                                                 seed_model.metabolites.get_by_id(\"GLC_c\").formula_weight,\n",
    "                     seed_model.metabolites.get_by_id(\"Protein_b\"):-1*find_average(df_seed_content_3[\"proteins (mg/gDW)\"])/ \\\n",
    "                                                                 seed_model.metabolites.get_by_id(\"Protein_b\").formula_weight,\n",
    "                     seed_model.metabolites.get_by_id(\"Lipids_p\"):-1*find_average(df_seed_content_3[\"lipid content (mg/gDW)\"])/ \\\n",
    "                                                                 seed_model.metabolites.get_by_id(\"Lipids_p\").formula_weight\n",
    "                    })\n",
    "rxn.lower_bound = 0\n",
    "rxn.upper_bound = 1000\n",
    "seed_model.add_reaction(rxn)\n",
    "\n",
    "print(rxn.reaction)"
   ]
  },
  {
   "cell_type": "code",
   "execution_count": 53,
   "metadata": {},
   "outputs": [],
   "source": [
    "backup = seed_model.copy()"
   ]
  },
  {
   "cell_type": "code",
   "execution_count": 82,
   "metadata": {},
   "outputs": [
    {
     "name": "stdout",
     "output_type": "stream",
     "text": [
      "0.0\n"
     ]
    }
   ],
   "source": [
    "seed_model = backup.copy()\n",
    "\n",
    "seed_model.metabolites.Fatty_acyl_ACP_p.remove_from_model()\n",
    "seed_model.metabolites.ACP_p.remove_from_model()\n",
    "\n",
    "seed_model.reactions.GLC_tx.upper_bound = 0\n",
    "seed_model.reactions.GLC_tx.lower_bound = 0\n",
    "seed_model.reactions.Sucrose_tx.upper_bound = 1\n",
    "seed_model.reactions.Sucrose_tx.lower_bound = 1\n",
    "seed_model.reactions.Photon_tx.upper_bound = 0\n",
    "seed_model.reactions.Photon_tx.lower_bound = 0\n",
    "seed_model.reactions.Phloem_output_tx.objective_coefficient=0\n",
    "seed_model.reactions.Biomass_seed_tx.objective_coefficient=1\n",
    "\n",
    "from cobra.flux_analysis import pfba\n",
    "sol = pfba(seed_model)\n",
    "print(seed_model.reactions.Biomass_seed_tx.flux)"
   ]
  },
  {
   "cell_type": "code",
   "execution_count": 79,
   "metadata": {},
   "outputs": [
    {
     "name": "stdout",
     "output_type": "stream",
     "text": [
      "RXN_9531_p\tDecanoyl_ACPs_p + MALONYL_ACP_p + PROTON_p --> 3_oxo_dodecanoyl_ACPs_p + ACP_p + CARBON_DIOXIDE_p\n",
      "RXN_9535_p\tDodecanoyl_ACPs_p + MALONYL_ACP_p + PROTON_p --> 3_oxo_myristoyl_ACPs_p + ACP_p + CARBON_DIOXIDE_p\n",
      "RXN_9527_p\tMALONYL_ACP_p + Octanoyl_ACPs_p + PROTON_p --> 3_oxo_decanoyl_ACPs_p + ACP_p + CARBON_DIOXIDE_p\n",
      "RXN_9523_p\tHexanoyl_ACPs_p + MALONYL_ACP_p + PROTON_p --> 3_Oxo_octanoyl_ACPs_p + ACP_p + CARBON_DIOXIDE_p\n",
      "2_PERIOD_3_PERIOD_1_PERIOD_180_RXN_p\tACETYL_COA_p + MALONYL_ACP_p + PROTON_p --> Acetoacetyl_ACPs_p + CARBON_DIOXIDE_p + CO_A_p\n",
      "RXN_9516_p\tButanoyl_ACPs_p + MALONYL_ACP_p + PROTON_p --> 3_oxo_hexanoyl_ACPs_p + ACP_p + CARBON_DIOXIDE_p\n",
      "MALONYL_COA_ACP_TRANSACYL_RXN_p\tACP_p + MALONYL_COA_p --> CO_A_p + MALONYL_ACP_p\n",
      "RXN_9539_p\tMALONYL_ACP_p + Myristoyl_ACPs_p + PROTON_p --> 3_oxo_palmitoyl_ACPs_p + ACP_p + CARBON_DIOXIDE_p\n"
     ]
    }
   ],
   "source": [
    "for rxn in seed_model.metabolites.get_by_id(\"MALONYL_ACP_p\").reactions:\n",
    "    print(rxn.id+\"\\t\"+str(rxn.reaction))"
   ]
  },
  {
   "cell_type": "code",
   "execution_count": 33,
   "metadata": {},
   "outputs": [],
   "source": [
    "io.write_sbml_model(seed_model,\"Data/Soy_seed_model_GA.sbml\")"
   ]
  }
 ],
 "metadata": {
  "kernelspec": {
   "display_name": "Python 3",
   "language": "python",
   "name": "python3"
  },
  "language_info": {
   "codemirror_mode": {
    "name": "ipython",
    "version": 3
   },
   "file_extension": ".py",
   "mimetype": "text/x-python",
   "name": "python",
   "nbconvert_exporter": "python",
   "pygments_lexer": "ipython3",
   "version": "3.6.9"
  }
 },
 "nbformat": 4,
 "nbformat_minor": 2
}
