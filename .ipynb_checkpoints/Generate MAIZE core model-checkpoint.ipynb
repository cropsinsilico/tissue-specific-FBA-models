{
 "cells": [
  {
   "cell_type": "code",
   "execution_count": 1,
   "metadata": {},
   "outputs": [
    {
     "name": "stderr",
     "output_type": "stream",
     "text": [
      "cobra/__init__.py:33 \u001b[1;31mFutureWarning\u001b[0m: Python 2 is reaching end of life (see https://www.python.org/dev/peps/pep-0373/) and many cobra dependencies have already dropped support. At the moment it *should* still work but we will no longer actively maintain Python 2 support.\n"
     ]
    }
   ],
   "source": [
    "import pandas as pd\n",
    "from cobra import io\n",
    "from cobra.core import Metabolite, Reaction\n",
    "\n",
    "import logging\n",
    "logging.basicConfig()\n",
    "logger = logging.getLogger('logger')"
   ]
  },
  {
   "cell_type": "markdown",
   "metadata": {},
   "source": [
    "## Add gene association"
   ]
  },
  {
   "cell_type": "code",
   "execution_count": 2,
   "metadata": {},
   "outputs": [
    {
     "name": "stdout",
     "output_type": "stream",
     "text": [
      "Using license file /home/sanu/gurobi.lic\n",
      "Academic license - for non-commercial use only\n"
     ]
    }
   ],
   "source": [
    "\n",
    "\n",
    "\n",
    "#model = io.sbml.read_sbml_model(\"/home/sanu/Downloads/core_model_4GA_20_10_17.xml\",use_fbc_package=False)\n",
    "fname = \"/home/sanu/Documents/Scripts/git/plantcoremetabolism-model/PlantCoreMetabolism_v2_0_0.xml\"\n",
    "model = io.sbml.read_sbml_model(fname,use_fbc_package=True)"
   ]
  },
  {
   "cell_type": "code",
   "execution_count": 3,
   "metadata": {},
   "outputs": [],
   "source": [
    "#change Biomass_tx to Protein_biomass\n",
    "rxn = model.reactions.get_by_id(\"Biomass_tx\")\n",
    "rxn.id = \"Protein_biomass_tx\"\n",
    "for met in [\"K_b\",\"Ca_b\",\"Mg_b\"]:\n",
    "    met  = model.metabolites.get_by_id(met)\n",
    "    coeff = rxn.metabolites.get(met)\n",
    "    rxn.add_metabolites({met:-1*coeff})\n",
    "met = Metabolite(\"Protein_b\",name=\"Protein_biomass\",compartment=\"b\")\n",
    "formula_dict = rxn.check_mass_balance()\n",
    "met.formula = \"\".join([atom+str(formula_dict[atom]*-1) for atom in formula_dict.keys() if atom != \"charge\"])\n",
    "#met.charge = formula_dict[\"charge\"]*-1\n",
    "rxn.add_metabolites({met:1})"
   ]
  },
  {
   "cell_type": "code",
   "execution_count": 4,
   "metadata": {},
   "outputs": [],
   "source": [
    "import pythoncyc\n",
    "from Functions import *\n",
    "\n",
    "soy = pythoncyc.select_organism(\"sorghumbicolor\")"
   ]
  },
  {
   "cell_type": "code",
   "execution_count": 6,
   "metadata": {},
   "outputs": [
    {
     "name": "stdout",
     "output_type": "stream",
     "text": [
      "--------------\n",
      "This list of metabolic reactions are ignored\n",
      "['RXN_9650_p', '2_KETO_ADIPATE_DEHYDROG_RXN_m', 'Phytol_biosynthesis_p', 'CYSTEINE_AMINOTRANSFERASE_RXN_m', 'GLYCINE_TRNA_LIGASE_RXN_c', 'RXN66_1_c', 'RXN_9648_p', 'RXN-9651', 'Plastidial_ATP_Synthase_p', 'GGPP_biosynthesis_p', 'RXN_9653_p', 'lycopene_biosynthesis_p', 'RXN_2141_p', 'SUCCINYL_COA_HYDROLASE_RXN_m', 'PROTON_ATPase_c', 'MDA_Fd_Ascorbate_p', 'MercaptoPyruvateSulfurtransferase_m', 'Phytol_degradation_p', 'RXN_9652_p', 'A_B_oxidation_x', 'unlProtHYPO_c', 'Mitochondrial_ATP_Synthase_m', 'IPP_biosynthesis_c', 'Mehler_Reaction_p', 'Beta_Oxidation_x', 'HMBPP_synthesis_p', 'OROTATE_REDUCTASE_NADH_RXN_p', 'Ferredoxin_Plastoquinone_Reductase_p', 'RXN_9651_p', 'NADPH_Dehydrogenase_p', 'Plastoquinol_Oxidase_p', 'SUCCINATE_COA_LIGASE_GDP_FORMING_RXN_m', 'RXN_1781_v', 'PREPHENATE_DEHYDROGENASE_NADP_RXN_p', 'PREPHENATEDEHYDROG_RXN_p', 'MALEYLACETOACETATE_ISOMERASE_RXN_c', 'RXN_9654_p', 'LCYSDESULF_RXN_c', 'RXN_9958_NAD_m', 'HEXOKINASE_RXN_MANNOSE_c', 'PYRUVDEH_RXN_p', 'PYRUVDEH_RXN_m']\n",
      "--------------\n",
      "LPG_biosynthesis_c\n",
      "6PGLUCONDEHYDROG_RXN_c\n",
      "PHE_NH4_Lyase_c\n",
      "MALTODEG_RXN_c\n",
      "RXN_1826_p\n",
      "DIHYDROPICRED_RXN_NAD_p\n",
      "RXN_8871_c\n",
      "arachidate_biosynthesis_p\n",
      "L_ASCORBATE_PEROXIDASE_RXN_m\n",
      "Arachidoyl_ACP_desaturase_p\n",
      "GLUTACONYL_COA_DECARBOXYLASE_RXN_x\n",
      "docosanoate_biosynthesis_p\n",
      "gadoleic_acid_biosynthesis_p\n",
      "Octadecadienoyl_ACP_desaturase_p\n",
      "Octadecatrienoyl_ACP_hydrolase_p\n",
      "RXN1G_368_p\n",
      "CELLULOSE_SYNTHASE_GDP_FORMING_RXN_c\n",
      "RXN1G_445_p\n",
      "hexadecenoate_biosynthesis_p\n",
      "hexadecadienoate_biosynthesis_p\n",
      "RXN_1841_v\n",
      "RXN_10773_c\n",
      "hexadecatrienoate_biosynthesis_p\n",
      "Octadecadienoyl_ACP_hydrolase_p\n",
      "RXN_6884_m\n",
      "6PGLUCONDEHYDROG_RXN_p\n",
      "SYRINGICACID_BIOSYNTHESIS_c\n",
      "VANILLICACID_BIOSYNTHESIS_c\n",
      "2_AMINOADIPATE_AMINOTRANSFERASE_RXN_c\n",
      "hexadecadienoate_ACP_desaturase_p\n",
      "ORNITHINE_GLU_AMINOTRANSFORASE_RXN_m\n",
      "RXN_15130_p\n",
      "palmitoyl_ACP_desaturase_p\n",
      "ALLYSINE_DEHYDROG_RXN_c\n",
      "2_PERIOD_7_PERIOD_7_PERIOD_34_RXN_c\n",
      "RXN_3422_c\n",
      "ACETOVANILLONE_HYDROXYLASE_c\n",
      "palmitoleoyl_ACP_desaturase_p\n",
      "RXN_1121_c\n",
      "SYRINGALDEHYDE_BIOSYNTHESIS_c\n",
      "L_ASCORBATE_PEROXIDASE_RXN_p\n",
      "RXN_12486_c\n",
      "BHBDCLOS_RXN_x\n",
      "DIHYDROPICRED_RXN_NADP_p\n",
      "RXN_8872_c\n",
      "RXN_8873_c\n",
      "GLUTARYL_COA_DEHYDROG_RXN_m\n",
      "1_PERIOD_5_PERIOD_1_PERIOD_8_RXN_c\n",
      "ACETOSYRINGONE_BIOSYNTHESIS_c\n",
      "RXN490_3650_p\n",
      "Oleoyl_ACP_desaturase_p\n",
      "ACETOVANILLONE_SYNTHASE_c\n"
     ]
    }
   ],
   "source": [
    "model = addGPR2Models(model,soy)"
   ]
  },
  {
   "cell_type": "markdown",
   "metadata": {},
   "source": [
    "#### Generate a core model"
   ]
  },
  {
   "cell_type": "code",
   "execution_count": 7,
   "metadata": {},
   "outputs": [],
   "source": [
    "io.write_sbml_model(model,\"/home/sanu/Documents/Scripts/git/tissue-specific-FBA-models/Data/Sorghum_core_model_GA.sbml\")"
   ]
  },
  {
   "cell_type": "code",
   "execution_count": null,
   "metadata": {},
   "outputs": [],
   "source": []
  }
 ],
 "metadata": {
  "kernelspec": {
   "display_name": "Python 2",
   "language": "python",
   "name": "python2"
  },
  "language_info": {
   "codemirror_mode": {
    "name": "ipython",
    "version": 2
   },
   "file_extension": ".py",
   "mimetype": "text/x-python",
   "name": "python",
   "nbconvert_exporter": "python",
   "pygments_lexer": "ipython2",
   "version": "2.7.17"
  }
 },
 "nbformat": 4,
 "nbformat_minor": 2
}
