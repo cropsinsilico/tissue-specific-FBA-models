{
 "cells": [
  {
   "cell_type": "markdown",
   "metadata": {},
   "source": [
    "# Modelling metabolism in soy mature leaves\n",
    "\n",
    "### Generating tissue specific model"
   ]
  },
  {
   "cell_type": "code",
   "execution_count": 1,
   "metadata": {},
   "outputs": [],
   "source": [
    "from cobra import io\n",
    "\n",
    "#import sbml file\n",
    "model = io.sbml.create_cobra_model_from_sbml_file(\"/home/sanu/Curation_core_model_08_06_16/core_model_4GA_11_08_16.xml\")"
   ]
  },
  {
   "cell_type": "code",
   "execution_count": 2,
   "metadata": {},
   "outputs": [
    {
     "data": {
      "text/plain": [
       "'( SOLYC12G008510.1 ) or ( SOLYC11G065220.1 ) or ( SOLYC03G121070.2 ) or ( SOLYC02G091830.2 ) or ( SOLYC06G066440.2 ) or ( SOLYC04G081400.2 )'"
      ]
     },
     "execution_count": 2,
     "metadata": {},
     "output_type": "execute_result"
    }
   ],
   "source": [
    "model.reactions.GLUCOKIN_RXN_c.gene_reaction_rule"
   ]
  },
  {
   "cell_type": "code",
   "execution_count": 3,
   "metadata": {},
   "outputs": [
    {
     "data": {
      "text/html": [
       "\n",
       "        <table>\n",
       "            <tr>\n",
       "                <td><strong>Gene identifier</strong></td><td>SOLYC00G005900.1</td>\n",
       "            </tr><tr>\n",
       "                <td><strong>Name</strong></td><td></td>\n",
       "            </tr><tr>\n",
       "                <td><strong>Memory address</strong></td>\n",
       "                <td>0x07f8616cfeb90</td>\n",
       "            </tr><tr>\n",
       "                <td><strong>Functional</strong></td><td>True</td>\n",
       "            </tr><tr>\n",
       "                <td><strong>In 1 reaction(s)</strong></td><td>\n",
       "                    PSII_RXN_p</td>\n",
       "            </tr>\n",
       "        </table>"
      ],
      "text/plain": [
       "<Gene SOLYC00G005900.1 at 0x7f8616cfeb90>"
      ]
     },
     "execution_count": 3,
     "metadata": {},
     "output_type": "execute_result"
    }
   ],
   "source": [
    "model.genes.get_by_id(\"SOLYC00G005900.1\")"
   ]
  },
  {
   "cell_type": "code",
   "execution_count": 4,
   "metadata": {},
   "outputs": [],
   "source": [
    "from cobra import io\n",
    "\n",
    "#import sbml file\n",
    "model = io.sbml.create_cobra_model_from_sbml_file(\"/home/sanu/Documents/Scripts/git/plantcoremetabolism-model/PlantCoreMetabolism_v1_2_3.xml\")"
   ]
  },
  {
   "cell_type": "code",
   "execution_count": 5,
   "metadata": {},
   "outputs": [],
   "source": [
    "import pythoncyc\n",
    "from Functions import *\n",
    "\n",
    "soy = pythoncyc.select_organism(\"soy\")"
   ]
  },
  {
   "cell_type": "code",
   "execution_count": 6,
   "metadata": {},
   "outputs": [
    {
     "data": {
      "text/plain": [
       "u'(Glyma.19G121600.1.p or Glyma.12G041000.1.p or Glyma.02G211600.1.p or Glyma.11G115200.1.p or Glyma.04G010800.1.p or Glyma.06G010600.1.p or Glyma.03G004300.1.p)'"
      ]
     },
     "execution_count": 6,
     "metadata": {},
     "output_type": "execute_result"
    }
   ],
   "source": [
    "extractGeneAndProteinAssociation(soy,\"|DIHYDROFOLATEREDUCT-RXN|\")"
   ]
  },
  {
   "cell_type": "code",
   "execution_count": 7,
   "metadata": {},
   "outputs": [],
   "source": [
    "reactions = soy.reactions"
   ]
  },
  {
   "cell_type": "code",
   "execution_count": 8,
   "metadata": {},
   "outputs": [
    {
     "name": "stdout",
     "output_type": "stream",
     "text": [
      "|KETOISOCAPROATE-RXN|\n",
      "|2KETO-4METHYL-PENTANOATE-DEHYDROG-RXN|\n",
      "|KETOHEXOKINASE-RXN|\n",
      "|2KETO-3METHYLVALERATE-RXN|\n",
      "|KETOACYLCOATHIOL-RXN|\n",
      "|KETOLACTOSE-RXN|\n",
      "|2TRANSKETO-RXN|\n",
      "|1TRANSKETO-RXN|\n"
     ]
    }
   ],
   "source": [
    "for c in reactions.instances:\n",
    "    if \"KETO\" in c.frameid:\n",
    "        print c.frameid"
   ]
  },
  {
   "cell_type": "code",
   "execution_count": 9,
   "metadata": {},
   "outputs": [],
   "source": [
    "rxnPresentList = list()\n",
    "rxnIDed = dict()\n",
    "for CycRxn in reactions.instances:\n",
    "    CycRxn_id = CycRxn.frameid\n",
    "    CycRxn_id_adapted = convertCycID2sbmlID(CycRxn_id)\n",
    "    tempList = list()\n",
    "    for rxn in model.reactions:\n",
    "        if rxn.id == \"MANNITOL_1_PHOSPHATE_RXN_c\" and CycRxn_id == \"|MANNITOL-1-PHOSPHATASE-RXN|\":\n",
    "            print rxn.id\n",
    "            print CycRxn_id\n",
    "            print CycRxn_id_adapted\n",
    "            print rxn.id[0:rxn.id.rindex(\"_\")]\n",
    "        if CycRxn_id_adapted == rxn.id[0:rxn.id.rindex(\"_\")]:\n",
    "            tempList.append(rxn)\n",
    "        elif CycRxn_id_adapted == rxn.id[0:rxn.id.rindex(\"_\")].replace(\"_NADP\",\"\").replace(\"_NAD\",\"\"):\n",
    "            tempList.append(rxn)\n",
    "    rxnIDed[CycRxn_id]=tempList"
   ]
  },
  {
   "cell_type": "code",
   "execution_count": 10,
   "metadata": {},
   "outputs": [],
   "source": [
    "SoyIgnoreList = [\"RXN_9650_p\",\"2_KETO_ADIPATE_DEHYDROG_RXN_m\",\"Phytol_biosynthesis_p\" \\\n",
    "                ,\"CYSTEINE_AMINOTRANSFERASE_RXN_m\",\"GLYCINE_TRNA_LIGASE_RXN_c\" \\\n",
    "                ,\"RXN66_1_c\",\"RXN_9648_p\",\"RXN-9651\",\"Plastidial_ATP_Synthase_p\" \\\n",
    "                ,\"GGPP_biosynthesis_p\",\"RXN_9653_p\",\"lycopene_biosynthesis_p\" \\\n",
    "                ,\"RXN_2141_p\",\"SUCCINYL_COA_HYDROLASE_RXN_m\",\"PROTON_ATPase_c\" \\\n",
    "                ,\"MDA_Fd_Ascorbate_p\",\"MercaptoPyruvateSulfurtransferase_m\" \\\n",
    "                ,\"Phytol_degradation_p\",\"RXN_9652_p\",\"A_B_oxidation_x\",\"unlProtHYPO_c\" \\\n",
    "                ,\"Mitochondrial_ATP_Synthase_m\",\"IPP_biosynthesis_c\",\"Mehler_Reaction_p\" \\\n",
    "                ,\"Beta_Oxidation_x\",\"HMBPP_synthesis_p\",\"OROTATE_REDUCTASE_NADH_RXN_p\" \\\n",
    "                ,\"Ferredoxin_Plastoquinone_Reductase_p\",\"RXN_9651_p\",\"NADPH_Dehydrogenase_p\" \\\n",
    "                ,\"Plastoquinol_Oxidase_p\",\"SUCCINATE_COA_LIGASE_GDP_FORMING_RXN_m\",\"RXN_1781_v\" \\\n",
    "                ,\"PREPHENATE_DEHYDROGENASE_NADP_RXN_p\",\"PREPHENATEDEHYDROG_RXN_p\" \\\n",
    "                ,\"MALEYLACETOACETATE_ISOMERASE_RXN_c\",\"RXN_9654_p\",\"LCYSDESULF_RXN_c\",\"RXN_9958_NAD_m\" \\\n",
    "                ,\"HEXOKINASE_RXN_MANNOSE_c\",\"PYRUVDEH_RXN_p\",\"PYRUVDEH_RXN_m\" \\\n",
    "                ,\"RXN_15130_p\" \\\n",
    "                ,\"2_AMINOADIPATE_AMINOTRANSFERASE_RXN_c\",\"GLURS_RXN_c\",\"ALLYSINE_DEHYDROG_RXN_c\" \\\n",
    "                ,\"GLUTARYL_COA_DEHYDROG_RXN_m\",\"GLUTACONYL_COA_DECARBOXYLASE_RXN_x\"] #last 3 lines present in latest version of SoyCyc\n",
    "\n",
    "IDedlist = set()\n",
    "for rxnlist in rxnIDed.values():\n",
    "    IDedlist = IDedlist.union(set(rxnlist))\n",
    "for rxn in set(model.reactions) - IDedlist:\n",
    "    if not(\"_tx\" in rxn.id or \"_pc\" in rxn.id or \\\n",
    "           \"_mc\" in rxn.id or \"_xc\" in rxn.id or \\\n",
    "           \"_im\" in rxn.id or \"_vc\" in rxn.id or \\\n",
    "           \"_ec\" in rxn.id or \"_ep\" in rxn.id or \\\n",
    "           \"_pr\" in rxn.id) \\\n",
    "    and (not \"Biomass\" in rxn.id) and \\\n",
    "    (not \"biomass\" in rxn.id) and \\\n",
    "    (not \"Protein\" in rxn.id) and \\\n",
    "    (not \"TRNA_LIGASE\" in rxn.id):\n",
    "        if rxn.id not in SoyIgnoreList:\n",
    "            print rxn.id"
   ]
  },
  {
   "cell_type": "code",
   "execution_count": 12,
   "metadata": {},
   "outputs": [
    {
     "name": "stdout",
     "output_type": "stream",
     "text": [
      "Error check if |FORMYLTHFDEFORMYL-RXN| is reaction\n",
      "Error check if |MALATE-DEHYDROGENASE-NADP+-RXN| is reaction\n",
      "Error check if |DIHYDROPICRED-RXN| is reaction\n",
      "Error check if |DIHYDROPICRED-RXN| is reaction\n",
      "Error check if |3-HYDROXBUTYRYL-COA-DEHYDRATASE-RXN| is reaction\n",
      "Error check if |1.1.1.255-RXN| is reaction\n",
      "Error check if |HYDROXYPYRUVATE-REDUCTASE-RXN| is reaction\n",
      "Error check if |L-ASCORBATE-PEROXIDASE-RXN| is reaction\n",
      "Error check if |L-ASCORBATE-PEROXIDASE-RXN| is reaction\n",
      "Error check if |RXN0-5184| is reaction\n",
      "Error check if |CELLULOSE-SYNTHASE-GDP-FORMING-RXN| is reaction\n",
      "Error check if |FUMARYLACETOACETASE-RXN| is reaction\n",
      "Error check if |MANNPGUANYLTRANGDP-RXN| is reaction\n",
      "Error check if |DSERDEAM-RXN| is reaction\n",
      "Error check if |MALTODEG-RXN| is reaction\n",
      "Error check if |RXN-6884| is reaction\n",
      "Error check if |1.5.1.9-RXN| is reaction\n",
      "Error check if |RXN-8001| is reaction\n",
      "Error check if |THREONINE-ALDOLASE-RXN| is reaction\n",
      "Error check if |RXN-12486| is reaction\n",
      "Error check if |BHBDCLOS-RXN| is reaction\n",
      "Error check if |1.5.1.8-RXN| is reaction\n"
     ]
    }
   ],
   "source": [
    "for k in rxnIDed.keys():\n",
    "    for v in rxnIDed.get(k):\n",
    "        rxn = v\n",
    "        if rxn.gene_reaction_rule == \"\":\n",
    "            #print k\n",
    "            rxn.gene_reaction_rule = extractGeneAndProteinAssociation(soy,k)"
   ]
  },
  {
   "cell_type": "code",
   "execution_count": 14,
   "metadata": {},
   "outputs": [
    {
     "name": "stdout",
     "output_type": "stream",
     "text": [
      "Error check if |1.5.1.8-RXN| is reaction\n"
     ]
    },
    {
     "data": {
      "text/plain": [
       "''"
      ]
     },
     "execution_count": 14,
     "metadata": {},
     "output_type": "execute_result"
    }
   ],
   "source": [
    "extractGeneAndProteinAssociation(soy,\"|1.5.1.8-RXN|\")"
   ]
  },
  {
   "cell_type": "code",
   "execution_count": 20,
   "metadata": {},
   "outputs": [
    {
     "data": {
      "text/plain": [
       "True"
      ]
     },
     "execution_count": 20,
     "metadata": {},
     "output_type": "execute_result"
    }
   ],
   "source": [
    "rxn in soy.reactions.instances"
   ]
  },
  {
   "cell_type": "code",
   "execution_count": 13,
   "metadata": {},
   "outputs": [
    {
     "name": "stdout",
     "output_type": "stream",
     "text": [
      "|GN7V-48641-MONOMER|\n",
      "Glyma.13G115500.1.p\n",
      "|GN7V-59155-MONOMER|\n",
      "Glyma.17G044300.1.p\n"
     ]
    }
   ],
   "source": [
    "a=getFrame(soy,\"|1.5.1.8-RXN|\")\n",
    "b=soy.get_frame_objects(a.enzymatic_reaction)\n",
    "for enzRxn in b:\n",
    "    c=getFrame(soy,enzRxn.enzyme)\n",
    "    print c.frameid\n",
    "    if \"gene\" in dir(c):\n",
    "        for gene in c.gene:\n",
    "            d = getFrame(soy,gene)\n",
    "            print d.accession_1"
   ]
  },
  {
   "cell_type": "code",
   "execution_count": null,
   "metadata": {},
   "outputs": [],
   "source": [
    "l = getFrame(soy,b[3].enzyme)"
   ]
  },
  {
   "cell_type": "code",
   "execution_count": 8,
   "metadata": {},
   "outputs": [
    {
     "data": {
      "text/html": [
       "<table><tr><td>common_name</td><td>DHFR-TS</td></tr><tr><td>creation_date</td><td>3579371888</td></tr><tr><td>dblinks</td><td>{u'|ENTREZ|': [u'S78087', u'|PART-OF|', u'|hartmut|', 3328294910, None, None]}</td></tr><tr><td>frameid</td><td>|G-7081|</td></tr><tr><td>key_slots</td><td>|COMMON-NAME|</td></tr><tr><td>names</td><td>[u'DHFR-TS']</td></tr><tr><td>pgdb</td><td><PGDB soy, currently has 26 PFrames></td></tr><tr><td>product</td><td>[u'|MONOMER-9361|']</td></tr><tr><td>product_types</td><td>[u'|ENZYME|']</td></tr><tr><td>schema_p</td><td>True</td></tr><tr><td>synonym_slots</td><td>[u'|SYNONYMS|', u'|ACCESSION-1|', u'|ACCESSION-2|', u'|ABBREV-NAME|']</td></tr></table>"
      ],
      "text/plain": [
       "<IPython.core.display.HTML object>"
      ]
     },
     "metadata": {},
     "output_type": "display_data"
    }
   ],
   "source": [
    "getFrame(soy,getFrame(soy,b[3].enzyme).gene[0])"
   ]
  },
  {
   "cell_type": "code",
   "execution_count": 10,
   "metadata": {},
   "outputs": [
    {
     "data": {
      "text/html": [
       "<table><tr><td>catalyzes</td><td>[u'|ENZRXNN7V-86478|']</td></tr><tr><td>common_name</td><td>Glyma.02G211600.1.p</td></tr><tr><td>creation_date</td><td>3639399876</td></tr><tr><td>creator</td><td>|zhang|</td></tr><tr><td>credits</td><td>[u'|pmngroup|']</td></tr><tr><td>frameid</td><td>|GN7V-65138-MONOMER|</td></tr><tr><td>gene</td><td>[u'|GN7V-65138|']</td></tr><tr><td>key_slots</td><td>|COMMON-NAME|</td></tr><tr><td>names</td><td>[u'Glyma.02G211600.1.p']</td></tr><tr><td>overview_node_shape</td><td>|DIAMOND|</td></tr><tr><td>pgdb</td><td><PGDB soy, currently has 26 PFrames></td></tr><tr><td>schema_p</td><td>True</td></tr><tr><td>synonym_slots</td><td>[u'|ABBREV-NAME|', u'|SYNONYMS|', u'|ACCESSION-1|']</td></tr></table>"
      ],
      "text/plain": [
       "<IPython.core.display.HTML object>"
      ]
     },
     "metadata": {},
     "output_type": "display_data"
    }
   ],
   "source": [
    "getFrame(soy,b[2].enzyme)"
   ]
  },
  {
   "cell_type": "code",
   "execution_count": 11,
   "metadata": {},
   "outputs": [
    {
     "data": {
      "text/html": [
       "<table><tr><td>catalyzes</td><td>[u'|ENZRXN-23142|', u'|ENZRXN-9564|', u'|ENZRXN-9541|']</td></tr><tr><td>comment</td><td>[u'A cDNA clone was isolated from tissues of |FRAME: TAX-3847 <i>Glycine max</i>|. The cDNA was recombinantly expressed in E.coli, and the encoded protein has 530 amino acids. The protein has two domains, one is 30% identical to the human dihydrofolate reductase, the second domain is 60% identical to the eukaryotic thymidylate synthase. The soybean protein exists as a bifunctional enzyme |CITS: [7742362]|.\\r\\r\\n']</td></tr><tr><td>creation_date</td><td>3579371888</td></tr><tr><td>credits</td><td>[u'|O-28|', u'|pujar|']</td></tr><tr><td>dblinks</td><td>{u'|PROSITE|': [u'PS00091', u'|IN-FAMILY|', u'|kothari|', 3568736464, None, None], u'|ANNOTATION_SOURCE|': [u'P51820', u'|Homolog|', u'|peifenz|', 3538513050, None, None], u'|PFAM|': [u'PF00303', u'|IN-FAMILY|', u'|kothari|', 3563847244, None, None], u'|PANTHER|': [u'PTHR11549:SF2', u'|IN-FAMILY|', u'|kothari|', 3563725479, None, None], u'|INTERPRO|': [u'IPR020940', u'|IN-FAMILY|', u'|kothari|', 3563818878, None, None], u'|PRINTS|': [u'PR00108', u'|IN-FAMILY|', u'|kothari|', 3563812937, None, None], u'|SMR|': [u'P51820', None, u'|kothari|', 3563731188, None, None], u'|PID|': [u'AAB34317', None, u'|hartmut|', 3328294861, None, None], u'|UNIPROT|': [u'P51820', None, u'|anuradha|', 3488637075, None, None], u'|PROTEINMODELPORTAL|': [u'P51820', None, u'|kothari|', 3563731195, None, None]}</td></tr><tr><td>frameid</td><td>|MONOMER-9361|</td></tr><tr><td>gene</td><td>[u'|G-7081|']</td></tr><tr><td>key_slots</td><td>|COMMON-NAME|</td></tr><tr><td>molecular_weight_exp</td><td>[60]</td></tr><tr><td>molecular_weight_kd</td><td>[60.0, 60]</td></tr><tr><td>molecular_weight_seq</td><td>60.0</td></tr><tr><td>overview_node_shape</td><td>|DIAMOND|</td></tr><tr><td>pgdb</td><td><PGDB soy, currently has 26 PFrames></td></tr><tr><td>schema_p</td><td>True</td></tr><tr><td>synonym_slots</td><td>[u'|ABBREV-NAME|', u'|SYNONYMS|', u'|ACCESSION-1|']</td></tr></table>"
      ],
      "text/plain": [
       "<IPython.core.display.HTML object>"
      ]
     },
     "metadata": {},
     "output_type": "display_data"
    }
   ],
   "source": [
    "getFrame(soy,b[3].enzyme)"
   ]
  },
  {
   "cell_type": "code",
   "execution_count": 15,
   "metadata": {
    "scrolled": true
   },
   "outputs": [
    {
     "name": "stdout",
     "output_type": "stream",
     "text": [
      "|GN7V-48641-MONOMER|\n",
      "|GN7V-48641-MONOMER|\n",
      "Glyma.13G115500.1.p\n",
      "|GN7V-59155-MONOMER|\n",
      "Glyma.13G115500.1.p or |GN7V-59155-MONOMER|\n",
      "Glyma.17G044300.1.p\n",
      "-----_\n",
      "(Glyma.13G115500.1.p or Glyma.17G044300.1.p)\n"
     ]
    }
   ],
   "source": [
    "cyc= soy\n",
    "frame_id = \"|1.5.1.8-RXN|\"\n",
    "rxn = getFrame(cyc,frame_id)\n",
    "enzrxns = cyc.get_frame_objects(rxn.enzymatic_reaction)\n",
    "GPR = \"(GPR)\"\n",
    "temp1 = \"\"\n",
    "for enzrxn in enzrxns:\n",
    "    enz = getFrame(cyc,enzrxn.enzyme)\n",
    "    if \"names\" not in dir(enz):\n",
    "        continue\n",
    "    if temp1 == \"\":\n",
    "        temp1 = str(enz.frameid)\n",
    "    else:\n",
    "        temp1 = temp1 +\" or \"+str(enz.frameid)\n",
    "    temp2 = \"\"\n",
    "    for gene in enz.gene:\n",
    "        gene = getFrame(cyc,gene)\n",
    "        if \"accession_1\" not in dir(gene):\n",
    "            temp1.replace(enz.frameid,\"\")\n",
    "            continue\n",
    "        if temp2 == \"\":\n",
    "            temp2 = gene.accession_1\n",
    "        else:\n",
    "            temp2 = temp2 +\" or \"+gene.accession_1\n",
    "    print enz.frameid\n",
    "    print temp1\n",
    "    print temp2\n",
    "    temp1 = temp1.replace(enz.frameid,temp2)\n",
    "GPR = GPR.replace(\"GPR\",temp1)\n",
    "print(\"-----_\")\n",
    "print GPR"
   ]
  },
  {
   "cell_type": "code",
   "execution_count": null,
   "metadata": {},
   "outputs": [],
   "source": [
    "getFrame(soy,g.components[0]).gene"
   ]
  },
  {
   "cell_type": "code",
   "execution_count": 17,
   "metadata": {},
   "outputs": [
    {
     "data": {
      "text/plain": [
       "['__dir__',\n",
       " '__doc__',\n",
       " '__eq__',\n",
       " '__getattr__',\n",
       " '__getinitargs__',\n",
       " '__getitem__',\n",
       " '__getslice__',\n",
       " '__getstate__',\n",
       " '__init__',\n",
       " '__module__',\n",
       " '__ne__',\n",
       " '__repr__',\n",
       " '__setattr__',\n",
       " '__setitem__',\n",
       " '__setstate__',\n",
       " '__str__',\n",
       " '_gotframe',\n",
       " '_ipython_display_',\n",
       " '_isclass',\n",
       " '_nb_pframes',\n",
       " u'atom_mappings',\n",
       " u'creation_date',\n",
       " u'creator',\n",
       " u'credits',\n",
       " u'ec_number',\n",
       " u'enzymatic_reaction',\n",
       " 'frameid',\n",
       " 'get_frame_data',\n",
       " 'get_frame_slot_value',\n",
       " u'key_slots',\n",
       " u'left',\n",
       " u'orphan_p',\n",
       " 'pgdb',\n",
       " u'physiologically_relevant_p',\n",
       " u'right',\n",
       " u'schema_p',\n",
       " u'substrates',\n",
       " u'synonym_slots',\n",
       " 'vectorize_dict']"
      ]
     },
     "execution_count": 17,
     "metadata": {},
     "output_type": "execute_result"
    }
   ],
   "source": []
  },
  {
   "cell_type": "code",
   "execution_count": null,
   "metadata": {},
   "outputs": [],
   "source": []
  }
 ],
 "metadata": {
  "kernelspec": {
   "display_name": "Python 2",
   "language": "python",
   "name": "python2"
  },
  "language_info": {
   "codemirror_mode": {
    "name": "ipython",
    "version": 2
   },
   "file_extension": ".py",
   "mimetype": "text/x-python",
   "name": "python",
   "nbconvert_exporter": "python",
   "pygments_lexer": "ipython2",
   "version": "2.7.15rc1"
  }
 },
 "nbformat": 4,
 "nbformat_minor": 2
}
