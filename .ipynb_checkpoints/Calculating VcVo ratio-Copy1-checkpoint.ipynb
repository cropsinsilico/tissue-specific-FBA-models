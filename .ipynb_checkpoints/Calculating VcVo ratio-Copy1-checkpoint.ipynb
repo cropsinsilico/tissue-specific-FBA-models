{
 "cells": [
  {
   "cell_type": "markdown",
   "metadata": {},
   "source": [
    "## Calculating Vc/Vo \n",
    "Assuming Michealis Menten kinetics..."
   ]
  },
  {
   "cell_type": "code",
   "execution_count": 63,
   "metadata": {},
   "outputs": [
    {
     "name": "stdout",
     "output_type": "stream",
     "text": [
      "6.1680949084572605\n"
     ]
    }
   ],
   "source": [
    "E = 130\n",
    "P_CO2 = 380.0/1000000 \n",
    "R = 8.314\n",
    "T = 300\n",
    "#C_CO2 = float(P_CO2)/(R*T)\n",
    "C_CO2 = P_CO2*34\n",
    "P_O2 = 209465.0/1000000 \n",
    "#C_O2 = float(P_O2)/(R*T)\n",
    "C_O2 = P_O2*1.3\n",
    "Vc_Vo_ratio = E*(float(C_CO2)/C_O2)\n",
    "\n",
    "print(Vc_Vo_ratio)"
   ]
  },
  {
   "cell_type": "code",
   "execution_count": 20,
   "metadata": {},
   "outputs": [
    {
     "data": {
      "text/plain": [
       "1653.671052631579"
      ]
     },
     "execution_count": 20,
     "metadata": {},
     "output_type": "execute_result"
    }
   ],
   "source": [
    "3.0/(float(C_CO2)/C_O2)"
   ]
  },
  {
   "cell_type": "code",
   "execution_count": 71,
   "metadata": {},
   "outputs": [
    {
     "name": "stdout",
     "output_type": "stream",
     "text": [
      "3.7957507128967753\n"
     ]
    }
   ],
   "source": [
    "E = 80\n",
    "P_CO2 = 380.0/1000000 \n",
    "R = 8.314\n",
    "T = 300\n",
    "#C_CO2 = float(P_CO2)/(R*T)\n",
    "C_CO2 = P_CO2*34\n",
    "P_O2 = 209465.0/1000000 \n",
    "#C_O2 = float(P_O2)/(R*T)\n",
    "C_O2 = P_O2*1.3\n",
    "Vc_Vo_ratio = E*(float(C_CO2)/C_O2)\n",
    "\n",
    "print(Vc_Vo_ratio)"
   ]
  },
  {
   "cell_type": "code",
   "execution_count": 72,
   "metadata": {},
   "outputs": [
    {
     "data": {
      "text/plain": [
       "63.228599071207434"
      ]
     },
     "execution_count": 72,
     "metadata": {},
     "output_type": "execute_result"
    }
   ],
   "source": [
    "E = 3.0/(float(C_CO2)/C_O2)\n",
    "E"
   ]
  },
  {
   "cell_type": "code",
   "execution_count": 73,
   "metadata": {},
   "outputs": [
    {
     "name": "stdout",
     "output_type": "stream",
     "text": [
      "4.345632140984583\n"
     ]
    }
   ],
   "source": [
    "P_CO2 = 550.0/1000000 \n",
    "R = 8.314\n",
    "T = 300\n",
    "#C_CO2 = float(P_CO2)/(R*T)\n",
    "C_CO2 = P_CO2*34\n",
    "P_O2 = 209295.0/1000000 \n",
    "#C_O2 = float(P_O2)/(R*T)\n",
    "C_O2 = P_O2*1.3\n",
    "Vc_Vo_ratio = E*(float(C_CO2)/C_O2)\n",
    "\n",
    "print(Vc_Vo_ratio)"
   ]
  },
  {
   "cell_type": "markdown",
   "metadata": {},
   "source": [
    "#### High [CO2]"
   ]
  },
  {
   "cell_type": "code",
   "execution_count": 67,
   "metadata": {},
   "outputs": [
    {
     "name": "stdout",
     "output_type": "stream",
     "text": [
      "8.934757160945077\n"
     ]
    }
   ],
   "source": [
    "E = 130\n",
    "P_CO2 = 550.0/1000000 \n",
    "R = 8.314\n",
    "T = 300\n",
    "#C_CO2 = float(P_CO2)/(R*T)\n",
    "C_CO2 = P_CO2*34\n",
    "P_O2 = 209295.0/1000000 \n",
    "#C_O2 = float(P_O2)/(R*T)\n",
    "C_O2 = P_O2*1.3\n",
    "Vc_Vo_ratio = E*(float(C_CO2)/C_O2)\n",
    "\n",
    "print(Vc_Vo_ratio)"
   ]
  },
  {
   "cell_type": "code",
   "execution_count": 68,
   "metadata": {},
   "outputs": [
    {
     "name": "stdout",
     "output_type": "stream",
     "text": [
      "5.498312099043124\n"
     ]
    }
   ],
   "source": [
    "E = 80\n",
    "P_CO2 = 550.0/1000000 \n",
    "R = 8.314\n",
    "T = 300\n",
    "#C_CO2 = float(P_CO2)/(R*T)\n",
    "C_CO2 = P_CO2*34\n",
    "P_O2 = 209295.0/1000000 \n",
    "#C_O2 = float(P_O2)/(R*T)\n",
    "C_O2 = P_O2*1.3\n",
    "Vc_Vo_ratio = E*(float(C_CO2)/C_O2)\n",
    "\n",
    "print(Vc_Vo_ratio)"
   ]
  },
  {
   "cell_type": "markdown",
   "metadata": {},
   "source": [
    "### Luttge equation 7 using Col1"
   ]
  },
  {
   "cell_type": "code",
   "execution_count": 57,
   "metadata": {},
   "outputs": [
    {
     "name": "stdout",
     "output_type": "stream",
     "text": [
      "0.4135058726460882\n"
     ]
    }
   ],
   "source": [
    "Vmax_O2 = 1.8\n",
    "#C_O2 = 253 # Heldt HW, Piechulla B (2008) Pflanzenbiochemie, 4th edn. Spektrum Akademischer Verlag, Heidelberg\n",
    "C_O2 = 273 # Spalding MH, Stumpf DK, Ku MSB, Burris RH, Edwards GE (1979) Crassulacean acid metabo- lism and diurnal variation of internal CO2 and O2-concentrations in Sedum praealtum DC. Aust J Plant Physiol 6:557–567\n",
    "Km_O2 = 535 # Heldt HW, Piechulla B (2008) Pflanzenbiochemie, 4th edn. Spektrum Akademischer Verlag, Heidelberg\n",
    "Vmax_CO2 = 7.6\n",
    "#C_CO2 = 11 # Heldt HW, Piechulla B (2008) Pflanzenbiochemie, 4th edn. Spektrum Akademischer Verlag, Heidelberg\n",
    "C_CO2 = 8.5 # Spalding MH, Stumpf DK, Ku MSB, Burris RH, Edwards GE (1979) Crassulacean acid metabo- lism and diurnal variation of internal CO2 and O2-concentrations in Sedum praealtum DC. Aust J Plant Physiol 6:557–567\n",
    "Km_CO2 = 9 # Heldt HW, Piechulla B (2008) Pflanzenbiochemie, 4th edn. Spektrum Akademischer Verlag, Heidelberg\n",
    "\n",
    "Vmax_O2_CO2_ratio = (1.0/100)*(Km_O2/Km_CO2)\n",
    "\n",
    "\n",
    "V_O2_CO2_ratio = (Vmax_O2_CO2_ratio*C_O2*(Km_CO2+C_CO2))/(C_CO2*(Km_O2+C_O2))\n",
    "print(V_O2_CO2_ratio)"
   ]
  },
  {
   "cell_type": "markdown",
   "metadata": {},
   "source": [
    "### Luttge equation 7 using Col2"
   ]
  },
  {
   "cell_type": "code",
   "execution_count": 52,
   "metadata": {},
   "outputs": [
    {
     "name": "stdout",
     "output_type": "stream",
     "text": [
      "0.4083178944906414\n"
     ]
    }
   ],
   "source": [
    "Vmax_O2 = 1.8 # Badger MR, Andrews TJ, Osmond CB (1974) Detection in C3,C4 and CAM plant leaves of a low Km (CO2) form of RuDP carboxylase having high RuDP oxygenase activity at physiological pH. In: Avron M (ed) Proc 3rd Int Congr Photosnythesis, Elsevier, Amsterdam, 1421–1429\n",
    "C_O2 = 273 # Spalding MH, Stumpf DK, Ku MSB, Burris RH, Edwards GE (1979) Crassulacean acid metabo- lism and diurnal variation of internal CO2 and O2-concentrations in Sedum praealtum DC. Aust J Plant Physiol 6:557–567\n",
    "Km_O2 = 230 # Badger MR, Andrews TJ, Osmond CB (1974) Detection in C3,C4 and CAM plant leaves of a low Km (CO2) form of RuDP carboxylase having high RuDP oxygenase activity at physiological pH. In: Avron M (ed) Proc 3rd Int Congr Photosnythesis, Elsevier, Amsterdam, 1421–1429\n",
    "Vmax_CO2 = 7.6 # Badger MR, Andrews TJ, Osmond CB (1974) Detection in C3,C4 and CAM plant leaves of a low Km (CO2) form of RuDP carboxylase having high RuDP oxygenase activity at physiological pH. In: Avron M (ed) Proc 3rd Int Congr Photosnythesis, Elsevier, Amsterdam, 1421–1429\n",
    "C_CO2 = 8.5 # Spalding MH, Stumpf DK, Ku MSB, Burris RH, Edwards GE (1979) Crassulacean acid metabo- lism and diurnal variation of internal CO2 and O2-concentrations in Sedum praealtum DC. Aust J Plant Physiol 6:557–567\n",
    "Km_CO2 = 18.5 # Badger MR, Andrews TJ, Osmond CB (1974) Detection in C3,C4 and CAM plant leaves of a low Km (CO2) form of RuDP carboxylase having high RuDP oxygenase activity at physiological pH. In: Avron M (ed) Proc 3rd Int Congr Photosnythesis, Elsevier, Amsterdam, 1421–1429\n",
    "\n",
    "V_O2_CO2_ratio = (Vmax_O2*C_O2*(Km_CO2+C_CO2))/(Vmax_CO2*C_CO2*(Km_O2+C_O2))\n",
    "print(V_O2_CO2_ratio)"
   ]
  },
  {
   "cell_type": "markdown",
   "metadata": {},
   "source": [
    "### Luttge equation 9 using Col1"
   ]
  },
  {
   "cell_type": "code",
   "execution_count": 74,
   "metadata": {},
   "outputs": [
    {
     "name": "stdout",
     "output_type": "stream",
     "text": [
      "0.3125\n"
     ]
    }
   ],
   "source": [
    "E = 100\n",
    "C_O2 = 250 # Heldt HW, Piechulla B (2008) Pflanzenbiochemie, 4th edn. Spektrum Akademischer Verlag, Heidelberg\n",
    "C_CO2 = 8 # Heldt HW, Piechulla B (2008) Pflanzenbiochemie, 4th edn. Spektrum Akademischer Verlag, Heidelberg\n",
    "\n",
    "V_O2_CO2_ratio = (1.0/100)*(float(C_O2)/C_CO2)\n",
    "print(V_O2_CO2_ratio)"
   ]
  },
  {
   "cell_type": "markdown",
   "metadata": {},
   "source": [
    "### Luttge equation 9 using Col2"
   ]
  },
  {
   "cell_type": "code",
   "execution_count": 75,
   "metadata": {},
   "outputs": [
    {
     "name": "stdout",
     "output_type": "stream",
     "text": [
      "0.3211764705882353\n"
     ]
    }
   ],
   "source": [
    "E = 100\n",
    "C_O2 = 273 # Spalding MH, Stumpf DK, Ku MSB, Burris RH, Edwards GE (1979) Crassulacean acid metabo- lism and diurnal variation of internal CO2 and O2-concentrations in Sedum praealtum DC. Aust J Plant Physiol 6:557–567\n",
    "C_CO2 = 8.5 # Spalding MH, Stumpf DK, Ku MSB, Burris RH, Edwards GE (1979) Crassulacean acid metabo- lism and diurnal variation of internal CO2 and O2-concentrations in Sedum praealtum DC. Aust J Plant Physiol 6:557–567\n",
    "\n",
    "V_O2_CO2_ratio = (1.0/100)*(float(C_O2)/C_CO2)\n",
    "print(V_O2_CO2_ratio)"
   ]
  },
  {
   "cell_type": "code",
   "execution_count": null,
   "metadata": {},
   "outputs": [],
   "source": []
  }
 ],
 "metadata": {
  "kernelspec": {
   "display_name": "Python 3",
   "language": "python",
   "name": "python3"
  },
  "language_info": {
   "codemirror_mode": {
    "name": "ipython",
    "version": 3
   },
   "file_extension": ".py",
   "mimetype": "text/x-python",
   "name": "python",
   "nbconvert_exporter": "python",
   "pygments_lexer": "ipython3",
   "version": "3.6.9"
  }
 },
 "nbformat": 4,
 "nbformat_minor": 2
}
