{
 "cells": [
  {
   "cell_type": "markdown",
   "metadata": {},
   "source": [
    "# Modelling metabolism in SOY"
   ]
  },
  {
   "cell_type": "markdown",
   "metadata": {},
   "source": [
    "### Generating SOY core model"
   ]
  },
  {
   "cell_type": "code",
   "execution_count": 1,
   "metadata": {},
   "outputs": [
    {
     "data": {
      "text/plain": [
       "'L_1_PHOSPHATIDYL_GLYCEROL_P_p + WATER_c --> Fatty_Acids_c + Lysophosphatidylglycerols_r + PROTON_c'"
      ]
     },
     "execution_count": 1,
     "metadata": {},
     "output_type": "execute_result"
    }
   ],
   "source": [
    "import pandas as pd\n",
    "from cobra import io\n",
    "from cobra.core import Metabolite, Reaction\n",
    "from cobra import flux_analysis\n",
    "from Functions import *\n",
    "from IPython import display\n",
    "import logging\n",
    "logging.basicConfig()\n",
    "logger = logging.getLogger('logger')\n",
    "\n",
    "#import sbml file\n",
    "fname = \"./../plantcoremetabolism-model/PlantCoreMetabolism_v2_1_0.xml\"\n",
    "model = io.read_sbml_model(fname)\n",
    "model.solver='glpk'\n",
    "display.clear_output()\n",
    "\n",
    "#from sweetlovegroup import transform\n",
    "#model = transform.fixModelCompatibilityIssueCobra015(model,fname)\n",
    "\n",
    "\n",
    "#change Biomass_tx to Protein_biomass\n",
    "#rxn = model.reactions.get_by_id(\"Biomass_tx\")\n",
    "#rxn.id = \"Protein_biomass_tx\"\n",
    "#for met in [\"K_b\",\"Ca_b\",\"Mg_b\"]:\n",
    "#    met  = model.metabolites.get_by_id(met)\n",
    "#    coeff = rxn.metabolites.get(met)\n",
    "#    rxn.add_metabolites({met:-1*coeff})\n",
    "#met = Metabolite(\"Protein_b\",name=\"Protein_biomass\")\n",
    "#formula_dict = rxn.check_mass_balance()\n",
    "#met.formula = \"\".join([atom+str(formula_dict[atom]*-1) for atom in formula_dict.keys() if atom != \"charge\"])\n",
    "#met.charge = formula_dict[\"charge\"]*-1\n",
    "#met.compartment = \"b\"\n",
    "#rxn.add_metabolites({met:1})\n",
    "\n",
    "\n",
    "for rxn in model.reactions:\n",
    "    if rxn.lower_bound == -1000:\n",
    "        rxn.lower_bound = -3000\n",
    "    if rxn.upper_bound == 1000:\n",
    "        rxn.upper_bound = 3000\n",
    "\n",
    "#remove charged state of PGPs since they are minor (0.03)\n",
    "removeSpecificMetChargedState(model,[\"aL_1_PHOSPHATIDYL_GLYCEROL_P_p\",\"aL_1_PHOSPHATIDYL_GLYCEROL_P_m\"])\n",
    "model.reactions.LPG_biosynthesis_c.reaction"
   ]
  },
  {
   "cell_type": "code",
   "execution_count": 2,
   "metadata": {},
   "outputs": [],
   "source": [
    "import pandas as pd\n",
    "\n",
    "df = pd.read_csv(\"Data/biomass_soy.csv\")\n",
    "\n",
    "FA=[\"PALMITATE_p\",\"CPD_9245_p\",\"CPD_17412_p\",\"CPD_17291_p\",\"STEARIC_ACID_p\",\"OLEATE_CPD_p\",\n",
    "    \"Octadecadienoate_p\",\"LINOLENIC_ACID_p\",\"ARACHIDIC_ACID_p\",\"CPD_16709_p\",\"DOCOSANOATE_p\"]\n",
    "\n"
   ]
  },
  {
   "cell_type": "code",
   "execution_count": 3,
   "metadata": {},
   "outputs": [],
   "source": [
    "biomass = df.set_index(\"Unnamed: 0\")"
   ]
  },
  {
   "cell_type": "markdown",
   "metadata": {},
   "source": [
    "### Use biomass composition to generate biomass equations"
   ]
  },
  {
   "cell_type": "code",
   "execution_count": null,
   "metadata": {},
   "outputs": [],
   "source": []
  },
  {
   "cell_type": "markdown",
   "metadata": {},
   "source": [
    "### Run stem"
   ]
  },
  {
   "cell_type": "code",
   "execution_count": 4,
   "metadata": {},
   "outputs": [
    {
     "name": "stdout",
     "output_type": "stream",
     "text": [
      "L_ASPARTATE_ph + PROTON_e --> L_ASPARTATE_c + PROTON_c\n",
      "GLT_ph + PROTON_e --> GLT_c + PROTON_c\n",
      "PROTON_e + sSUCROSE_ph --> PROTON_c + sSUCROSE_b\n",
      "PROTON_e + TRP_ph --> PROTON_c + TRP_c\n",
      "L_ALPHA_ALANINE_ph + PROTON_e --> L_ALPHA_ALANINE_c + PROTON_c\n",
      "ILE_ph + PROTON_e --> ILE_c + PROTON_c\n",
      "PROTON_e + VAL_ph --> PROTON_c + VAL_c\n",
      "GLN_ph + PROTON_e --> GLN_c + PROTON_c\n",
      "GLC_ph + PROTON_e --> GLC_c + PROTON_c\n",
      "ASN_ph + PROTON_e --> ASN_c + PROTON_c\n",
      "CYS_ph + PROTON_e --> CYS_c + PROTON_c\n",
      "FRU_ph + PROTON_e --> FRU_c + PROTON_c\n",
      "HIS_ph + PROTON_e --> HIS_c + PROTON_c\n",
      "GLY_ph + PROTON_e --> GLY_c + PROTON_c\n",
      "LEU_ph + PROTON_e --> LEU_c + PROTON_c\n",
      "PHE_ph + PROTON_e --> PHE_c + PROTON_c\n",
      "PROTON_e + THR_ph --> PROTON_c + THR_c\n",
      "PROTON_e + SER_ph --> PROTON_c + SER_c\n",
      "4_AMINO_BUTYRATE_ph + PROTON_e --> 4_AMINO_BUTYRATE_c + PROTON_c\n",
      "PROTON_e + TYR_ph --> PROTON_c + TYR_c\n",
      "ARG_ph + PROTON_e --> ARG_c + PROTON_c\n",
      "MET_ph + PROTON_e --> MET_c + PROTON_c\n",
      "PROTON_e + PRO_ph --> PROTON_c + PRO_c\n",
      "LYS_ph + PROTON_e --> LYS_c + PROTON_c\n"
     ]
    }
   ],
   "source": [
    "temp  = model.copy()\n",
    "\n",
    "for met in temp.reactions.Phloem_output_tx.metabolites.keys():\n",
    "    met2 = met.copy()\n",
    "    if met.id==\"sSUCROSE_b\":\n",
    "        met2.id = met.id.replace(\"_b\",\"_ph\")\n",
    "    elif \"PROTON\" in met.id:\n",
    "        continue\n",
    "    else:\n",
    "        met2.id = met.id.replace(\"_c\",\"_ph\")\n",
    "    met2.compartment = \"ph\"\n",
    "    temp.add_metabolites(met2)\n",
    "    \n",
    "    rxn = Reaction(met2.id.replace(\"_ph\",\"_phloem_uptake\"),name=met2.id.replace(\"_ph\",\"_phloem_uptake\"))\n",
    "    rxn.add_metabolites({met2:-1,temp.metabolites.get_by_id(\"PROTON_e\"):-1,met:1,temp.metabolites.get_by_id(\"PROTON_c\"):1})\n",
    "    rxn.lower_bound = 0\n",
    "    rxn.upper_bound = 1000\n",
    "    temp.add_reaction(rxn)\n",
    "    \n",
    "    print(rxn.reaction)\n",
    "    "
   ]
  },
  {
   "cell_type": "code",
   "execution_count": 5,
   "metadata": {},
   "outputs": [],
   "source": [
    "def generateStemModel(model):\n",
    "    for met in model.reactions.Phloem_output_tx.metabolites.keys():\n",
    "        met2 = met.copy()\n",
    "        if met.id==\"sSUCROSE_b\":\n",
    "            met2.id = \"SUCROSE_ph\"\n",
    "            met = model.metabolites.get_by_id(\"SUCROSE_c\")\n",
    "        elif \"PROTON\" in met.id:\n",
    "            continue\n",
    "        else:\n",
    "            met2.id = met.id.replace(\"_c\",\"_ph\")\n",
    "        met2.compartment = \"ph\"\n",
    "        model.add_metabolites(met2)\n",
    "        \n",
    "        rxn = Reaction(met2.id+\"_exchange\")\n",
    "        rxn.add_metabolites({met2:1})\n",
    "        model.add_reaction(rxn)\n",
    "\n",
    "        rxn = Reaction(met2.id.replace(\"_ph\",\"_phloem_uptake\"),name=met2.id.replace(\"_ph\",\"_phloem_uptake\"))\n",
    "        rxn.add_metabolites({met2:-1,model.metabolites.get_by_id(\"PROTON_e\"):-1,\n",
    "                             met:1,model.metabolites.get_by_id(\"PROTON_c\"):1})\n",
    "        rxn.lower_bound = 0\n",
    "        rxn.upper_bound = 1000\n",
    "        model.add_reaction(rxn)\n",
    "\n",
    "        #print(rxn.reaction)\n",
    "    return model"
   ]
  },
  {
   "cell_type": "code",
   "execution_count": 6,
   "metadata": {
    "scrolled": true
   },
   "outputs": [
    {
     "name": "stdout",
     "output_type": "stream",
     "text": [
      "8.185775383471954\n",
      "Biomass flux =0.0\n"
     ]
    },
    {
     "name": "stderr",
     "output_type": "stream",
     "text": [
      "C:\\ProgramData\\Anaconda3\\lib\\site-packages\\cobra\\core\\metabolite.py:103: UserWarning: 40.42553191489362 is not an integer (in formula C40.42553191489362H77.72340425531915O13.829787234042554P2.127659574468085)\n",
      "  warn(\n",
      "C:\\ProgramData\\Anaconda3\\lib\\site-packages\\cobra\\core\\metabolite.py:103: UserWarning: 77.72340425531915 is not an integer (in formula C40.42553191489362H77.72340425531915O13.829787234042554P2.127659574468085)\n",
      "  warn(\n",
      "C:\\ProgramData\\Anaconda3\\lib\\site-packages\\cobra\\core\\metabolite.py:103: UserWarning: 13.829787234042554 is not an integer (in formula C40.42553191489362H77.72340425531915O13.829787234042554P2.127659574468085)\n",
      "  warn(\n",
      "C:\\ProgramData\\Anaconda3\\lib\\site-packages\\cobra\\core\\metabolite.py:103: UserWarning: 2.127659574468085 is not an integer (in formula C40.42553191489362H77.72340425531915O13.829787234042554P2.127659574468085)\n",
      "  warn(\n",
      "C:\\ProgramData\\Anaconda3\\lib\\site-packages\\cobra\\core\\metabolite.py:103: UserWarning: 17.612021999304808 is not an integer (in formula C17.612021999304808H33.180142488275095O2)\n",
      "  warn(\n",
      "C:\\ProgramData\\Anaconda3\\lib\\site-packages\\cobra\\core\\metabolite.py:103: UserWarning: 33.180142488275095 is not an integer (in formula C17.612021999304808H33.180142488275095O2)\n",
      "  warn(\n",
      "C:\\ProgramData\\Anaconda3\\lib\\site-packages\\cobra\\core\\metabolite.py:103: UserWarning: 38.61202199930481 is not an integer (in formula C38.61202199930481H68.1801424882751N7.0O17.0P2.9999999999999996S1.0)\n",
      "  warn(\n",
      "C:\\ProgramData\\Anaconda3\\lib\\site-packages\\cobra\\core\\metabolite.py:103: UserWarning: 68.1801424882751 is not an integer (in formula C38.61202199930481H68.1801424882751N7.0O17.0P2.9999999999999996S1.0)\n",
      "  warn(\n",
      "C:\\ProgramData\\Anaconda3\\lib\\site-packages\\cobra\\core\\metabolite.py:103: UserWarning: 2.9999999999999996 is not an integer (in formula C38.61202199930481H68.1801424882751N7.0O17.0P2.9999999999999996S1.0)\n",
      "  warn(\n",
      "C:\\ProgramData\\Anaconda3\\lib\\site-packages\\cobra\\core\\metabolite.py:103: UserWarning: 17.612021999304808 is not an integer (in formula C17.612021999304808H33.180142488275095O2.0)\n",
      "  warn(\n",
      "C:\\ProgramData\\Anaconda3\\lib\\site-packages\\cobra\\core\\metabolite.py:103: UserWarning: 33.180142488275095 is not an integer (in formula C17.612021999304808H33.180142488275095O2.0)\n",
      "  warn(\n"
     ]
    }
   ],
   "source": [
    "from cobra import flux_analysis\n",
    "stem_model = model.copy()\n",
    "\n",
    "k = \"stem\"\n",
    "\n",
    "stem_model = updateFAcomposition(stem_model,k,biomass)\n",
    "\n",
    "rxn = Reaction(\"Biomass_stem_tx\")\n",
    "for met in df[\"Unnamed: 0\"]:\n",
    "    if met in FA or float(df[df[\"Unnamed: 0\"]==met][k])==0:\n",
    "        continue\n",
    "    else:\n",
    "        rxn.add_metabolites({stem_model.metabolites.get_by_id(met):-1*float(df[df[\"Unnamed: 0\"]==met][k])})\n",
    "rxn.lower_bound = 0\n",
    "rxn.upper_bound = 1000\n",
    "stem_model.add_reaction(rxn)\n",
    "\n",
    "stem_model = generateStemModel(stem_model)\n",
    "\n",
    "for rxn in stem_model.reactions:\n",
    "    if rxn.id==\"SUCROSE_ph_exchange\":\n",
    "        rxn.lower_bound = 1\n",
    "        rxn.upper_bound = 1\n",
    "    elif \"ph_exchange\" in rxn.id:\n",
    "        rxn.lower_bound = 0\n",
    "        rxn.upper_bound = 0\n",
    "\n",
    "stem_model.reactions.GLC_tx.upper_bound = 0\n",
    "stem_model.reactions.GLC_tx.lower_bound = 0\n",
    "stem_model.reactions.Sucrose_tx.upper_bound = 0\n",
    "stem_model.reactions.Sucrose_tx.lower_bound = 0\n",
    "stem_model.reactions.Photon_tx.upper_bound = 0\n",
    "stem_model.reactions.Photon_tx.lower_bound = 0\n",
    "stem_model.reactions.Biomass_stem_tx.objective_coefficient=1\n",
    "\n",
    "flux_analysis.parsimonious.pfba(stem_model)\n",
    "print(\"Biomass flux =\"+str(stem_model.reactions.Biomass_stem_tx.flux))"
   ]
  },
  {
   "cell_type": "code",
   "execution_count": 7,
   "metadata": {},
   "outputs": [
    {
     "data": {
      "text/plain": [
       "12.0"
      ]
     },
     "execution_count": 7,
     "metadata": {},
     "output_type": "execute_result"
    }
   ],
   "source": [
    "stem_model.reactions.SUCROSE_ph_exchange.flux*12"
   ]
  },
  {
   "cell_type": "code",
   "execution_count": 8,
   "metadata": {},
   "outputs": [
    {
     "data": {
      "text/plain": [
       "0.0"
      ]
     },
     "execution_count": 8,
     "metadata": {},
     "output_type": "execute_result"
    }
   ],
   "source": [
    "stem_model.reactions.Biomass_stem_tx.flux*224.21594939662592"
   ]
  },
  {
   "cell_type": "code",
   "execution_count": 9,
   "metadata": {},
   "outputs": [
    {
     "data": {
      "text/plain": [
       "-1.6129495675924592"
      ]
     },
     "execution_count": 9,
     "metadata": {},
     "output_type": "execute_result"
    }
   ],
   "source": [
    "stem_model.reactions.CO2_tx.flux"
   ]
  },
  {
   "cell_type": "markdown",
   "metadata": {},
   "source": [
    "### Run root"
   ]
  },
  {
   "cell_type": "code",
   "execution_count": 10,
   "metadata": {},
   "outputs": [],
   "source": [
    "def generateRootModel(model):\n",
    "    for met in model.reactions.Phloem_output_tx.metabolites.keys():\n",
    "        met2 = met.copy()\n",
    "        if met.id==\"sSUCROSE_b\":\n",
    "            met2.id = \"SUCROSE_ph\"\n",
    "            met = model.metabolites.get_by_id(\"SUCROSE_c\")\n",
    "        elif \"PROTON\" in met.id:\n",
    "            continue\n",
    "        else:\n",
    "            met2.id = met.id.replace(\"_c\",\"_ph\")\n",
    "        met2.compartment = \"ph\"\n",
    "        model.add_metabolites(met2)\n",
    "        \n",
    "        rxn = Reaction(met2.id+\"_exchange\")\n",
    "        rxn.add_metabolites({met2:1})\n",
    "        model.add_reaction(rxn)\n",
    "\n",
    "        rxn = Reaction(met2.id.replace(\"_ph\",\"_phloem_uptake\"),name=met2.id.replace(\"_ph\",\"_phloem_uptake\"))\n",
    "        rxn.add_metabolites({met2:-1,model.metabolites.get_by_id(\"PROTON_e\"):-1,\n",
    "                             met:1,model.metabolites.get_by_id(\"PROTON_c\"):1})\n",
    "        rxn.lower_bound = 0\n",
    "        rxn.upper_bound = 1000\n",
    "        model.add_reaction(rxn)\n",
    "\n",
    "    #add xylem reactions\n",
    "    for met in [\"CAII\",\"MGII\",\"KI\",\"NITRATE\",\"SULFATE\",\"AMMONIUM\",\"WATER\",\"GLT\",\"L_ASPARTATE\",\"ASN\",\"GLN\"]:\n",
    "        met2 = model.metabolites.get_by_id(met+\"_c\").copy()\n",
    "        met2.id = met+\"_xy\"\n",
    "        met2.compartment = \"xy\"\n",
    "\n",
    "        rxn = Reaction(met+\"_exchange\")\n",
    "        rxn.add_metabolites({met2:-1})\n",
    "        rxn.lower_bound = 0\n",
    "        rxn.upper_bound = 1000\n",
    "        model.add_reaction(rxn)\n",
    "\n",
    "        rxn = Reaction(met+\"_xylem_export\")\n",
    "        rxn.add_metabolites({model.metabolites.get_by_id(met+\"_c\"):-1,met2:1})\n",
    "        model.add_reaction(rxn)\n",
    "        \n",
    "    #adding symbiont compartment\n",
    "    from cobra import io\n",
    "    rhizo = io.read_sbml_model(\"Data/iCC541.xml\")\n",
    "    for met in rhizo.metabolites:\n",
    "        met.compartment = met.compartment+\"_rhizo\"\n",
    "    rhizo.compartments={\"c_rhizo\":\"rhizobe cytosol\",\"e_rhizo\":\"rhizobe extracellular\"}\n",
    "    model = model+rhizo\n",
    "    \n",
    "#     rxn = Reaction(\"Sucrose_exchange_symbiont\")\n",
    "#     rxn.name = rxn.id.replace(\"_\",\" \")\n",
    "#     rxn.add_metabolites({model.metabolites.get_by_id(\"SUCROSE_c\"):-1,model.metabolites.get_by_id(\"cpd00076[e0]\"):1})\n",
    "#     rxn.lower_bound = -1000\n",
    "#     rxn.upper_bound = 1000\n",
    "#     model.add_reaction(rxn)\n",
    "    \n",
    "    rxn = Reaction(\"Alanine_exchange_symbiont\")\n",
    "    rxn.name = rxn.id.replace(\"_\",\" \")\n",
    "    rxn.add_metabolites({model.metabolites.get_by_id(\"L_ALPHA_ALANINE_c\"):-1,\n",
    "                         model.metabolites.get_by_id(\"ala__L[e]\"):1})\n",
    "    rxn.lower_bound = -1000\n",
    "    rxn.upper_bound = 1000\n",
    "    model.add_reaction(rxn)\n",
    "    \n",
    "    rxn = Reaction(\"Aspartate_exchange_symbiont\")\n",
    "    rxn.name = rxn.id.replace(\"_\",\" \")\n",
    "    rxn.add_metabolites({model.metabolites.get_by_id(\"L_ASPARTATE_c\"):-1,\n",
    "                         model.metabolites.get_by_id(\"asp__L[e]\"):1})\n",
    "    rxn.lower_bound = -1000\n",
    "    rxn.upper_bound = 1000\n",
    "    model.add_reaction(rxn)\n",
    "    \n",
    "    rxn = Reaction(\"Glutamate_exchange_symbiont\")\n",
    "    rxn.name = rxn.id.replace(\"_\",\" \")\n",
    "    rxn.add_metabolites({model.metabolites.get_by_id(\"GLT_c\"):-1,\n",
    "                         model.metabolites.get_by_id(\"glu__L[e]\"):1})\n",
    "    rxn.lower_bound = -1000\n",
    "    rxn.upper_bound = 1000\n",
    "    model.add_reaction(rxn)\n",
    "    \n",
    "    rxn = Reaction(\"Malate_exchange_symbiont\")\n",
    "    rxn.name = rxn.id.replace(\"_\",\" \")\n",
    "    rxn.add_metabolites({model.metabolites.get_by_id(\"MAL_c\"):-1,\n",
    "                         model.metabolites.get_by_id(\"mal__L[e]\"):1})\n",
    "    rxn.lower_bound = -1000\n",
    "    rxn.upper_bound = 1000\n",
    "    model.add_reaction(rxn)\n",
    "    \n",
    "    rxn = Reaction(\"Succinate_exchange_symbiont\")\n",
    "    rxn.name = rxn.id.replace(\"_\",\" \")\n",
    "    rxn.add_metabolites({model.metabolites.get_by_id(\"SUC_c\"):-1,\n",
    "                         model.metabolites.get_by_id(\"succ[e]\"):1})\n",
    "    rxn.lower_bound = -1000\n",
    "    rxn.upper_bound = 1000\n",
    "    model.add_reaction(rxn)\n",
    "    \n",
    "    rxn = Reaction(\"Ammonium_exchange_symbiont\")\n",
    "    rxn.name = rxn.id.replace(\"_\",\" \")\n",
    "    rxn.add_metabolites({model.metabolites.get_by_id(\"AMMONIUM_c\"):-1,\n",
    "                         model.metabolites.get_by_id(\"fixedNH3[e]\"):1})\n",
    "    rxn.lower_bound = -1000\n",
    "    rxn.upper_bound = 1000\n",
    "    model.add_reaction(rxn)\n",
    "    \n",
    "    return model"
   ]
  },
  {
   "cell_type": "code",
   "execution_count": 11,
   "metadata": {},
   "outputs": [
    {
     "name": "stdout",
     "output_type": "stream",
     "text": [
      "7.507823912632633\n"
     ]
    },
    {
     "name": "stderr",
     "output_type": "stream",
     "text": [
      "C:\\ProgramData\\Anaconda3\\lib\\site-packages\\cobra\\core\\metabolite.py:103: UserWarning: 17.700746860586182 is not an integer (in formula C17.700746860586182H33.30951059910088O2)\n",
      "  warn(\n",
      "C:\\ProgramData\\Anaconda3\\lib\\site-packages\\cobra\\core\\metabolite.py:103: UserWarning: 33.30951059910088 is not an integer (in formula C17.700746860586182H33.30951059910088O2)\n",
      "  warn(\n",
      "C:\\ProgramData\\Anaconda3\\lib\\site-packages\\cobra\\core\\metabolite.py:103: UserWarning: 38.70074686058618 is not an integer (in formula C38.70074686058618H68.30951059910089N7.0O17.0P2.9999999999999996S1.0)\n",
      "  warn(\n",
      "C:\\ProgramData\\Anaconda3\\lib\\site-packages\\cobra\\core\\metabolite.py:103: UserWarning: 68.30951059910089 is not an integer (in formula C38.70074686058618H68.30951059910089N7.0O17.0P2.9999999999999996S1.0)\n",
      "  warn(\n",
      "C:\\ProgramData\\Anaconda3\\lib\\site-packages\\cobra\\core\\metabolite.py:103: UserWarning: 2.9999999999999996 is not an integer (in formula C38.70074686058618H68.30951059910089N7.0O17.0P2.9999999999999996S1.0)\n",
      "  warn(\n",
      "C:\\ProgramData\\Anaconda3\\lib\\site-packages\\cobra\\core\\metabolite.py:103: UserWarning: 17.700746860586182 is not an integer (in formula C17.700746860586182H33.30951059910088O2.0)\n",
      "  warn(\n",
      "C:\\ProgramData\\Anaconda3\\lib\\site-packages\\cobra\\core\\metabolite.py:103: UserWarning: 33.30951059910088 is not an integer (in formula C17.700746860586182H33.30951059910088O2.0)\n",
      "  warn(\n"
     ]
    },
    {
     "name": "stdout",
     "output_type": "stream",
     "text": [
      "Biomass flux = 0.008274607584900787\n"
     ]
    }
   ],
   "source": [
    "from cobra import flux_analysis\n",
    "root_model = model.copy()\n",
    "\n",
    "k = \"root\"\n",
    "root_model = updateFAcomposition(root_model,k,biomass)\n",
    "\n",
    "rxn = Reaction(\"Biomass_root_tx\")\n",
    "for met in df[\"Unnamed: 0\"]:\n",
    "    if met in FA or float(df[df[\"Unnamed: 0\"]==met][k])==0:\n",
    "        continue\n",
    "    rxn.add_metabolites({root_model.metabolites.get_by_id(met):-1*float(df[df[\"Unnamed: 0\"]==met][k])})\n",
    "rxn.lower_bound = 0\n",
    "rxn.upper_bound = 1000\n",
    "root_model.add_reaction(rxn)\n",
    "\n",
    "root_model = generateRootModel(root_model)\n",
    "\n",
    "root_model.reactions.GLC_tx.upper_bound = 0\n",
    "root_model.reactions.GLC_tx.lower_bound = 0\n",
    "root_model.reactions.Sucrose_tx.upper_bound = 0\n",
    "root_model.reactions.Sucrose_tx.lower_bound = 0\n",
    "root_model.reactions.Photon_tx.upper_bound = 0\n",
    "root_model.reactions.Photon_tx.lower_bound = 0\n",
    "\n",
    "\n",
    "root_model.reactions.Nitrate_tx.upper_bound = 0\n",
    "root_model.reactions.Nitrate_tx.lower_bound = 0\n",
    "root_model.reactions.NH4_tx.upper_bound = 0\n",
    "root_model.reactions.NH4_tx.lower_bound = 0\n",
    " \n",
    "    \n",
    "for rxn in root_model.reactions.query(\"_phloem_\"):\n",
    "    if \"SUCROSE\" not in rxn.id :\n",
    "        rxn.lower_bound = 0\n",
    "        rxn.upper_bound = 0\n",
    "        \n",
    "for rxn in [\"EX_succinate\",\"EX_homocitrate\",\"EX_alaL\",\n",
    "            \"EX_gluL\",\"EX_inost\",\"EX_aspL\",\"EX_malL\",\n",
    "            \"EX_fixedNH3\",\"r_0534\",\"r_0544\",\"EX_nh3\"]:\n",
    "    root_model.reactions.get_by_id(rxn).lower_bound = 0\n",
    "    root_model.reactions.get_by_id(rxn).upper_bound = 0\n",
    "\n",
    "for rxn in root_model.reactions:\n",
    "    if rxn.lower_bound == -1000:\n",
    "        rxn.lower_bound = -3000\n",
    "    if rxn.upper_bound == 1000:\n",
    "        rxn.upper_bound = 3000\n",
    "    rxn.objective_coefficient=0\n",
    "root_model.reactions.Biomass_root_tx.objective_coefficient=1\n",
    "flux_analysis.parsimonious.pfba(root_model)\n",
    "print(\"Biomass flux = \"+str(root_model.reactions.Biomass_root_tx.flux))"
   ]
  },
  {
   "cell_type": "code",
   "execution_count": 12,
   "metadata": {},
   "outputs": [
    {
     "name": "stdout",
     "output_type": "stream",
     "text": [
      "r_0277\t0.2256000000000001\t16.0 ATP + 8.0 ferredoxin (reduced) 2[4Fe-4S] + 16.0 H2O + nitrogen --> 16.0 ADP + 8.0 ferredoxin (oxidized) 2[4Fe-4S] + 2.0 fixedNH3 + H2 + 8.0 H+ + 16.0 orthophosphate\n",
      "r_0519\t-0.2256000000000001\tfixedNH3 --> fixedNH3\n"
     ]
    }
   ],
   "source": [
    "met = root_model.metabolites.get_by_id(\"fixedNH3[c]\")\n",
    "for rxn in met.reactions:\n",
    "    if round(rxn.flux,7)!=0:\n",
    "        eqn = rxn.reaction\n",
    "        for met2 in rxn.metabolites.keys():\n",
    "            eqn = eqn.replace(met2.id,met2.name)\n",
    "        #print(rxn.id+\"\\t\"+str(rxn.metabolites[met]*rxn.flux))\n",
    "        print(rxn.id+\"\\t\"+str(rxn.metabolites[met]*rxn.flux)+\"\\t\"+eqn)\n",
    "        #print(rxn.metabolites)\n",
    "        #print(eqn+\"\\t\"+str(rxn.metabolites[met]))\n",
    "        #print(eqn+\"\\t\"+str(rxn.flux))\n",
    "        #print(\"------------------\")"
   ]
  },
  {
   "cell_type": "code",
   "execution_count": 13,
   "metadata": {},
   "outputs": [
    {
     "name": "stdout",
     "output_type": "stream",
     "text": [
      "Malate_exchange_symbiont\t0.4952000000000003\tMAL <=> L-Malate\n",
      "MAL_c <=> mal__L[e]\n",
      "Ammonium_exchange_symbiont\t-0.2256000000000001\tAMMONIUM <=> fixedNH3\n",
      "AMMONIUM_c <=> fixedNH3[e]\n"
     ]
    }
   ],
   "source": [
    "#met = root_model.metabolites.get_by_id(\"cpd00018[c0]\")\n",
    "for rxn in root_model.reactions.query(\"exchange_\"):\n",
    "    if round(rxn.flux,7)!=0:\n",
    "        eqn = rxn.reaction\n",
    "        for met2 in rxn.metabolites.keys():\n",
    "            eqn = eqn.replace(met2.id,met2.name)\n",
    "        #print(rxn.id+\"\\t\"+str(rxn.metabolites[met]*rxn.flux))\n",
    "        print(rxn.id+\"\\t\"+str(rxn.flux)+\"\\t\"+eqn)\n",
    "        print(rxn.reaction)\n",
    "        #print(eqn+\"\\t\"+str(rxn.metabolites[met]))\n",
    "        #print(eqn+\"\\t\"+str(rxn.flux))\n",
    "        #print(\"------------------\")"
   ]
  },
  {
   "cell_type": "code",
   "execution_count": 14,
   "metadata": {},
   "outputs": [
    {
     "data": {
      "text/plain": [
       "1.6572272612522274"
      ]
     },
     "execution_count": 14,
     "metadata": {},
     "output_type": "execute_result"
    }
   ],
   "source": [
    "root_model.reactions.Biomass_root_tx.flux*200.27865300540384"
   ]
  },
  {
   "cell_type": "code",
   "execution_count": 15,
   "metadata": {},
   "outputs": [
    {
     "data": {
      "text/plain": [
       "1.9841221912312952"
      ]
     },
     "execution_count": 15,
     "metadata": {},
     "output_type": "execute_result"
    }
   ],
   "source": [
    "abs(root_model.reactions.CO2_tx.flux)+root_model.reactions.EX_co2.flux"
   ]
  },
  {
   "cell_type": "code",
   "execution_count": 16,
   "metadata": {},
   "outputs": [
    {
     "data": {
      "text/plain": [
       "3.641349390478529"
      ]
     },
     "execution_count": 16,
     "metadata": {},
     "output_type": "execute_result"
    }
   ],
   "source": [
    "root_model.reactions.SUCROSE_ph_exchange.flux*12"
   ]
  },
  {
   "cell_type": "markdown",
   "metadata": {},
   "source": [
    "### Run seed"
   ]
  },
  {
   "cell_type": "code",
   "execution_count": 17,
   "metadata": {},
   "outputs": [],
   "source": [
    "def generateSeedModel(model):\n",
    "    for met in model.reactions.Phloem_output_tx.metabolites.keys():\n",
    "        met2 = met.copy()\n",
    "        if met.id==\"sSUCROSE_b\":\n",
    "            met2.id = \"SUCROSE_ph\"\n",
    "            met = model.metabolites.get_by_id(\"SUCROSE_c\")\n",
    "        elif \"PROTON\" in met.id:\n",
    "            continue\n",
    "        else:\n",
    "            met2.id = met.id.replace(\"_c\",\"_ph\")\n",
    "        met2.compartment = \"ph\"\n",
    "        model.add_metabolites(met2)\n",
    "        \n",
    "        rxn = Reaction(met2.id+\"_exchange\")\n",
    "        rxn.add_metabolites({met2:1})\n",
    "        model.add_reaction(rxn)\n",
    "\n",
    "        rxn = Reaction(met2.id.replace(\"_ph\",\"_phloem_uptake\"),name=met2.id.replace(\"_ph\",\"_phloem_uptake\"))\n",
    "        rxn.add_metabolites({met2:-1,model.metabolites.get_by_id(\"PROTON_e\"):-1,\n",
    "                             met:1,model.metabolites.get_by_id(\"PROTON_c\"):1})\n",
    "        rxn.lower_bound = 0\n",
    "        rxn.upper_bound = 1000\n",
    "        model.add_reaction(rxn)\n",
    "\n",
    "        #print(rxn.reaction)\n",
    "    return model"
   ]
  },
  {
   "cell_type": "code",
   "execution_count": 18,
   "metadata": {},
   "outputs": [
    {
     "name": "stdout",
     "output_type": "stream",
     "text": [
      "83.96167973352584\n",
      "Biomass flux =0.0\n"
     ]
    },
    {
     "name": "stderr",
     "output_type": "stream",
     "text": [
      "C:\\ProgramData\\Anaconda3\\lib\\site-packages\\cobra\\core\\metabolite.py:103: UserWarning: 17.72422692329163 is not an integer (in formula C17.72422692329163H31.505799404812077O2)\n",
      "  warn(\n",
      "C:\\ProgramData\\Anaconda3\\lib\\site-packages\\cobra\\core\\metabolite.py:103: UserWarning: 31.505799404812077 is not an integer (in formula C17.72422692329163H31.505799404812077O2)\n",
      "  warn(\n",
      "C:\\ProgramData\\Anaconda3\\lib\\site-packages\\cobra\\core\\metabolite.py:103: UserWarning: 38.72422692329163 is not an integer (in formula C38.72422692329163H66.50579940481208N7.0O17.0P2.9999999999999996S1.0)\n",
      "  warn(\n",
      "C:\\ProgramData\\Anaconda3\\lib\\site-packages\\cobra\\core\\metabolite.py:103: UserWarning: 66.50579940481208 is not an integer (in formula C38.72422692329163H66.50579940481208N7.0O17.0P2.9999999999999996S1.0)\n",
      "  warn(\n",
      "C:\\ProgramData\\Anaconda3\\lib\\site-packages\\cobra\\core\\metabolite.py:103: UserWarning: 2.9999999999999996 is not an integer (in formula C38.72422692329163H66.50579940481208N7.0O17.0P2.9999999999999996S1.0)\n",
      "  warn(\n",
      "C:\\ProgramData\\Anaconda3\\lib\\site-packages\\cobra\\core\\metabolite.py:103: UserWarning: 17.72422692329163 is not an integer (in formula C17.72422692329163H31.505799404812077O2.0)\n",
      "  warn(\n",
      "C:\\ProgramData\\Anaconda3\\lib\\site-packages\\cobra\\core\\metabolite.py:103: UserWarning: 31.505799404812077 is not an integer (in formula C17.72422692329163H31.505799404812077O2.0)\n",
      "  warn(\n"
     ]
    }
   ],
   "source": [
    "from cobra import flux_analysis\n",
    "seed_model = model.copy()\n",
    "\n",
    "seed_model = generateSeedModel(seed_model)\n",
    "\n",
    "k = \"seed\"\n",
    "seed_model = updateFAcomposition(seed_model,k,biomass)\n",
    "\n",
    "\n",
    "for rxn in seed_model.reactions:\n",
    "    if rxn.id==\"SUCROSE_ph_exchange\":\n",
    "        rxn.lower_bound = 1\n",
    "        rxn.upper_bound = 1\n",
    "    elif \"ph_exchange\" in rxn.id:\n",
    "        rxn.lower_bound = 0\n",
    "        rxn.upper_bound = 0\n",
    "\n",
    "\n",
    "\n",
    "rxn = Reaction(\"Biomass_seed_tx\")\n",
    "for met in df[\"Unnamed: 0\"]:\n",
    "    if met in FA or float(df[df[\"Unnamed: 0\"]==met][k])==0:\n",
    "        continue\n",
    "    rxn.add_metabolites({seed_model.metabolites.get_by_id(met):-1*float(df[df[\"Unnamed: 0\"]==met][k])})\n",
    "rxn.lower_bound = 0\n",
    "rxn.upper_bound = 1000\n",
    "seed_model.add_reaction(rxn)\n",
    "\n",
    "seed_model.reactions.GLC_tx.upper_bound = 0\n",
    "seed_model.reactions.GLC_tx.lower_bound = 0\n",
    "seed_model.reactions.Sucrose_tx.upper_bound = 0\n",
    "seed_model.reactions.Sucrose_tx.lower_bound = 0\n",
    "seed_model.reactions.Photon_tx.upper_bound = 0\n",
    "seed_model.reactions.Photon_tx.lower_bound = 0\n",
    "seed_model.reactions.Biomass_seed_tx.objective_coefficient=1\n",
    "sol=flux_analysis.parsimonious.pfba(seed_model)\n",
    "print(\"Biomass flux =\"+str(seed_model.reactions.Biomass_seed_tx.flux))\n",
    "\n",
    "    \n",
    "    "
   ]
  },
  {
   "cell_type": "code",
   "execution_count": 19,
   "metadata": {},
   "outputs": [
    {
     "data": {
      "text/plain": [
       "0.0"
      ]
     },
     "execution_count": 19,
     "metadata": {},
     "output_type": "execute_result"
    }
   ],
   "source": [
    "seed_model.reactions.Biomass_seed_tx.flux*796.2867713906156"
   ]
  },
  {
   "cell_type": "code",
   "execution_count": 20,
   "metadata": {},
   "outputs": [
    {
     "data": {
      "text/plain": [
       "12.0"
      ]
     },
     "execution_count": 20,
     "metadata": {},
     "output_type": "execute_result"
    }
   ],
   "source": [
    "seed_model.reactions.SUCROSE_ph_exchange.flux*12"
   ]
  },
  {
   "cell_type": "code",
   "execution_count": 21,
   "metadata": {},
   "outputs": [
    {
     "data": {
      "text/plain": [
       "-1.61294956759248"
      ]
     },
     "execution_count": 21,
     "metadata": {},
     "output_type": "execute_result"
    }
   ],
   "source": [
    "seed_model.reactions.CO2_tx.flux"
   ]
  },
  {
   "cell_type": "markdown",
   "metadata": {},
   "source": [
    "### Generate diel leaf model\n",
    "\n"
   ]
  },
  {
   "cell_type": "code",
   "execution_count": 37,
   "metadata": {},
   "outputs": [
    {
     "name": "stdout",
     "output_type": "stream",
     "text": [
      "32.38817197039607\n",
      "Biomass flux =0.0\n"
     ]
    },
    {
     "name": "stderr",
     "output_type": "stream",
     "text": [
      "C:\\ProgramData\\Anaconda3\\lib\\site-packages\\cobra\\core\\metabolite.py:103: UserWarning: 40.42553191489362 is not an integer (in formula C40.42553191489362H77.72340425531915O13.829787234042554P2.127659574468085)\n",
      "  warn(\n",
      "C:\\ProgramData\\Anaconda3\\lib\\site-packages\\cobra\\core\\metabolite.py:103: UserWarning: 77.72340425531915 is not an integer (in formula C40.42553191489362H77.72340425531915O13.829787234042554P2.127659574468085)\n",
      "  warn(\n",
      "C:\\ProgramData\\Anaconda3\\lib\\site-packages\\cobra\\core\\metabolite.py:103: UserWarning: 13.829787234042554 is not an integer (in formula C40.42553191489362H77.72340425531915O13.829787234042554P2.127659574468085)\n",
      "  warn(\n",
      "C:\\ProgramData\\Anaconda3\\lib\\site-packages\\cobra\\core\\metabolite.py:103: UserWarning: 2.127659574468085 is not an integer (in formula C40.42553191489362H77.72340425531915O13.829787234042554P2.127659574468085)\n",
      "  warn(\n",
      "C:\\ProgramData\\Anaconda3\\lib\\site-packages\\cobra\\core\\metabolite.py:103: UserWarning: 17.75575928966914 is not an integer (in formula C17.75575928966914H32.86279801549386O2)\n",
      "  warn(\n",
      "C:\\ProgramData\\Anaconda3\\lib\\site-packages\\cobra\\core\\metabolite.py:103: UserWarning: 32.86279801549386 is not an integer (in formula C17.75575928966914H32.86279801549386O2)\n",
      "  warn(\n",
      "C:\\ProgramData\\Anaconda3\\lib\\site-packages\\cobra\\core\\metabolite.py:103: UserWarning: 38.75575928966914 is not an integer (in formula C38.75575928966914H67.86279801549387N7.0O17.0P2.9999999999999996S1.0)\n",
      "  warn(\n",
      "C:\\ProgramData\\Anaconda3\\lib\\site-packages\\cobra\\core\\metabolite.py:103: UserWarning: 67.86279801549387 is not an integer (in formula C38.75575928966914H67.86279801549387N7.0O17.0P2.9999999999999996S1.0)\n",
      "  warn(\n",
      "C:\\ProgramData\\Anaconda3\\lib\\site-packages\\cobra\\core\\metabolite.py:103: UserWarning: 2.9999999999999996 is not an integer (in formula C38.75575928966914H67.86279801549387N7.0O17.0P2.9999999999999996S1.0)\n",
      "  warn(\n",
      "C:\\ProgramData\\Anaconda3\\lib\\site-packages\\cobra\\core\\metabolite.py:103: UserWarning: 17.75575928966914 is not an integer (in formula C17.75575928966914H32.86279801549386O2.0)\n",
      "  warn(\n",
      "C:\\ProgramData\\Anaconda3\\lib\\site-packages\\cobra\\core\\metabolite.py:103: UserWarning: 32.86279801549386 is not an integer (in formula C17.75575928966914H32.86279801549386O2.0)\n",
      "  warn(\n"
     ]
    }
   ],
   "source": [
    "from cobra import flux_analysis\n",
    "leaf_model = model.copy()\n",
    "\n",
    "k = \"leaf\"\n",
    "leaf_model = updateFAcomposition(leaf_model,k,biomass)\n",
    "\n",
    "rxn = Reaction(\"Biomass_leaf_tx\")\n",
    "for met in df[\"Unnamed: 0\"]:\n",
    "    if met in FA or float(df[df[\"Unnamed: 0\"]==met][k])==0:\n",
    "        continue\n",
    "    rxn.add_metabolites({leaf_model.metabolites.get_by_id(met):-1*float(df[df[\"Unnamed: 0\"]==met][k])})\n",
    "\n",
    "rxn.lower_bound = 0\n",
    "rxn.upper_bound = 1000\n",
    "leaf_model.add_reaction(rxn)\n",
    "\n",
    "leaf_model.reactions.GLC_tx.upper_bound = 0\n",
    "leaf_model.reactions.GLC_tx.lower_bound = 0\n",
    "leaf_model.reactions.Sucrose_tx.upper_bound = 0\n",
    "leaf_model.reactions.Sucrose_tx.lower_bound = 0\n",
    "leaf_model.reactions.Photon_tx.upper_bound = 0\n",
    "leaf_model.reactions.Photon_tx.lower_bound = 0\n",
    "leaf_model.reactions.Biomass_leaf_tx.objective_coefficient=1\n",
    "sol=flux_analysis.parsimonious.pfba(leaf_model)\n",
    "print(\"Biomass flux =\"+str(leaf_model.reactions.Biomass_leaf_tx.flux))\n",
    "\n",
    "    \n"
   ]
  },
  {
   "cell_type": "code",
   "execution_count": 38,
   "metadata": {
    "scrolled": true
   },
   "outputs": [
    {
     "name": "stdout",
     "output_type": "stream",
     "text": [
      "0.5 CIT_v1 + 0.5 aCIT_v1 <=> 0.5 CIT_v2 + 0.5 aCIT_v2\n",
      "bHIS_v1 --> bHIS_v2\n",
      "0.7 MAL_v1 + 0.3 aMAL_v1 <=> 0.7 MAL_v2 + 0.3 aMAL_v2\n"
     ]
    }
   ],
   "source": [
    "from sweetlovegroup.transform import setupC3DielModel\n",
    "leaf_model = setupC3DielModel(leaf_model)"
   ]
  },
  {
   "cell_type": "code",
   "execution_count": 39,
   "metadata": {},
   "outputs": [
    {
     "name": "stdout",
     "output_type": "stream",
     "text": [
      "Phloem export rate =3.550447430976058\n"
     ]
    }
   ],
   "source": [
    "leaf_model.reactions.Phloem_output_tx1.objective_coefficient = 0\n",
    "leaf_model.reactions.Phloem_output_tx2.objective_coefficient = 0\n",
    "\n",
    "leaf_model.reactions.Photon_tx1.upper_bound = 500\n",
    "leaf_model.reactions.Photon_tx1.lower_bound = 500\n",
    "\n",
    "leaf_model.reactions.Biomass_leaf_tx1.objective_coefficient = 0\n",
    "leaf_model.reactions.Biomass_leaf_tx1.upper_bound=0\n",
    "leaf_model.reactions.Biomass_leaf_tx1.lower_bound=0\n",
    "leaf_model.reactions.Biomass_leaf_tx2.upper_bound=0\n",
    "leaf_model.reactions.Biomass_leaf_tx2.lower_bound=0\n",
    "leaf_model.reactions.AraCore_Biomass_tx1.upper_bound=0\n",
    "leaf_model.reactions.AraCore_Biomass_tx1.lower_bound=0\n",
    "leaf_model.reactions.AraCore_Biomass_tx2.upper_bound=0\n",
    "leaf_model.reactions.AraCore_Biomass_tx2.lower_bound=0\n",
    "\n",
    "\n",
    "from cobra.flux_analysis import pfba\n",
    "sol = pfba(leaf_model)\n",
    "print(\"Phloem export rate =\"+str(sol.fluxes[\"diel_biomass\"]*4))"
   ]
  },
  {
   "cell_type": "code",
   "execution_count": 40,
   "metadata": {},
   "outputs": [
    {
     "name": "stdout",
     "output_type": "stream",
     "text": [
      "Biomass accumulation rate rate =0.04388670772121762\n"
     ]
    }
   ],
   "source": [
    "growing_leaf_model = leaf_model.copy()\n",
    "\n",
    "growing_leaf_model.reactions.Biomass_leaf_tx1.upper_bound=1000\n",
    "growing_leaf_model.reactions.Biomass_leaf_tx2.upper_bound=1000\n",
    "\n",
    "met1=Metabolite(\"Leaf_biomass1\")\n",
    "rxn = growing_leaf_model.reactions.Biomass_leaf_tx1\n",
    "rxn.add_metabolites({met1:1})\n",
    "\n",
    "met2=Metabolite(\"Leaf_biomass2\")\n",
    "rxn = growing_leaf_model.reactions.Biomass_leaf_tx2\n",
    "rxn.add_metabolites({met2:1})\n",
    "\n",
    "growing_leaf_model.reactions.diel_biomass.add_metabolites({growing_leaf_model.metabolites.X_Phloem_contribution_t1:3,\n",
    "                                                           growing_leaf_model.metabolites.X_Phloem_contribution_t2:1,\n",
    "                                                           met1:-0.75, met2:-0.25})\n",
    "\n",
    "\n",
    "from cobra.flux_analysis import pfba\n",
    "sol = pfba(growing_leaf_model)\n",
    "print(\"Biomass accumulation rate rate =\"+str(sol.fluxes[\"diel_biomass\"]))"
   ]
  }
 ],
 "metadata": {
  "kernelspec": {
   "display_name": "Python 3",
   "language": "python",
   "name": "python3"
  },
  "language_info": {
   "codemirror_mode": {
    "name": "ipython",
    "version": 3
   },
   "file_extension": ".py",
   "mimetype": "text/x-python",
   "name": "python",
   "nbconvert_exporter": "python",
   "pygments_lexer": "ipython3",
   "version": "3.8.3"
  }
 },
 "nbformat": 4,
 "nbformat_minor": 2
}
