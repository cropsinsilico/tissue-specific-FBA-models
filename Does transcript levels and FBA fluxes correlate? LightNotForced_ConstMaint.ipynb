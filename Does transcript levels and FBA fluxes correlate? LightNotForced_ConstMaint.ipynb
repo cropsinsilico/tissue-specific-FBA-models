{
 "cells": [
  {
   "cell_type": "markdown",
   "metadata": {},
   "source": [
    "# Does any transcript levels correlate with FBA-predicted metabolic fluxes?\n",
    "\n",
    "## Introduction\n",
    "\n",
    "Transcriptomics dataset collected from multiple scenarios and published in [Kannan et al 2019](https://doi.org/10.1093/insilicoplants/diz008) was provided from UoI-UC. FBA was used to predict metabolic fluxes under different scenarios and then transcript levels are compared to flux."
   ]
  },
  {
   "cell_type": "markdown",
   "metadata": {},
   "source": [
    "## Processing transcript data"
   ]
  },
  {
   "cell_type": "code",
   "execution_count": 1,
   "metadata": {},
   "outputs": [
    {
     "name": "stderr",
     "output_type": "stream",
     "text": [
      "/home/sanu/.local/lib/python2.7/site-packages/IPython/core/interactiveshell.py:2714: DtypeWarning: Columns (0,2,3,13,14) have mixed types. Specify dtype option on import or set low_memory=False.\n",
      "  interactivity=interactivity, compiler=compiler, result=result)\n"
     ]
    }
   ],
   "source": [
    "import pandas as pd\n",
    "df = pd.read_csv(\"/home/sanu/Downloads/gmax_leaf_CO2_normExprn_1.txt\",sep=\"\\t\")"
   ]
  },
  {
   "cell_type": "code",
   "execution_count": 2,
   "metadata": {},
   "outputs": [
    {
     "data": {
      "text/plain": [
       "229"
      ]
     },
     "execution_count": 2,
     "metadata": {},
     "output_type": "execute_result"
    }
   ],
   "source": [
    "len(df.columns) -17"
   ]
  },
  {
   "cell_type": "markdown",
   "metadata": {},
   "source": [
    "### Seperating out different studies\n",
    "\n",
    "Data on light intensity (PPFD) during plant growth was avialable for 5 (of 8) studies. When \\[CO2\\] is not avilable, ambient levels were assumed. Where day-length is not mentioned, as assumption that daylength is 12h was assumed. In the case of studies involving biotic and abiotic treatments (other than high \\[CO2\\] treatments), only the WT/control data was used in this analysis."
   ]
  },
  {
   "cell_type": "code",
   "execution_count": 3,
   "metadata": {},
   "outputs": [],
   "source": [
    "amb_list = list(df.columns[0:17])\n",
    "ele_list = list(df.columns[0:17])\n",
    "for x in df.columns:\n",
    "    if \"Amb\" in x:\n",
    "        amb_list.append(x)\n",
    "    elif \"Ele\" in x:\n",
    "        ele_list.append(x)\n",
    "    else:\n",
    "        continue\n",
    "\n",
    "budRemove_list = list(df.columns[0:17])+[\"GSM569808.CEL\",\"GSM569809.CEL\",\"GSM569810.CEL\",\n",
    "                                         \"GSM569811.CEL\",\"GSM569812.CEL\",\"GSM569813.CEL\",\n",
    "                                         \"GSM569814.CEL\"]\n",
    "heatShock_list = list(df.columns[0:17])+[\"GSM643115.CEL\",\"GSM643116.CEL\",\"GSM643117.CEL\",\"GSM643118.CEL\"]\n",
    "mycInfect_list = list(df.columns[0:17])+[\"GSM1088939_Schaar_19_wt_c1_S.CEL\",\n",
    "                                         \"GSM1088940_Schaar_20_wt_c2_S.CEL\",\n",
    "                                         \"GSM1088954_Schaar_25_nts_c1_S.CEL\",\n",
    "                                         \"GSM1088955_Schaar_26_nts_c2_S.CEL\",\n",
    "                                         \"GSM1088956_Schaar_27_nts_c3_S.CEL\"]"
   ]
  },
  {
   "cell_type": "code",
   "execution_count": 4,
   "metadata": {},
   "outputs": [],
   "source": [
    "df_amb = df[amb_list]\n",
    "df_ele = df[ele_list]\n",
    "df_budRemove = df[budRemove_list]\n",
    "df_heatShock = df[heatShock_list]\n",
    "df_mycInfect = df[mycInfect_list]"
   ]
  },
  {
   "cell_type": "markdown",
   "metadata": {},
   "source": [
    "## Set up leaf model and add gene-protein-reaction (GPR) associations from PlantCyc"
   ]
  },
  {
   "cell_type": "code",
   "execution_count": 5,
   "metadata": {},
   "outputs": [],
   "source": [
    "from cobra import io\n",
    "from cobra.core import Metabolite\n",
    "from cobra import flux_analysis\n",
    "from IPython import display\n",
    "import logging\n",
    "logging.basicConfig()\n",
    "logger = logging.getLogger('logger')\n",
    "\n",
    "#import sbml file\n",
    "fname = \"/home/sanu/Documents/Scripts/git/plantcoremetabolism-model/PlantCoreMetabolism_v1_3_0.xml\"\n",
    "model = io.sbml.read_sbml_model(fname)\n",
    "display.clear_output()\n",
    "\n",
    "from sweetlovegroup.transform import fixModelCompatibilityIssueCobra015\n",
    "model = fixModelCompatibilityIssueCobra015(model,fname)\n"
   ]
  },
  {
   "cell_type": "code",
   "execution_count": 6,
   "metadata": {},
   "outputs": [
    {
     "data": {
      "text/plain": [
       "868"
      ]
     },
     "execution_count": 6,
     "metadata": {},
     "output_type": "execute_result"
    }
   ],
   "source": [
    "len(model.reactions)"
   ]
  },
  {
   "cell_type": "code",
   "execution_count": 7,
   "metadata": {},
   "outputs": [
    {
     "data": {
      "text/plain": [
       "829"
      ]
     },
     "execution_count": 7,
     "metadata": {},
     "output_type": "execute_result"
    }
   ],
   "source": [
    "len(model.metabolites)"
   ]
  },
  {
   "cell_type": "code",
   "execution_count": 8,
   "metadata": {},
   "outputs": [],
   "source": [
    "import pythoncyc\n",
    "from Functions import *\n",
    "\n",
    "soy = pythoncyc.select_organism(\"soy\")\n"
   ]
  },
  {
   "cell_type": "code",
   "execution_count": 9,
   "metadata": {},
   "outputs": [
    {
     "name": "stdout",
     "output_type": "stream",
     "text": [
      "--------------\n",
      "This list of metabolic reactions are ignored\n",
      "['RXN_9650_p', '2_KETO_ADIPATE_DEHYDROG_RXN_m', 'Phytol_biosynthesis_p', 'CYSTEINE_AMINOTRANSFERASE_RXN_m', 'GLYCINE_TRNA_LIGASE_RXN_c', 'RXN66_1_c', 'RXN_9648_p', 'RXN-9651', 'Plastidial_ATP_Synthase_p', 'GGPP_biosynthesis_p', 'RXN_9653_p', 'lycopene_biosynthesis_p', 'RXN_2141_p', 'SUCCINYL_COA_HYDROLASE_RXN_m', 'PROTON_ATPase_c', 'MDA_Fd_Ascorbate_p', 'MercaptoPyruvateSulfurtransferase_m', 'Phytol_degradation_p', 'RXN_9652_p', 'A_B_oxidation_x', 'unlProtHYPO_c', 'Mitochondrial_ATP_Synthase_m', 'IPP_biosynthesis_c', 'Mehler_Reaction_p', 'Beta_Oxidation_x', 'HMBPP_synthesis_p', 'OROTATE_REDUCTASE_NADH_RXN_p', 'Ferredoxin_Plastoquinone_Reductase_p', 'RXN_9651_p', 'NADPH_Dehydrogenase_p', 'Plastoquinol_Oxidase_p', 'SUCCINATE_COA_LIGASE_GDP_FORMING_RXN_m', 'RXN_1781_v', 'PREPHENATE_DEHYDROGENASE_NADP_RXN_p', 'PREPHENATEDEHYDROG_RXN_p', 'MALEYLACETOACETATE_ISOMERASE_RXN_c', 'RXN_9654_p', 'LCYSDESULF_RXN_c', 'RXN_9958_NAD_m', 'HEXOKINASE_RXN_MANNOSE_c', 'PYRUVDEH_RXN_p', 'PYRUVDEH_RXN_m']\n",
      "--------------\n",
      "palmitoleoyl_ACP_desaturase_p\n",
      "hexadecadienoate_biosynthesis_p\n",
      "hexadecatrienoate_biosynthesis_p\n",
      "hexadecenoate_biosynthesis_p\n",
      "palmitoyl_ACP_desaturase_p\n",
      "Octadecadienoyl_ACP_hydrolase_p\n",
      "Octadecatrienoyl_ACP_hydrolase_p\n",
      "RXN1G_445_p\n",
      "6PGLUCONDEHYDROG_RXN_c\n",
      "gadoleic_acid_biosynthesis_p\n",
      "Arachidoyl_ACP_desaturase_p\n",
      "arachidate_biosynthesis_p\n",
      "RXN_12486_c\n",
      "6PGLUCONDEHYDROG_RXN_p\n",
      "hexadecadienoate_ACP_desaturase_p\n",
      "docosanoate_biosynthesis_p\n",
      "RXN490_3650_p\n",
      "LPG_biosynthesis_c\n",
      "RXN_6884_m\n",
      "Oleoyl_ACP_desaturase_p\n",
      "RXN_1826_p\n",
      "Octadecadienoyl_ACP_desaturase_p\n",
      "RXN1G_368_p\n"
     ]
    }
   ],
   "source": [
    "model = addGPR2Models(model,soy)"
   ]
  },
  {
   "cell_type": "markdown",
   "metadata": {},
   "source": [
    "## Modelling fluxes under different scenarios\n",
    "\n",
    "Create leaf model"
   ]
  },
  {
   "cell_type": "code",
   "execution_count": 10,
   "metadata": {},
   "outputs": [],
   "source": [
    "########################################################\n",
    "#This function was used to set up a C3 leaf diel model #\n",
    "########################################################\n",
    "def setupC3DielModel(core_model,transferMets,starch_sucrose_ratio=90.0/100):\n",
    "    from cobra.core import Metabolite, Reaction\n",
    "    import re\n",
    "\n",
    "    #create two copies of model elements for day and night\n",
    "    cobra_model2 = core_model.copy()\n",
    "    for met in cobra_model2.metabolites:\n",
    "        met.id = met.id+\"1\"\n",
    "        met.compartment = met.compartment+\"1\"\n",
    "    for rxn in cobra_model2.reactions:\n",
    "        rxn.id = rxn.id+\"1\"\n",
    "\n",
    "    cobra_model3 = core_model.copy()\n",
    "    for met in cobra_model3.metabolites:\n",
    "        met.id = met.id+\"2\"\n",
    "        met.compartment = met.compartment+\"2\"\n",
    "    for rxn in cobra_model3.reactions:\n",
    "        rxn.id = rxn.id+\"2\"\n",
    "\n",
    "    #merge the day and night model\n",
    "    cobra_model = cobra_model2+cobra_model3\n",
    "    for met in cobra_model3.metabolites:\n",
    "        if not cobra_model.metabolites.__contains__(met.id):\n",
    "            cobra_model.add_metabolites(met.copy())\n",
    "\n",
    "    met1 = Metabolite(\"X_Phloem_contribution_t1\",name=\"Phloem output during the day\")\n",
    "    cobra_model.reactions.get_by_id(\"Phloem_output_tx1\").add_metabolites({met1:1})\n",
    "    met2 = Metabolite(\"X_Phloem_contribution_t2\",name=\"Phloem output during at night\")\n",
    "    cobra_model.reactions.get_by_id(\"Phloem_output_tx2\").add_metabolites({met2:1})\n",
    "\n",
    "    rxn = Reaction(\"diel_biomass\")\n",
    "    rxn.add_metabolites({met1:-3,met2:-1})\n",
    "    rxn.lower_bound = 0\n",
    "    rxn.upper_bound = 1000\n",
    "    cobra_model.add_reaction(rxn)\n",
    "\n",
    "    #Adding reactions to allow for day-night metabolite accumulations\n",
    "    tmfile = open(transferMets,\"r\")\n",
    "    tmset=set()\n",
    "    for line in tmfile:\n",
    "        tmset.add(line.replace(\"\\n\",\"\"))\n",
    "\n",
    "    for met in tmset:\n",
    "        if met == \"AMMONIUM_v\" or met==\"FRUCTAN_v\":\n",
    "            continue\n",
    "        tempRxn = Reaction(met+\"_dielTransfer\")\n",
    "        tempRxn.add_metabolites({cobra_model.metabolites.get_by_id(met+\"1\"):-1,cobra_model.metabolites.get_by_id(met+\"2\"):1})\n",
    "        tempRxn.lower_bound=-1000\n",
    "        if not ((met == \"STARCH_p\") or (met == \"SUCROSE_v\") or (met == \"MAL_v\") or (met == \"aMAL_v\") or (met == \"NITRATE_v\") or (met == \"CIT_v\") or (met == \"aCIT_v\") or (met == \"PROTON_v\")):\n",
    "            tempRxn.lower_bound=0\n",
    "        tempRxn.upper_bound=1000\n",
    "        cobra_model.add_reaction(tempRxn)\n",
    "\n",
    "    fractionMets=dict()\n",
    "    for rxn in cobra_model.reactions:\n",
    "        for met in rxn.metabolites.keys():\n",
    "            prefix=\"\"\n",
    "            a=re.search(\"^a{1,3}\",met.id)\n",
    "            anion=\"\"\n",
    "            if a:\n",
    "                anion=a.group(0)\n",
    "                prefix=anion\n",
    "            b=re.search(\"^b{1,3}\",met.id)\n",
    "            basic=\"\"\n",
    "            if b:\n",
    "                basic=b.group(0)\n",
    "                prefix=basic\n",
    "            if ((not prefix == \"\") and met.compartment == \"v1\"):\n",
    "                fractionMets[met]=prefix\n",
    "\n",
    "    temp=cobra_model.copy()\n",
    "    for met in fractionMets.keys():\n",
    "        for rxn in met.reactions:\n",
    "            if rxn.id.__contains__(\"_dielTransfer\"):\n",
    "                continue\n",
    "            else:\n",
    "                mainMet = met.id[len(fractionMets[met]):]\n",
    "                coeff1 = temp.reactions.get_by_id(rxn.id).metabolites.get(temp.metabolites.get_by_id(mainMet))\n",
    "                coeff2 = temp.reactions.get_by_id(rxn.id).metabolites.get(temp.metabolites.get_by_id(met.id))\n",
    "                if not coeff1:\n",
    "                    coeff1=0\n",
    "                if not coeff2:\n",
    "                    coeff2=0\n",
    "                total = coeff1 + coeff2\n",
    "                coeff1 = float(coeff1)/total\n",
    "                coeff2 = float(coeff2)/total\n",
    "                if cobra_model.reactions.has_id(met.id[0:len(met.id)-1]+\"_dielTransfer\"):\n",
    "                    ub = temp.reactions.get_by_id(met.id[0:len(met.id)-1]+\"_dielTransfer\").upper_bound\n",
    "                    lb = temp.reactions.get_by_id(met.id[0:len(met.id)-1]+\"_dielTransfer\").lower_bound\n",
    "                    temp.reactions.get_by_id(met.id[0:len(met.id)-1]+\"_dielTransfer\").remove_from_model()\n",
    "                    temp.reactions.get_by_id(mainMet[0:len(mainMet)-1]+\"_dielTransfer\").remove_from_model()\n",
    "                    Reac = Reaction(mainMet[0:len(mainMet)-1]+\"_dielTransfer\",name=mainMet+\"_dielTransfer\")\n",
    "                    Reac.add_metabolites({temp.metabolites.get_by_id(met.id[0:len(met.id)-1]+\"1\"):-coeff2,temp.metabolites.get_by_id(met.id[0:len(met.id)-1]+\"2\"):coeff2,temp.metabolites.get_by_id(mainMet[0:len(mainMet)-1]+\"1\"):-coeff1,temp.metabolites.get_by_id(mainMet[0:len(mainMet)-1]+\"2\"):coeff1})\n",
    "                    Reac.lower_bound=lb\n",
    "                    Reac.upper_bound=ub\n",
    "                    temp.add_reaction(Reac)\n",
    "                    print Reac.reaction\n",
    "                break\n",
    "    ####ADD CONSTRAINTS TO MODEL####\n",
    "    cobra_model = temp.copy()\n",
    "\n",
    "    #objective function\n",
    "    cobra_model.reactions.get_by_id(\"diel_biomass\").objective_coefficient=1\n",
    "    #Leaves - light\n",
    "    cobra_model.reactions.get_by_id(\"Sucrose_tx1\").lower_bound=0\n",
    "    cobra_model.reactions.get_by_id(\"Sucrose_tx1\").upper_bound=0\n",
    "    cobra_model.reactions.get_by_id(\"GLC_tx1\").lower_bound=0\n",
    "    cobra_model.reactions.get_by_id(\"GLC_tx1\").upper_bound=0\n",
    "    cobra_model.reactions.get_by_id(\"CO2_tx1\").lower_bound=0\n",
    "    cobra_model.reactions.get_by_id(\"NH4_tx1\").lower_bound=0\n",
    "    cobra_model.reactions.get_by_id(\"NH4_tx1\").upper_bound=0\n",
    "    #Leaves - dark\n",
    "    cobra_model.reactions.get_by_id(\"Sucrose_tx2\").lower_bound=0\n",
    "    cobra_model.reactions.get_by_id(\"Sucrose_tx2\").upper_bound=0\n",
    "    cobra_model.reactions.get_by_id(\"GLC_tx2\").lower_bound=0\n",
    "    cobra_model.reactions.get_by_id(\"GLC_tx2\").upper_bound=0\n",
    "    cobra_model.reactions.get_by_id(\"Photon_tx2\").lower_bound=0\n",
    "    cobra_model.reactions.get_by_id(\"Photon_tx2\").upper_bound=0\n",
    "    cobra_model.reactions.get_by_id(\"NH4_tx2\").lower_bound=0\n",
    "    cobra_model.reactions.get_by_id(\"NH4_tx2\").upper_bound=0\n",
    "    cobra_model.reactions.get_by_id(\"CO2_tx2\").upper_bound=0\n",
    "\n",
    "    #Set pG6P transporter to 0\n",
    "    cobra_model.reactions.get_by_id(\"G6P_Pi_pc1\").lower_bound=0\n",
    "    cobra_model.reactions.get_by_id(\"G6P_Pi_pc1\").upper_bound=0\n",
    "    cobra_model.reactions.get_by_id(\"G6P_Pi_pc2\").lower_bound=0\n",
    "    cobra_model.reactions.get_by_id(\"G6P_Pi_pc2\").upper_bound=0\n",
    "\n",
    "    #Turn off PTOX\n",
    "    cobra_model.reactions.get_by_id(\"Plastoquinol_Oxidase_p1\").lower_bound=0\n",
    "    cobra_model.reactions.get_by_id(\"Plastoquinol_Oxidase_p1\").upper_bound=0\n",
    "\n",
    "    #nitrate uptake constrain\n",
    "    Nitrate_balance = Metabolite(\"Nitrate_bal_c\", name = \"Weights to balance nitrate uptake\", compartment = \"c1\")\n",
    "    cobra_model.reactions.get_by_id(\"Nitrate_ec1\").add_metabolites({Nitrate_balance:-2})\n",
    "    cobra_model.reactions.get_by_id(\"Nitrate_ec2\").add_metabolites({Nitrate_balance:3})\n",
    "\n",
    "    #Rubisco balance\n",
    "    Rubisco_balance = Metabolite(\"rubisco_bal_p1\", name = \"Weights to balance RuBP carboxygenase oxygenase balance\", compartment = \"p1\")\n",
    "    cobra_model.reactions.get_by_id(\"RXN_961_p1\").add_metabolites({Rubisco_balance:3})\n",
    "    cobra_model.reactions.get_by_id(\"RIBULOSE_BISPHOSPHATE_CARBOXYLASE_RXN_p1\").add_metabolites({Rubisco_balance:-1})\n",
    "\n",
    "    #generic ATPase and NADPH oxidase\n",
    "    Maintenance_constraint = Metabolite(\"ATPase_NADPHoxidase_constraint_c1\",name =  \"ATPase_NADPHoxidase_constraint_c1\", compartment = \"c1\")\n",
    "    Maintenance_constraint2 = Metabolite(\"ATPase_NADPHoxidase_constraint_c2\",name =  \"ATPase_NADPHoxidase_constraint_c2\", compartment = \"c2\")\n",
    "    Maintenance_constraint3 = Metabolite(\"Light_dark_maintainence_constraint\",name =  \"Light_dark_maintainence_constraint\", compartment = \"c1\")\n",
    "    cobra_model.reactions.get_by_id(\"ATPase_tx1\").add_metabolites({Maintenance_constraint:1,Maintenance_constraint3:1})\n",
    "    cobra_model.reactions.get_by_id(\"ATPase_tx2\").add_metabolites({Maintenance_constraint2:1,Maintenance_constraint3:-1})\n",
    "    cobra_model.reactions.get_by_id(\"NADPHoxc_tx1\").add_metabolites({Maintenance_constraint:-3})\n",
    "    cobra_model.reactions.get_by_id(\"NADPHoxc_tx2\").add_metabolites({Maintenance_constraint2:-3})\n",
    "    cobra_model.reactions.get_by_id(\"NADPHoxm_tx1\").add_metabolites({Maintenance_constraint:-3})\n",
    "    cobra_model.reactions.get_by_id(\"NADPHoxm_tx2\").add_metabolites({Maintenance_constraint2:-3})\n",
    "    cobra_model.reactions.get_by_id(\"NADPHoxp_tx1\").add_metabolites({Maintenance_constraint:-3})\n",
    "    cobra_model.reactions.get_by_id(\"NADPHoxp_tx2\").add_metabolites({Maintenance_constraint2:-3})\n",
    "\n",
    "    ##constrain sucrose and starch storage\n",
    "    Sucorse_starch_balance = Metabolite(\"sucrose_starch_bal_c\", name = \"Weights to balance sucrose-starch uptake\", compartment = \"c1\")\n",
    "    cobra_model.reactions.get_by_id(\"SUCROSE_v_dielTransfer\").add_metabolites({Sucorse_starch_balance:-1*starch_sucrose_ratio})\n",
    "    cobra_model.reactions.get_by_id(\"STARCH_p_dielTransfer\").add_metabolites({Sucorse_starch_balance:1})\n",
    "\n",
    "    #Plastid enolase was not detected in Arabidopsis mesophyll tissue\n",
    "    cobra_model.reactions.get_by_id(\"2PGADEHYDRAT_RXN_p1\").lower_bound=0\n",
    "    cobra_model.reactions.get_by_id(\"2PGADEHYDRAT_RXN_p1\").upper_bound=0\n",
    "    cobra_model.reactions.get_by_id(\"2PGADEHYDRAT_RXN_p2\").lower_bound=0\n",
    "    cobra_model.reactions.get_by_id(\"2PGADEHYDRAT_RXN_p2\").upper_bound=0\n",
    "\n",
    "    #Setting chloroplastic NADPH dehydrogenase to 0  ((Yamamoto et al., 2011)\n",
    "    cobra_model.reactions.get_by_id(\"NADPH_Dehydrogenase_p1\").lower_bound=0\n",
    "    cobra_model.reactions.get_by_id(\"NADPH_Dehydrogenase_p1\").upper_bound=0\n",
    "    cobra_model.reactions.get_by_id(\"NADPH_Dehydrogenase_p2\").lower_bound=0\n",
    "    cobra_model.reactions.get_by_id(\"NADPH_Dehydrogenase_p2\").upper_bound=0\n",
    "\n",
    "    #ATP_ADP_Pi constrained to 0 because while there is evidence for its existance, it does not carry flux during the day\n",
    "    cobra_model.reactions.get_by_id(\"ATP_ADP_Pi_pc1\").lower_bound = 0\n",
    "    cobra_model.reactions.get_by_id(\"ATP_ADP_Pi_pc1\").upper_bound = 0\n",
    "\n",
    "    return cobra_model\n"
   ]
  },
  {
   "cell_type": "code",
   "execution_count": 11,
   "metadata": {},
   "outputs": [
    {
     "name": "stdout",
     "output_type": "stream",
     "text": [
      "0.5 CIT_v1 + 0.5 aCIT_v1 <=> 0.5 CIT_v2 + 0.5 aCIT_v2\n",
      "0.7 MAL_v1 + 0.3 aMAL_v1 <=> 0.7 MAL_v2 + 0.3 aMAL_v2\n",
      "bHIS_v1 --> bHIS_v2\n"
     ]
    }
   ],
   "source": [
    "leaf_model = model.copy()\n",
    "\n",
    "from sweetlovegroup import transform\n",
    "leaf_model = setupC3DielModel(leaf_model,\"MetabolitesToTransfer.txt\",starch_sucrose_ratio=5)\n",
    "\n",
    "for rxn in leaf_model.reactions:\n",
    "    if rxn.lower_bound==-1000:\n",
    "        rxn.lower_bound=-2000\n",
    "    if rxn.upper_bound==1000:\n",
    "        rxn.upper_bound=2000\n",
    "\n",
    "leaf_model.reactions.diel_biomass.objective_coefficient=1\n",
    "sol = flux_analysis.parsimonious.pfba(leaf_model)"
   ]
  },
  {
   "cell_type": "markdown",
   "metadata": {},
   "source": [
    "### Scenario 1\n",
    "\n",
    "PPFD = 1500  \n",
    "\\[CO2\\] = 400  \n",
    "net CO2 uptake rate = 21.645569620253173 ([Kannan et al 2019](https://doi.org/10.1093/insilicoplants/diz008))"
   ]
  },
  {
   "cell_type": "code",
   "execution_count": 34,
   "metadata": {},
   "outputs": [
    {
     "name": "stdout",
     "output_type": "stream",
     "text": [
      "1500\n",
      "4\n",
      "21.6455696203\n",
      "Phloem output = \n",
      "0.499446983254\n"
     ]
    }
   ],
   "source": [
    "PPFD = 1500\n",
    "ATPase = (0.0049*PPFD) + 2.7851\n",
    "\n",
    "from sweetlovegroup import analysis\n",
    "temp = leaf_model.copy()\n",
    "temp.reactions.get_by_id(\"Photon_tx1\").lower_bound = 0\n",
    "temp.reactions.get_by_id(\"Photon_tx1\").upper_bound = PPFD\n",
    "temp.reactions.get_by_id(\"ATPase_tx1\").lower_bound = 4\n",
    "temp.reactions.get_by_id(\"ATPase_tx1\").upper_bound = 4\n",
    "out_400 = analysis.estimateOutputFromNetCO2(temp,21.645569620253173)\n",
    "\n",
    "leaf_model_400 = leaf_model.copy()\n",
    "leaf_model_400.reactions.get_by_id(\"Photon_tx1\").lower_bound = 0\n",
    "leaf_model_400.reactions.get_by_id(\"Photon_tx1\").upper_bound = PPFD\n",
    "leaf_model_400.reactions.get_by_id(\"ATPase_tx1\").lower_bound = 4\n",
    "leaf_model_400.reactions.get_by_id(\"ATPase_tx1\").upper_bound = 4\n",
    "leaf_model_400.reactions.diel_biomass.lower_bound = out_400\n",
    "leaf_model_400.reactions.diel_biomass.upper_bound = out_400\n",
    "sol = flux_analysis.parsimonious.pfba(leaf_model_400)\n",
    "print(\"Phloem output = \")\n",
    "print(leaf_model_400.reactions.diel_biomass.flux)\n",
    "\n",
    "\n",
    "totalTranscript_400 = dict()\n",
    "for rxn in leaf_model.reactions:\n",
    "    x=0\n",
    "    for gene in rxn.genes:\n",
    "        #print gene\n",
    "        y = df_amb[df_amb[\"Glyma2.0\"]==gene.id][df_amb.columns[17:]].mean().mean()\n",
    "        #print y\n",
    "        if pd.isna(y):\n",
    "            x = x + 0\n",
    "        else:\n",
    "            x = x + y\n",
    "    totalTranscript_400[rxn.id]=x"
   ]
  },
  {
   "cell_type": "markdown",
   "metadata": {},
   "source": [
    "### Scenario 2\n",
    "\n",
    "PPFD = 1500  \n",
    "\\[CO2\\] = 550  \n",
    "net CO2 uptake rate = 24.43037974683546 ([Kannan et al 2019](https://doi.org/10.1093/insilicoplants/diz008))"
   ]
  },
  {
   "cell_type": "code",
   "execution_count": 13,
   "metadata": {},
   "outputs": [
    {
     "name": "stdout",
     "output_type": "stream",
     "text": [
      "1500\n",
      "4\n",
      "24.4303797468\n",
      "Phloem output = \n",
      "0.567924348284\n"
     ]
    }
   ],
   "source": [
    "PPFD = 1500\n",
    "ATPase = (0.0049*PPFD) + 2.7851\n",
    "\n",
    "from sweetlovegroup import analysis\n",
    "temp = leaf_model.copy()\n",
    "temp.reactions.get_by_id(\"Photon_tx1\").lower_bound = 0\n",
    "temp.reactions.get_by_id(\"Photon_tx1\").upper_bound = PPFD\n",
    "temp.reactions.get_by_id(\"ATPase_tx1\").lower_bound = 4\n",
    "temp.reactions.get_by_id(\"ATPase_tx1\").upper_bound = 4\n",
    "out_550 = analysis.estimateOutputFromNetCO2(temp,24.43037974683546)\n",
    "\n",
    "leaf_model_550 = leaf_model.copy()\n",
    "leaf_model_550.reactions.get_by_id(\"Photon_tx1\").lower_bound = 0\n",
    "leaf_model_550.reactions.get_by_id(\"Photon_tx1\").upper_bound = PPFD\n",
    "leaf_model_550.reactions.get_by_id(\"ATPase_tx1\").lower_bound = 4\n",
    "leaf_model_550.reactions.get_by_id(\"ATPase_tx1\").upper_bound = 4\n",
    "leaf_model_550.reactions.diel_biomass.lower_bound = out_550\n",
    "leaf_model_550.reactions.diel_biomass.upper_bound = out_550\n",
    "sol = flux_analysis.parsimonious.pfba(leaf_model_550)\n",
    "print(\"Phloem output = \")\n",
    "print(leaf_model_550.reactions.diel_biomass.flux)\n",
    "\n",
    "\n",
    "totalTranscript_550 = dict()\n",
    "for rxn in leaf_model.reactions:\n",
    "    x=0\n",
    "    for gene in rxn.genes:\n",
    "        #print gene\n",
    "        y = df_ele[df_ele[\"Glyma2.0\"]==gene.id][df_ele.columns[17:]].mean().mean()\n",
    "        #print y\n",
    "        if pd.isna(y):\n",
    "            x = x + 0\n",
    "        else:\n",
    "            x = x + y\n",
    "    totalTranscript_550[rxn.id]=x"
   ]
  },
  {
   "cell_type": "markdown",
   "metadata": {},
   "source": [
    "### Scenario 3\n",
    "\n",
    "PPFD = 400  \n",
    "\\[CO2\\] = 400  \n",
    "net CO2 uptake rate = 21.645569620253173 ([Kannan et al 2019](https://doi.org/10.1093/insilicoplants/diz008))"
   ]
  },
  {
   "cell_type": "code",
   "execution_count": 14,
   "metadata": {},
   "outputs": [
    {
     "name": "stdout",
     "output_type": "stream",
     "text": [
      "400\n",
      "4\n",
      "21.6455696203\n",
      "Phloem output = \n",
      "0.499446983252\n"
     ]
    }
   ],
   "source": [
    "PPFD = 400\n",
    "ATPase = (0.0049*PPFD) + 2.7851\n",
    "\n",
    "from sweetlovegroup import analysis\n",
    "temp = leaf_model.copy()\n",
    "temp.reactions.get_by_id(\"Photon_tx1\").lower_bound = 0\n",
    "temp.reactions.get_by_id(\"Photon_tx1\").upper_bound = PPFD\n",
    "temp.reactions.get_by_id(\"ATPase_tx1\").lower_bound = 4\n",
    "temp.reactions.get_by_id(\"ATPase_tx1\").upper_bound = 4\n",
    "out_400 = analysis.estimateOutputFromNetCO2(temp,21.645569620253173)\n",
    "\n",
    "leaf_model_budRemove = leaf_model.copy()\n",
    "leaf_model_budRemove.reactions.get_by_id(\"Photon_tx1\").lower_bound = 0\n",
    "leaf_model_budRemove.reactions.get_by_id(\"Photon_tx1\").upper_bound = PPFD\n",
    "leaf_model_budRemove.reactions.get_by_id(\"ATPase_tx1\").lower_bound = 4\n",
    "leaf_model_budRemove.reactions.get_by_id(\"ATPase_tx1\").upper_bound = 4\n",
    "leaf_model_budRemove.reactions.diel_biomass.lower_bound = out_400\n",
    "leaf_model_budRemove.reactions.diel_biomass.upper_bound = out_400\n",
    "sol = flux_analysis.parsimonious.pfba(leaf_model_budRemove)\n",
    "print(\"Phloem output = \")\n",
    "print(leaf_model_budRemove.reactions.diel_biomass.flux)\n",
    "\n",
    "\n",
    "totalTranscript_budRemove = dict()\n",
    "for rxn in leaf_model.reactions:\n",
    "    x=0\n",
    "    for gene in rxn.genes:\n",
    "        #print gene\n",
    "        y = df_budRemove[df_budRemove[\"Glyma2.0\"]==gene.id][df_budRemove.columns[17:]].mean().mean()\n",
    "        #print y\n",
    "        if pd.isna(y):\n",
    "            x = x + 0\n",
    "        else:\n",
    "            x = x + y\n",
    "    totalTranscript_budRemove[rxn.id]=x"
   ]
  },
  {
   "cell_type": "markdown",
   "metadata": {},
   "source": [
    "### Scenario 4\n",
    "\n",
    "PPFD = 350  \n",
    "\\[CO2\\] = 380  \n",
    "net CO2 uptake rate = 12 (\\[CO2\\]=370) ([Haile nd Higley 2003](https://doi.org/10.1603/0046-225x-32.3.433))"
   ]
  },
  {
   "cell_type": "code",
   "execution_count": 15,
   "metadata": {},
   "outputs": [
    {
     "name": "stdout",
     "output_type": "stream",
     "text": [
      "400\n",
      "4\n",
      "12\n",
      "Phloem output = \n",
      "0.262112136056\n"
     ]
    }
   ],
   "source": [
    "PPFD = 400\n",
    "ATPase = (0.0049*PPFD) + 2.7851\n",
    "\n",
    "from sweetlovegroup import analysis\n",
    "temp = leaf_model.copy()\n",
    "temp.reactions.get_by_id(\"Photon_tx1\").lower_bound = 0\n",
    "temp.reactions.get_by_id(\"Photon_tx1\").upper_bound = PPFD\n",
    "temp.reactions.get_by_id(\"ATPase_tx1\").lower_bound = 4\n",
    "temp.reactions.get_by_id(\"ATPase_tx1\").upper_bound = 4\n",
    "out_370 = analysis.estimateOutputFromNetCO2(temp,12)\n",
    "\n",
    "leaf_model_heatShock = leaf_model.copy()\n",
    "leaf_model_heatShock.reactions.get_by_id(\"Photon_tx1\").lower_bound = 0\n",
    "leaf_model_heatShock.reactions.get_by_id(\"Photon_tx1\").upper_bound = PPFD\n",
    "leaf_model_heatShock.reactions.get_by_id(\"ATPase_tx1\").lower_bound = 4\n",
    "leaf_model_heatShock.reactions.get_by_id(\"ATPase_tx1\").upper_bound = 4\n",
    "leaf_model_heatShock.reactions.diel_biomass.lower_bound = out_370\n",
    "leaf_model_heatShock.reactions.diel_biomass.upper_bound = out_370\n",
    "sol = flux_analysis.parsimonious.pfba(leaf_model_heatShock)\n",
    "print(\"Phloem output = \")\n",
    "print(leaf_model_heatShock.reactions.diel_biomass.flux)\n",
    "\n",
    "\n",
    "totalTranscript_heatShock = dict()\n",
    "for rxn in leaf_model.reactions:\n",
    "    x=0\n",
    "    for gene in rxn.genes:\n",
    "        #print gene\n",
    "        y = df_heatShock[df_heatShock[\"Glyma2.0\"]==gene.id][df_heatShock.columns[17:]].mean().mean()\n",
    "        #print y\n",
    "        if pd.isna(y):\n",
    "            x = x + 0\n",
    "        else:\n",
    "            x = x + y\n",
    "    totalTranscript_heatShock[rxn.id]=x"
   ]
  },
  {
   "cell_type": "markdown",
   "metadata": {},
   "source": [
    "### Scenario 5\n",
    "\n",
    "PPFD = 200  \n",
    "\\[CO2\\] = ? , assuming 390 based on publication date and CO2 data from the year (https://www.co2.earth/monthly-co2)  \n",
    "net CO2 uptake rate = 4.693877551020307 (\\[CO2\\]=390 and assuming Ci = 0.72\\*390 = 280.8) ([Bunce et al 2019](https://doi.org/10.1093/insilicoplants/diz008))"
   ]
  },
  {
   "cell_type": "code",
   "execution_count": 16,
   "metadata": {},
   "outputs": [
    {
     "name": "stdout",
     "output_type": "stream",
     "text": [
      "200\n",
      "4\n",
      "4.69387755102\n",
      "Phloem output = \n",
      "0.084150928083\n"
     ]
    }
   ],
   "source": [
    "PPFD = 200\n",
    "ATPase = (0.0049*PPFD) + 2.7851\n",
    "\n",
    "from sweetlovegroup import analysis\n",
    "temp = leaf_model.copy()\n",
    "temp.reactions.get_by_id(\"Photon_tx1\").lower_bound = 0\n",
    "temp.reactions.get_by_id(\"Photon_tx1\").upper_bound = PPFD\n",
    "temp.reactions.get_by_id(\"ATPase_tx1\").lower_bound = 4\n",
    "temp.reactions.get_by_id(\"ATPase_tx1\").upper_bound = 4\n",
    "out_370 = analysis.estimateOutputFromNetCO2(temp,4.693877551020307)\n",
    "\n",
    "leaf_model_mycInfect = leaf_model.copy()\n",
    "leaf_model_mycInfect.reactions.get_by_id(\"Photon_tx1\").lower_bound = 0\n",
    "leaf_model_mycInfect.reactions.get_by_id(\"Photon_tx1\").upper_bound = PPFD\n",
    "leaf_model_mycInfect.reactions.get_by_id(\"ATPase_tx1\").lower_bound = 4\n",
    "leaf_model_mycInfect.reactions.get_by_id(\"ATPase_tx1\").upper_bound = 4\n",
    "leaf_model_mycInfect.reactions.diel_biomass.lower_bound = out_370\n",
    "leaf_model_mycInfect.reactions.diel_biomass.upper_bound = out_370\n",
    "sol = flux_analysis.parsimonious.pfba(leaf_model_mycInfect)\n",
    "print(\"Phloem output = \")\n",
    "print(leaf_model_mycInfect.reactions.diel_biomass.flux)\n",
    "\n",
    "\n",
    "totalTranscript_mycInfect = dict()\n",
    "for rxn in leaf_model.reactions:\n",
    "    x=0\n",
    "    for gene in rxn.genes:\n",
    "        #print gene\n",
    "        y = df_mycInfect[df_mycInfect[\"Glyma2.0\"]==gene.id][df_mycInfect.columns[17:]].mean().mean()\n",
    "        #print y\n",
    "        if pd.isna(y):\n",
    "            x = x + 0\n",
    "        else:\n",
    "            x = x + y\n",
    "    totalTranscript_mycInfect[rxn.id]=x"
   ]
  },
  {
   "cell_type": "code",
   "execution_count": 17,
   "metadata": {},
   "outputs": [],
   "source": [
    "modelDict = dict()\n",
    "modelDict[1] = leaf_model_400\n",
    "modelDict[2] = leaf_model_550\n",
    "modelDict[3] = leaf_model_budRemove\n",
    "modelDict[4] = leaf_model_heatShock\n",
    "modelDict[5] = leaf_model_mycInfect\n",
    "\n",
    "totalTranscriptDict = dict()\n",
    "totalTranscriptDict[1] = totalTranscript_400\n",
    "totalTranscriptDict[2] = totalTranscript_550\n",
    "totalTranscriptDict[3] = totalTranscript_budRemove\n",
    "totalTranscriptDict[4] = totalTranscript_heatShock\n",
    "totalTranscriptDict[5] = totalTranscript_mycInfect"
   ]
  },
  {
   "cell_type": "code",
   "execution_count": 18,
   "metadata": {},
   "outputs": [
    {
     "name": "stdout",
     "output_type": "stream",
     "text": [
      "1-2\n",
      "INORGPYROPHOSPHAT_RXN_p1\n",
      "1.0071318115906047\n",
      "1\n",
      "--------------\n",
      "1-3\n",
      "ALANINE_AMINOTRANSFERASE_RXN_c1\n",
      "0.9944036769729111\n",
      "1\n",
      "SHIKIMATE_KINASE_RXN_p1\n",
      "1.001633882847672\n",
      "2\n",
      "GLUTAMINESYN_RXN_c1\n",
      "0.9865517598494091\n",
      "3\n",
      "GLUTAMINESYN_RXN_m1\n",
      "0.9865517598499515\n",
      "4\n",
      "GPH_RXN_p1\n",
      "1.0126859397579502\n",
      "5\n",
      "PHOSPHORIBULOKINASE_RXN_p1\n",
      "0.9957709147659001\n",
      "6\n",
      "BRANCHED_CHAINAMINOTRANSFERLEU_RXN_p1\n",
      "1.0096343985074867\n",
      "7\n",
      "ATPPHOSPHORIBOSYLTRANS_RXN_p1\n",
      "0.9874198939265711\n",
      "8\n",
      "TRIOSEPISOMERIZATION_RXN_p1\n",
      "1.0006040038817492\n",
      "9\n",
      "2PGADEHYDRAT_RXN_c1\n",
      "1.0072084092830293\n",
      "10\n",
      "MALATE_DEHYDROGENASE_NADP_RXN_p1\n",
      "1.0117130616584715\n",
      "11\n",
      "--------------\n",
      "1-4\n",
      "--------------\n",
      "1-5\n",
      "--------------\n",
      "2-3\n",
      "SUCROSE_PHOSPHATASE_RXN_c1\n",
      "0.9901831589752683\n",
      "1\n",
      "GLUTAMATE_N_ACETYLTRANSFERASE_RXN_p1\n",
      "0.9977071641892307\n",
      "2\n",
      "--------------\n",
      "2-4\n",
      "--------------\n",
      "2-5\n",
      "--------------\n",
      "3-4\n",
      "--------------\n",
      "3-5\n",
      "--------------\n",
      "4-5\n",
      "--------------\n"
     ]
    }
   ],
   "source": [
    "import numpy as np\n",
    "df_ratiosDict = dict()\n",
    "for i in range(1,6):\n",
    "    for j in range(i+1,6):\n",
    "        print(str(i)+\"-\"+str(j))\n",
    "        rxnList = list()\n",
    "        transcriptList = list()\n",
    "        fluxList = list()\n",
    "        x=1\n",
    "        for rxnID in totalTranscriptDict[i].keys():\n",
    "            if rxnID[len(rxnID)-1]==\"2\":\n",
    "                continue\n",
    "            rxnList.append(rxnID)\n",
    "            a=0\n",
    "            b=0\n",
    "            if round(totalTranscriptDict[j][rxnID],3)==0 and round(totalTranscriptDict[i][rxnID],3)==0:\n",
    "                transcriptList.append(0)\n",
    "            elif round(totalTranscriptDict[j][rxnID],3)==0:\n",
    "                transcriptList.append(np.nan)\n",
    "            else:\n",
    "                a = totalTranscriptDict[i][rxnID]/totalTranscriptDict[j][rxnID]\n",
    "                transcriptList.append(a)\n",
    "            if round(modelDict[i].reactions.get_by_id(rxnID).flux,3)==0 and round(modelDict[j].reactions.get_by_id(rxnID).flux,3)==0:\n",
    "                fluxList.append(0)\n",
    "            elif round(modelDict[j].reactions.get_by_id(rxnID).flux,3)==0:\n",
    "                fluxList.append(np.nan)\n",
    "            else:\n",
    "                b = modelDict[i].reactions.get_by_id(rxnID).flux/modelDict[j].reactions.get_by_id(rxnID).flux\n",
    "                fluxList.append(b)\n",
    "            if not (a==0 and b==0):\n",
    "                if b == 0:\n",
    "                    continue\n",
    "                if round(a/b,2)>0.98 and round(a/b,2)<1.02:\n",
    "                    print rxnID\n",
    "                    print a/b\n",
    "                    print x\n",
    "                    x=x+1\n",
    "        \n",
    "        print(\"--------------\")\n",
    "        df_ratios = pd.DataFrame(data={\"rxn ID\":rxnList,\"Transcript ratio\":transcriptList,\"Flux ratio\":fluxList})\n",
    "        df_ratiosDict[str(i)+\"-\"+str(j)]=df_ratios\n",
    "    "
   ]
  },
  {
   "cell_type": "code",
   "execution_count": 19,
   "metadata": {},
   "outputs": [],
   "source": [
    "\n",
    "PCCdict=dict()\n"
   ]
  },
  {
   "cell_type": "code",
   "execution_count": 20,
   "metadata": {},
   "outputs": [
    {
     "name": "stderr",
     "output_type": "stream",
     "text": [
      "/home/sanu/.local/lib/python2.7/site-packages/scipy/stats/stats.py:3038 \u001b[1;31mRuntimeWarning\u001b[0m: invalid value encountered in double_scalars\n"
     ]
    }
   ],
   "source": [
    "from scipy.stats import pearsonr\n",
    "\n",
    "\n",
    "for rxn in totalTranscriptDict[1].keys():\n",
    "    xlist = list()\n",
    "    ylist = list()\n",
    "    for i in range(1,6):\n",
    "        xlist.append(modelDict[i].reactions.get_by_id(rxn).flux)\n",
    "        ylist.append(totalTranscriptDict[i][rxn])\n",
    "    ans = pearsonr(xlist,ylist)  \n",
    "    PCCdict[rxn]=ans"
   ]
  },
  {
   "cell_type": "code",
   "execution_count": 21,
   "metadata": {},
   "outputs": [],
   "source": [
    "fout = open(\"Data/PPC_transcripts_fluxes_lightNotForced_constMaint_10_10_19.csv\",\"w\")\n",
    "\n",
    "for rxn in PCCdict.keys():\n",
    "    fout.write(rxn+\",\"+str(PCCdict[rxn][0])+\",\"+str(PCCdict[rxn][1])+\"\\n\")\n",
    "fout.close()"
   ]
  },
  {
   "cell_type": "code",
   "execution_count": 25,
   "metadata": {},
   "outputs": [],
   "source": [
    "rxn = \"SUCROSE_SYNTHASE_RXN_c1\"\n",
    "xlist = list()\n",
    "ylist = list()\n",
    "for i in range(1,6):\n",
    "    xlist.append(modelDict[i].reactions.get_by_id(rxn).flux)\n",
    "    ylist.append(totalTranscriptDict[i][rxn])"
   ]
  },
  {
   "cell_type": "code",
   "execution_count": 26,
   "metadata": {},
   "outputs": [
    {
     "data": {
      "text/plain": [
       "[0.014835058910007371,\n",
       " 0.0168690400497365,\n",
       " 0.014835058909959667,\n",
       " 0.007785508992527683,\n",
       " 0.0024995325175661436]"
      ]
     },
     "execution_count": 26,
     "metadata": {},
     "output_type": "execute_result"
    }
   ],
   "source": [
    "xlist"
   ]
  },
  {
   "cell_type": "code",
   "execution_count": 27,
   "metadata": {},
   "outputs": [
    {
     "data": {
      "text/plain": [
       "[16.244093349375,\n",
       " 15.220867541718752,\n",
       " 16.92877199385714,\n",
       " 21.772953956249996,\n",
       " 26.22324397875]"
      ]
     },
     "execution_count": 27,
     "metadata": {},
     "output_type": "execute_result"
    }
   ],
   "source": [
    "ylist"
   ]
  },
  {
   "cell_type": "markdown",
   "metadata": {},
   "source": [
    "## References\n",
    "- Kannan, K., Wang, Y., Lang, M., Challa, G. S., Long, S. P., & Marshall-Colon, A. (2019). Combining gene network, metabolic and leaf-level models shows means to future-proof soybean photosynthesis under rising CO2. In Silico Plants, 1(1), 1–18. https://doi.org/10.1093/insilicoplants/diz008\n",
    "- Haile, F. J., & Higley, L. G. (2003). Changes in Soybean Gas-Exchange After Moisture Stress and Spider Mite Injury. Environmental Entomology, 32(3), 433–440. https://doi.org/10.1603/0046-225x-32.3.433"
   ]
  },
  {
   "cell_type": "code",
   "execution_count": null,
   "metadata": {},
   "outputs": [],
   "source": []
  }
 ],
 "metadata": {
  "kernelspec": {
   "display_name": "Python 2",
   "language": "python",
   "name": "python2"
  },
  "language_info": {
   "codemirror_mode": {
    "name": "ipython",
    "version": 2
   },
   "file_extension": ".py",
   "mimetype": "text/x-python",
   "name": "python",
   "nbconvert_exporter": "python",
   "pygments_lexer": "ipython2",
   "version": "2.7.15+"
  }
 },
 "nbformat": 4,
 "nbformat_minor": 2
}
